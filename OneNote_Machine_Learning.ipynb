{
  "cells": [
    {
      "cell_type": "markdown",
      "metadata": {
        "colab_type": "text",
        "id": "view-in-github"
      },
      "source": [
        "<a href=\"https://colab.research.google.com/github/mohd-faizy/ML-DS-OneNote/blob/main/OneNote_Machine_Learning.ipynb\" target=\"_parent\"><img src=\"https://colab.research.google.com/assets/colab-badge.svg\" alt=\"Open In Colab\"/></a>"
      ]
    },
    {
      "cell_type": "markdown",
      "metadata": {
        "id": "UzA6lyTx1M6X"
      },
      "source": [
        "--- \n",
        "<strong> \n",
        "    <h1 align='center'>Machine Learning NoteBook</h1> \n",
        "</strong>\n",
        "\n",
        "---"
      ]
    },
    {
      "cell_type": "code",
      "execution_count": 1,
      "metadata": {
        "id": "K6R40Mh5sTjx"
      },
      "outputs": [],
      "source": [
        "import pandas as pd\n",
        "import numpy as np\n",
        "import matplotlib.pyplot as plt\n",
        "import seaborn as sns\n",
        "#import os\n",
        "\n",
        "plt.style.use('fivethirtyeight')\n",
        "#plt.style.use('ggplot')\n",
        "#sns.set_theme()\n",
        "\n",
        "%matplotlib inline"
      ]
    },
    {
      "cell_type": "markdown",
      "metadata": {
        "id": "xGOa-7J_Csai"
      },
      "source": [
        "# **01 - The Basics**"
      ]
    },
    {
      "cell_type": "markdown",
      "metadata": {
        "id": "8zzPjA18rae-"
      },
      "source": [
        "## **Statistics Reviews**\n",
        "\n"
      ]
    },
    {
      "cell_type": "code",
      "execution_count": 2,
      "metadata": {
        "colab": {
          "base_uri": "https://localhost:8080/"
        },
        "id": "VxaKpzaOjpOX",
        "outputId": "7072ba5b-0a8d-486c-c664-a924c98c0a21"
      },
      "outputs": [
        {
          "name": "stdout",
          "output_type": "stream",
          "text": [
            "Mean: 23.0\n",
            "Median: 22.0\n",
            "Percentile:25h, 50th & 75th [18. 22. 29.]\n",
            "standard deviation 6.342099196813483\n",
            "Variance: 40.22222222222222\n"
          ]
        }
      ],
      "source": [
        "ages = [15, 16, 18, 19, 22, 24, 29, 30, 34]\n",
        "perc = [25, 50 ,75]\n",
        "# Numpy Methods\n",
        "print('Mean: {}'.format(np.mean(ages)))\n",
        "print('Median: {}'.format(np.median(ages)))\n",
        "print('Percentile:25h, 50th & 75th {}'.format(np.percentile(ages, perc)))\n",
        "print('standard deviation {}'.format(np.std(ages)))\n",
        "print('Variance: {}'.format(np.var(ages)))"
      ]
    },
    {
      "cell_type": "code",
      "execution_count": 3,
      "metadata": {
        "colab": {
          "base_uri": "https://localhost:8080/"
        },
        "id": "RX4cJ2nLyiXu",
        "outputId": "d1d14970-2e48-40e1-a0a7-18e3a339619b"
      },
      "outputs": [
        {
          "name": "stdout",
          "output_type": "stream",
          "text": [
            "6.342099196813483\n",
            "40.22222222222222\n"
          ]
        }
      ],
      "source": [
        "# Standard Deviation\n",
        "def stdv(list):\n",
        "    sq_diff = []\n",
        "\n",
        "    for item in list:\n",
        "        # difference from the mean\n",
        "        diff = item - np.mean(list)\n",
        "\n",
        "        # For each difference finding the square value\n",
        "        sq_diff.append(np.square(diff))\n",
        "\n",
        "        # average    \n",
        "        std_ = np.sqrt(np.sum(sq_diff)/len(sq_diff))\n",
        "    return std_\n",
        "\n",
        "# Variance    \n",
        "def varc(list):\n",
        "    sq_diff = []\n",
        "\n",
        "    for item in list:\n",
        "        # difference from the mean\n",
        "        diff = item - np.mean(list)\n",
        "\n",
        "        # For each difference finding the square value\n",
        "        sq_diff.append(np.square(diff))\n",
        "\n",
        "        # average    \n",
        "        var_ = np.sum(sq_diff)/len(sq_diff)\n",
        "    return var_\n",
        "\n",
        "print(stdv(ages))\n",
        "print(varc(ages))"
      ]
    },
    {
      "cell_type": "markdown",
      "metadata": {
        "id": "AVNa6Gi6CoXD"
      },
      "source": [
        "## **Pandas**"
      ]
    },
    {
      "cell_type": "code",
      "execution_count": 4,
      "metadata": {
        "colab": {
          "base_uri": "https://localhost:8080/"
        },
        "id": "JPIbEYB4DGLi",
        "outputId": "cbed6369-6ca1-4abd-ed0b-f0c7aaec82b7"
      },
      "outputs": [
        {
          "name": "stdout",
          "output_type": "stream",
          "text": [
            "Downloading...\n",
            "From: https://drive.google.com/uc?id=1TSfo8GvbWG5bvKh4we292Co-U-O0nULQ\n",
            "To: /content/titanic.csv\n",
            "\r  0% 0.00/22.0k [00:00<?, ?B/s]\r100% 22.0k/22.0k [00:00<00:00, 1.48MB/s]\n"
          ]
        }
      ],
      "source": [
        "! gdown --id 1TSfo8GvbWG5bvKh4we292Co-U-O0nULQ"
      ]
    },
    {
      "cell_type": "code",
      "execution_count": 5,
      "metadata": {
        "colab": {
          "base_uri": "https://localhost:8080/"
        },
        "id": "7Wf6oQINEKmf",
        "outputId": "2b4376e4-4d07-4b92-af70-6bfe13dc1cdf"
      },
      "outputs": [
        {
          "name": "stdout",
          "output_type": "stream",
          "text": [
            "\u001b[0m\u001b[01;34msample_data\u001b[0m/  titanic.csv\n"
          ]
        }
      ],
      "source": [
        "ls"
      ]
    },
    {
      "cell_type": "code",
      "execution_count": 6,
      "metadata": {
        "colab": {
          "base_uri": "https://localhost:8080/",
          "height": 207
        },
        "id": "7hWbeMtlCOtL",
        "outputId": "42f337fb-6298-4fca-b11a-56fc0d332790"
      },
      "outputs": [
        {
          "name": "stdout",
          "output_type": "stream",
          "text": [
            "(887, 7)\n"
          ]
        },
        {
          "data": {
            "text/html": [
              "<div>\n",
              "<style scoped>\n",
              "    .dataframe tbody tr th:only-of-type {\n",
              "        vertical-align: middle;\n",
              "    }\n",
              "\n",
              "    .dataframe tbody tr th {\n",
              "        vertical-align: top;\n",
              "    }\n",
              "\n",
              "    .dataframe thead th {\n",
              "        text-align: right;\n",
              "    }\n",
              "</style>\n",
              "<table border=\"1\" class=\"dataframe\">\n",
              "  <thead>\n",
              "    <tr style=\"text-align: right;\">\n",
              "      <th></th>\n",
              "      <th>Survived</th>\n",
              "      <th>Pclass</th>\n",
              "      <th>Sex</th>\n",
              "      <th>Age</th>\n",
              "      <th>Siblings/Spouses</th>\n",
              "      <th>Parents/Children</th>\n",
              "      <th>Fare</th>\n",
              "    </tr>\n",
              "  </thead>\n",
              "  <tbody>\n",
              "    <tr>\n",
              "      <th>0</th>\n",
              "      <td>0</td>\n",
              "      <td>3</td>\n",
              "      <td>male</td>\n",
              "      <td>22.0</td>\n",
              "      <td>1</td>\n",
              "      <td>0</td>\n",
              "      <td>7.2500</td>\n",
              "    </tr>\n",
              "    <tr>\n",
              "      <th>1</th>\n",
              "      <td>1</td>\n",
              "      <td>1</td>\n",
              "      <td>female</td>\n",
              "      <td>38.0</td>\n",
              "      <td>1</td>\n",
              "      <td>0</td>\n",
              "      <td>71.2833</td>\n",
              "    </tr>\n",
              "    <tr>\n",
              "      <th>2</th>\n",
              "      <td>1</td>\n",
              "      <td>3</td>\n",
              "      <td>female</td>\n",
              "      <td>26.0</td>\n",
              "      <td>0</td>\n",
              "      <td>0</td>\n",
              "      <td>7.9250</td>\n",
              "    </tr>\n",
              "    <tr>\n",
              "      <th>3</th>\n",
              "      <td>1</td>\n",
              "      <td>1</td>\n",
              "      <td>female</td>\n",
              "      <td>35.0</td>\n",
              "      <td>1</td>\n",
              "      <td>0</td>\n",
              "      <td>53.1000</td>\n",
              "    </tr>\n",
              "    <tr>\n",
              "      <th>4</th>\n",
              "      <td>0</td>\n",
              "      <td>3</td>\n",
              "      <td>male</td>\n",
              "      <td>35.0</td>\n",
              "      <td>0</td>\n",
              "      <td>0</td>\n",
              "      <td>8.0500</td>\n",
              "    </tr>\n",
              "  </tbody>\n",
              "</table>\n",
              "</div>"
            ],
            "text/plain": [
              "   Survived  Pclass     Sex   Age  Siblings/Spouses  Parents/Children     Fare\n",
              "0         0       3    male  22.0                 1                 0   7.2500\n",
              "1         1       1  female  38.0                 1                 0  71.2833\n",
              "2         1       3  female  26.0                 0                 0   7.9250\n",
              "3         1       1  female  35.0                 1                 0  53.1000\n",
              "4         0       3    male  35.0                 0                 0   8.0500"
            ]
          },
          "execution_count": 6,
          "metadata": {
            "tags": []
          },
          "output_type": "execute_result"
        }
      ],
      "source": [
        "import pandas as pd\n",
        "df_titanic = pd.read_csv('/content/titanic.csv')\n",
        "print(df_titanic.shape)\n",
        "df_titanic.head()"
      ]
    },
    {
      "cell_type": "code",
      "execution_count": 7,
      "metadata": {
        "colab": {
          "base_uri": "https://localhost:8080/",
          "height": 277
        },
        "id": "BAm65kX5EpyG",
        "outputId": "d3173b6e-765b-4848-d635-c897de9278db"
      },
      "outputs": [
        {
          "data": {
            "text/html": [
              "<div>\n",
              "<style scoped>\n",
              "    .dataframe tbody tr th:only-of-type {\n",
              "        vertical-align: middle;\n",
              "    }\n",
              "\n",
              "    .dataframe tbody tr th {\n",
              "        vertical-align: top;\n",
              "    }\n",
              "\n",
              "    .dataframe thead th {\n",
              "        text-align: right;\n",
              "    }\n",
              "</style>\n",
              "<table border=\"1\" class=\"dataframe\">\n",
              "  <thead>\n",
              "    <tr style=\"text-align: right;\">\n",
              "      <th></th>\n",
              "      <th>Survived</th>\n",
              "      <th>Pclass</th>\n",
              "      <th>Age</th>\n",
              "      <th>Siblings/Spouses</th>\n",
              "      <th>Parents/Children</th>\n",
              "      <th>Fare</th>\n",
              "    </tr>\n",
              "  </thead>\n",
              "  <tbody>\n",
              "    <tr>\n",
              "      <th>count</th>\n",
              "      <td>887.000000</td>\n",
              "      <td>887.000000</td>\n",
              "      <td>887.000000</td>\n",
              "      <td>887.000000</td>\n",
              "      <td>887.000000</td>\n",
              "      <td>887.00000</td>\n",
              "    </tr>\n",
              "    <tr>\n",
              "      <th>mean</th>\n",
              "      <td>0.385569</td>\n",
              "      <td>2.305524</td>\n",
              "      <td>29.471443</td>\n",
              "      <td>0.525366</td>\n",
              "      <td>0.383315</td>\n",
              "      <td>32.30542</td>\n",
              "    </tr>\n",
              "    <tr>\n",
              "      <th>std</th>\n",
              "      <td>0.487004</td>\n",
              "      <td>0.836662</td>\n",
              "      <td>14.121908</td>\n",
              "      <td>1.104669</td>\n",
              "      <td>0.807466</td>\n",
              "      <td>49.78204</td>\n",
              "    </tr>\n",
              "    <tr>\n",
              "      <th>min</th>\n",
              "      <td>0.000000</td>\n",
              "      <td>1.000000</td>\n",
              "      <td>0.420000</td>\n",
              "      <td>0.000000</td>\n",
              "      <td>0.000000</td>\n",
              "      <td>0.00000</td>\n",
              "    </tr>\n",
              "    <tr>\n",
              "      <th>25%</th>\n",
              "      <td>0.000000</td>\n",
              "      <td>2.000000</td>\n",
              "      <td>20.250000</td>\n",
              "      <td>0.000000</td>\n",
              "      <td>0.000000</td>\n",
              "      <td>7.92500</td>\n",
              "    </tr>\n",
              "    <tr>\n",
              "      <th>50%</th>\n",
              "      <td>0.000000</td>\n",
              "      <td>3.000000</td>\n",
              "      <td>28.000000</td>\n",
              "      <td>0.000000</td>\n",
              "      <td>0.000000</td>\n",
              "      <td>14.45420</td>\n",
              "    </tr>\n",
              "    <tr>\n",
              "      <th>75%</th>\n",
              "      <td>1.000000</td>\n",
              "      <td>3.000000</td>\n",
              "      <td>38.000000</td>\n",
              "      <td>1.000000</td>\n",
              "      <td>0.000000</td>\n",
              "      <td>31.13750</td>\n",
              "    </tr>\n",
              "    <tr>\n",
              "      <th>max</th>\n",
              "      <td>1.000000</td>\n",
              "      <td>3.000000</td>\n",
              "      <td>80.000000</td>\n",
              "      <td>8.000000</td>\n",
              "      <td>6.000000</td>\n",
              "      <td>512.32920</td>\n",
              "    </tr>\n",
              "  </tbody>\n",
              "</table>\n",
              "</div>"
            ],
            "text/plain": [
              "         Survived      Pclass  ...  Parents/Children       Fare\n",
              "count  887.000000  887.000000  ...        887.000000  887.00000\n",
              "mean     0.385569    2.305524  ...          0.383315   32.30542\n",
              "std      0.487004    0.836662  ...          0.807466   49.78204\n",
              "min      0.000000    1.000000  ...          0.000000    0.00000\n",
              "25%      0.000000    2.000000  ...          0.000000    7.92500\n",
              "50%      0.000000    3.000000  ...          0.000000   14.45420\n",
              "75%      1.000000    3.000000  ...          0.000000   31.13750\n",
              "max      1.000000    3.000000  ...          6.000000  512.32920\n",
              "\n",
              "[8 rows x 6 columns]"
            ]
          },
          "execution_count": 7,
          "metadata": {
            "tags": []
          },
          "output_type": "execute_result"
        }
      ],
      "source": [
        "df_titanic.describe()"
      ]
    },
    {
      "cell_type": "code",
      "execution_count": 8,
      "metadata": {
        "colab": {
          "base_uri": "https://localhost:8080/"
        },
        "id": "weAi5CkNFBy9",
        "outputId": "fd0c5ea7-352a-4595-f6ac-f1ca2ad72398"
      },
      "outputs": [
        {
          "data": {
            "text/plain": [
              "0       7.2500\n",
              "1      71.2833\n",
              "2       7.9250\n",
              "3      53.1000\n",
              "4       8.0500\n",
              "        ...   \n",
              "882    13.0000\n",
              "883    30.0000\n",
              "884    23.4500\n",
              "885    30.0000\n",
              "886     7.7500\n",
              "Name: Fare, Length: 887, dtype: float64"
            ]
          },
          "execution_count": 8,
          "metadata": {
            "tags": []
          },
          "output_type": "execute_result"
        }
      ],
      "source": [
        "# Selecting the particular column\n",
        "df_titanic['Fare']"
      ]
    },
    {
      "cell_type": "code",
      "execution_count": 9,
      "metadata": {
        "colab": {
          "base_uri": "https://localhost:8080/",
          "height": 191
        },
        "id": "00lKkxtuFXyh",
        "outputId": "fa538631-07cc-457b-a4c2-4d720a626f74"
      },
      "outputs": [
        {
          "data": {
            "text/html": [
              "<div>\n",
              "<style scoped>\n",
              "    .dataframe tbody tr th:only-of-type {\n",
              "        vertical-align: middle;\n",
              "    }\n",
              "\n",
              "    .dataframe tbody tr th {\n",
              "        vertical-align: top;\n",
              "    }\n",
              "\n",
              "    .dataframe thead th {\n",
              "        text-align: right;\n",
              "    }\n",
              "</style>\n",
              "<table border=\"1\" class=\"dataframe\">\n",
              "  <thead>\n",
              "    <tr style=\"text-align: right;\">\n",
              "      <th></th>\n",
              "      <th>Age</th>\n",
              "      <th>Sex</th>\n",
              "      <th>Survived</th>\n",
              "    </tr>\n",
              "  </thead>\n",
              "  <tbody>\n",
              "    <tr>\n",
              "      <th>0</th>\n",
              "      <td>22.0</td>\n",
              "      <td>male</td>\n",
              "      <td>0</td>\n",
              "    </tr>\n",
              "    <tr>\n",
              "      <th>1</th>\n",
              "      <td>38.0</td>\n",
              "      <td>female</td>\n",
              "      <td>1</td>\n",
              "    </tr>\n",
              "    <tr>\n",
              "      <th>2</th>\n",
              "      <td>26.0</td>\n",
              "      <td>female</td>\n",
              "      <td>1</td>\n",
              "    </tr>\n",
              "    <tr>\n",
              "      <th>3</th>\n",
              "      <td>35.0</td>\n",
              "      <td>female</td>\n",
              "      <td>1</td>\n",
              "    </tr>\n",
              "    <tr>\n",
              "      <th>4</th>\n",
              "      <td>35.0</td>\n",
              "      <td>male</td>\n",
              "      <td>0</td>\n",
              "    </tr>\n",
              "  </tbody>\n",
              "</table>\n",
              "</div>"
            ],
            "text/plain": [
              "    Age     Sex  Survived\n",
              "0  22.0    male         0\n",
              "1  38.0  female         1\n",
              "2  26.0  female         1\n",
              "3  35.0  female         1\n",
              "4  35.0    male         0"
            ]
          },
          "execution_count": 9,
          "metadata": {
            "tags": []
          },
          "output_type": "execute_result"
        }
      ],
      "source": [
        "# Selecting Multiple Columns\n",
        "small_df = df_titanic[['Age', 'Sex', 'Survived']]\n",
        "small_df.head()"
      ]
    },
    {
      "cell_type": "code",
      "execution_count": 10,
      "metadata": {
        "colab": {
          "base_uri": "https://localhost:8080/",
          "height": 191
        },
        "id": "3zQCVflyFvs8",
        "outputId": "204c21d8-352d-4217-996a-b796a494c079"
      },
      "outputs": [
        {
          "data": {
            "text/html": [
              "<div>\n",
              "<style scoped>\n",
              "    .dataframe tbody tr th:only-of-type {\n",
              "        vertical-align: middle;\n",
              "    }\n",
              "\n",
              "    .dataframe tbody tr th {\n",
              "        vertical-align: top;\n",
              "    }\n",
              "\n",
              "    .dataframe thead th {\n",
              "        text-align: right;\n",
              "    }\n",
              "</style>\n",
              "<table border=\"1\" class=\"dataframe\">\n",
              "  <thead>\n",
              "    <tr style=\"text-align: right;\">\n",
              "      <th></th>\n",
              "      <th>Survived</th>\n",
              "      <th>Pclass</th>\n",
              "      <th>Sex</th>\n",
              "      <th>Age</th>\n",
              "      <th>Siblings/Spouses</th>\n",
              "      <th>Parents/Children</th>\n",
              "      <th>Fare</th>\n",
              "      <th>male</th>\n",
              "    </tr>\n",
              "  </thead>\n",
              "  <tbody>\n",
              "    <tr>\n",
              "      <th>0</th>\n",
              "      <td>0</td>\n",
              "      <td>3</td>\n",
              "      <td>male</td>\n",
              "      <td>22.0</td>\n",
              "      <td>1</td>\n",
              "      <td>0</td>\n",
              "      <td>7.2500</td>\n",
              "      <td>True</td>\n",
              "    </tr>\n",
              "    <tr>\n",
              "      <th>1</th>\n",
              "      <td>1</td>\n",
              "      <td>1</td>\n",
              "      <td>female</td>\n",
              "      <td>38.0</td>\n",
              "      <td>1</td>\n",
              "      <td>0</td>\n",
              "      <td>71.2833</td>\n",
              "      <td>False</td>\n",
              "    </tr>\n",
              "    <tr>\n",
              "      <th>2</th>\n",
              "      <td>1</td>\n",
              "      <td>3</td>\n",
              "      <td>female</td>\n",
              "      <td>26.0</td>\n",
              "      <td>0</td>\n",
              "      <td>0</td>\n",
              "      <td>7.9250</td>\n",
              "      <td>False</td>\n",
              "    </tr>\n",
              "    <tr>\n",
              "      <th>3</th>\n",
              "      <td>1</td>\n",
              "      <td>1</td>\n",
              "      <td>female</td>\n",
              "      <td>35.0</td>\n",
              "      <td>1</td>\n",
              "      <td>0</td>\n",
              "      <td>53.1000</td>\n",
              "      <td>False</td>\n",
              "    </tr>\n",
              "    <tr>\n",
              "      <th>4</th>\n",
              "      <td>0</td>\n",
              "      <td>3</td>\n",
              "      <td>male</td>\n",
              "      <td>35.0</td>\n",
              "      <td>0</td>\n",
              "      <td>0</td>\n",
              "      <td>8.0500</td>\n",
              "      <td>True</td>\n",
              "    </tr>\n",
              "  </tbody>\n",
              "</table>\n",
              "</div>"
            ],
            "text/plain": [
              "   Survived  Pclass     Sex  ...  Parents/Children     Fare   male\n",
              "0         0       3    male  ...                 0   7.2500   True\n",
              "1         1       1  female  ...                 0  71.2833  False\n",
              "2         1       3  female  ...                 0   7.9250  False\n",
              "3         1       1  female  ...                 0  53.1000  False\n",
              "4         0       3    male  ...                 0   8.0500   True\n",
              "\n",
              "[5 rows x 8 columns]"
            ]
          },
          "execution_count": 10,
          "metadata": {
            "tags": []
          },
          "output_type": "execute_result"
        }
      ],
      "source": [
        "# Creating a Column\n",
        "df_titanic['male'] = df_titanic['Sex']=='male'\n",
        "df_titanic.head()"
      ]
    },
    {
      "cell_type": "code",
      "execution_count": 11,
      "metadata": {
        "colab": {
          "base_uri": "https://localhost:8080/"
        },
        "id": "S3F2EF0_Qe_3",
        "outputId": "48946249-310d-4016-b608-bd10d36df11e"
      },
      "outputs": [
        {
          "data": {
            "text/plain": [
              "(887,)"
            ]
          },
          "execution_count": 11,
          "metadata": {
            "tags": []
          },
          "output_type": "execute_result"
        }
      ],
      "source": [
        "# 1D array\n",
        "df_titanic['Fare'].values.shape"
      ]
    },
    {
      "cell_type": "code",
      "execution_count": 12,
      "metadata": {
        "colab": {
          "base_uri": "https://localhost:8080/"
        },
        "id": "Tg3z8PD6J7J-",
        "outputId": "39ee5b7f-6bf1-409f-8268-7f76e8970e4c"
      },
      "outputs": [
        {
          "name": "stdout",
          "output_type": "stream",
          "text": [
            "(887, 3)\n"
          ]
        },
        {
          "data": {
            "text/plain": [
              "array([[ 3.    ,  7.25  , 22.    ],\n",
              "       [ 1.    , 71.2833, 38.    ],\n",
              "       [ 3.    ,  7.925 , 26.    ],\n",
              "       ...,\n",
              "       [ 3.    , 23.45  ,  7.    ],\n",
              "       [ 1.    , 30.    , 26.    ],\n",
              "       [ 3.    ,  7.75  , 32.    ]])"
            ]
          },
          "execution_count": 12,
          "metadata": {
            "tags": []
          },
          "output_type": "execute_result"
        }
      ],
      "source": [
        "# #Converting from a Pandas DataFrame to a Numpy Array\n",
        "arr = df_titanic[['Pclass', 'Fare', 'Age']].values \n",
        "\n",
        "print(arr.shape)\n",
        "arr"
      ]
    },
    {
      "cell_type": "code",
      "execution_count": 13,
      "metadata": {
        "colab": {
          "base_uri": "https://localhost:8080/"
        },
        "id": "OO4KrAtfLEG9",
        "outputId": "678919e7-3d7a-4908-c08b-df4ed19e9352"
      },
      "outputs": [
        {
          "name": "stdout",
          "output_type": "stream",
          "text": [
            "7.25\n",
            "[ 3.    7.25 22.  ]\n",
            "[22.   38.   26.   35.   35.   27.   54.    2.   27.   14.    4.   58.\n",
            " 20.   39.   14.   55.    2.   23.   31.   22.   35.   34.   15.   28.\n",
            "  8.   38.   26.   19.   24.   23.   40.   48.   18.   66.   28.   42.\n",
            " 18.   21.   18.   14.   40.   27.    3.   19.   30.   20.   27.   16.\n",
            " 18.    7.   21.   49.   29.   65.   46.   21.   28.5   5.   11.   22.\n",
            " 38.   45.    4.   64.    7.   29.   19.   17.   26.   32.   16.   21.\n",
            " 26.   32.   25.   23.   28.    0.83 30.   22.   29.   31.   28.   17.\n",
            " 33.   16.   20.   23.   24.   29.   20.   46.   26.   59.   22.   71.\n",
            " 23.   34.   34.   28.   29.   21.   33.   37.   28.   21.   29.   38.\n",
            " 28.   47.   14.5  22.   20.   17.   21.   70.5  29.   24.    2.   21.\n",
            " 19.   32.5  32.5  54.   12.   19.   24.    2.   45.   33.   20.   47.\n",
            " 29.   25.   23.   19.   37.   16.   24.   40.   22.   24.   19.   18.\n",
            " 19.   27.    9.   36.5  42.   51.   22.   55.5  40.5  27.   51.   16.\n",
            " 30.   37.    5.   44.   40.   26.   17.    1.    9.   48.   45.   60.\n",
            " 28.   61.    4.    1.   21.   56.   18.    5.   50.   30.   36.    8.\n",
            " 39.    9.    1.    4.   39.   26.   45.   40.   36.   32.   19.   19.\n",
            "  3.   44.   58.   28.   42.   21.   24.   28.   17.   34.   45.5  18.\n",
            "  2.   32.   26.   16.   40.   24.   35.   22.   30.   22.   31.   27.\n",
            " 42.   32.   30.   16.   27.   51.   22.   38.   22.   19.   20.5  18.\n",
            " 12.   35.   29.   59.    5.   24.   21.   44.    8.   19.   33.   19.\n",
            " 18.   29.   22.   30.   44.   25.   24.   37.   54.   18.   29.   62.\n",
            " 30.   41.   29.   38.   30.   35.   50.    3.   52.   40.   21.   36.\n",
            " 16.   25.   58.   35.   28.   25.   41.   37.   33.   63.   45.   21.\n",
            "  7.   35.   65.   28.   16.   19.   57.   33.   30.   22.   42.   22.\n",
            " 26.   19.   36.   24.   24.   30.   23.5   2.   47.   50.   20.   24.\n",
            " 19.   46.   28.    0.92 42.   17.   30.   30.   24.   18.   26.   28.\n",
            " 43.   26.   24.   54.   31.   40.   22.   27.   30.   22.   20.   36.\n",
            " 61.   36.   31.   16.   28.   45.5  38.   16.   42.   30.   29.   41.\n",
            " 45.   45.    2.   24.   28.   25.   36.   24.   40.   34.    3.   42.\n",
            " 23.   43.   15.   25.   23.   28.   22.   38.   22.   23.   40.   29.\n",
            " 45.   35.   27.   30.   60.   35.   22.   24.   25.   18.   19.   22.\n",
            "  3.   25.   22.   27.   20.   19.   42.    1.   32.   35.   27.   18.\n",
            "  1.   36.   19.   17.   36.   21.   28.   23.   24.   22.   31.   46.\n",
            " 23.   28.   39.   26.   21.   28.   20.   34.   51.    3.   21.    3.\n",
            " 42.   27.   33.   22.   44.   32.   34.   18.   30.   10.   21.   29.\n",
            " 28.   18.   54.   28.   19.   28.   32.   28.   33.   42.   17.   50.\n",
            " 14.   21.   24.   64.   31.   45.   20.   25.   28.   29.    4.   13.\n",
            " 34.    5.   52.   36.   28.   30.   49.   24.   29.   65.   41.   50.\n",
            " 17.   48.   34.   47.   48.   34.   38.   21.   56.   22.    0.75 39.\n",
            " 38.   33.   23.   22.   40.   34.   29.   22.    2.    9.   37.   50.\n",
            " 63.   25.    8.   35.   58.   30.    9.   19.   21.   55.   71.   21.\n",
            " 26.   54.   55.   25.   24.   17.   21.   21.   37.   16.   18.   33.\n",
            " 37.   28.   26.   29.   66.   36.   54.   24.   47.   34.   30.   36.\n",
            " 32.   30.   22.   35.   44.   18.   40.5  50.   49.   39.   23.    2.\n",
            " 17.   17.   24.   30.    7.   45.   30.   69.   22.   36.    9.   11.\n",
            " 32.   50.   64.   19.   27.   33.    8.   17.   27.   21.   22.   22.\n",
            " 62.   48.   45.   39.   36.   30.   40.   28.   40.   62.   24.   19.\n",
            " 29.   28.   32.   62.   53.   36.   22.   16.   19.   34.   39.   18.\n",
            " 32.   25.   39.   54.   36.   16.   18.   47.   60.   22.   22.   35.\n",
            " 52.   47.   40.   37.   36.   31.   49.   18.   49.   24.   42.   37.\n",
            " 44.   35.   36.   30.   27.   22.   40.   39.   21.   18.   22.   35.\n",
            " 24.   34.   26.    4.   26.   27.   42.   20.   21.   21.   61.   57.\n",
            " 21.   26.   18.   80.   51.   32.   30.    9.   28.   32.   31.   41.\n",
            " 37.   20.   24.    2.   32.    0.75 48.   19.   56.   21.   23.   23.\n",
            " 18.   21.   16.   18.   24.   27.   32.   23.   58.   50.   40.   47.\n",
            " 36.   20.   32.   25.   49.   43.   48.   40.   31.   70.   31.   19.\n",
            " 18.   24.5  18.   43.   36.   28.   27.   20.   14.   60.   25.   14.\n",
            " 19.   18.   15.   31.    4.   37.   25.   60.   52.   44.   19.   49.\n",
            " 42.   18.   35.   18.   25.   26.   39.   45.   42.   22.    4.   24.\n",
            " 41.   48.   29.   52.   19.   38.   27.   33.    6.   17.   34.   50.\n",
            " 27.   20.   30.   28.   25.   25.   29.   11.   41.   23.   23.   28.5\n",
            " 48.   35.   20.   32.   45.   36.   21.   24.   31.   70.   16.   30.\n",
            " 19.   31.    4.    6.   33.   23.   48.    0.67 28.   18.   34.   33.\n",
            " 23.   41.   20.   36.   16.   51.   46.   30.5  28.   32.   24.   48.\n",
            " 57.   29.   54.   18.   20.    5.   22.   43.   13.   17.   29.   35.\n",
            " 25.   25.   18.    8.    1.   46.   20.   16.   21.   43.   25.   39.\n",
            " 49.   31.   30.   30.   34.   31.   11.    0.42 27.   31.   39.   18.\n",
            " 39.   33.   26.   39.   35.    6.   30.5  39.   23.   31.   43.   10.\n",
            " 52.   27.   38.   27.    2.   36.   23.    1.   19.   62.   15.    0.83\n",
            " 30.   23.   18.   39.   21.   20.   32.   29.   20.   16.   30.   34.5\n",
            " 17.   42.   18.   35.   28.   40.    4.   74.    9.   16.   44.   18.\n",
            " 45.   51.   24.   30.   41.   21.   48.   14.   24.   42.   27.   31.\n",
            " 23.    4.   26.   47.   33.   47.   28.   15.   20.   19.   23.   56.\n",
            " 25.   33.   22.   28.   25.   39.   27.   19.    7.   26.   32.  ]\n"
          ]
        }
      ],
      "source": [
        "# Slicing\n",
        "print(arr[0, 1])\n",
        "print(arr[0])\n",
        "print(arr[:, 2])"
      ]
    },
    {
      "cell_type": "code",
      "execution_count": 14,
      "metadata": {
        "colab": {
          "base_uri": "https://localhost:8080/"
        },
        "id": "WgzAsXYVRVG9",
        "outputId": "9990c43d-0ec1-470b-c3f6-6dd703b22189"
      },
      "outputs": [
        {
          "name": "stdout",
          "output_type": "stream",
          "text": [
            "130\n",
            "130\n"
          ]
        }
      ],
      "source": [
        "# Masking\n",
        "import pandas as pd\n",
        "\n",
        "df_titanic = pd.read_csv('/content/titanic.csv')\n",
        "arr = df_titanic[['Pclass', 'Fare', 'Age']].values\n",
        "mask = arr[:, 2] < 18\n",
        "\n",
        "print(mask.sum())\n",
        "print((arr[:, 2] < 18).sum())"
      ]
    },
    {
      "cell_type": "markdown",
      "metadata": {
        "id": "qKtM-zt0SkMl"
      },
      "source": [
        "## __Ploting Basics__"
      ]
    },
    {
      "cell_type": "code",
      "execution_count": 15,
      "metadata": {
        "colab": {
          "base_uri": "https://localhost:8080/",
          "height": 278
        },
        "id": "yU1vs456SqO9",
        "outputId": "55c56226-050a-4bba-ee42-7d211d7b267e"
      },
      "outputs": [
        {
          "data": {
            "image/png": "[encoded data removed]",
            "text/plain": [
              "<Figure size 432x288 with 1 Axes>"
            ]
          },
          "metadata": {
            "needs_background": "light",
            "tags": []
          },
          "output_type": "display_data"
        }
      ],
      "source": [
        "import matplotlib.pyplot as plt\n",
        "\n",
        "plt.scatter(df_titanic['Age'], df_titanic['Fare'], c=df_titanic['Pclass'])\n",
        "plt.plot([0, 80], [85, 5])\n",
        "plt.xlabel('Age')\n",
        "plt.ylabel('Fare')\n",
        "plt.show()"
      ]
    },
    {
      "cell_type": "markdown",
      "metadata": {
        "id": "OoDiPi1WccPu"
      },
      "source": [
        "# __02 - Classification__"
      ]
    },
    {
      "cell_type": "markdown",
      "metadata": {
        "id": "HqSgg-8lEY4Y"
      },
      "source": [
        "**Probability of Surviving**\n",
        "\n",
        "$$sigmoid = \\frac{1}{1+e^{-(a x+b y+c)}}$$\n",
        "\n",
        "Recall that the equation for the line is in the form $0 = ax+by+c$ ($x$ is the Fare, $y$ is the Age, and $a, b$ & $c$ are the coefficients that we control). The number $e$ is the mathematical constant, approximately $2.71828$."
      ]
    },
    {
      "cell_type": "code",
      "execution_count": 16,
      "metadata": {
        "colab": {
          "base_uri": "https://localhost:8080/"
        },
        "id": "qe0T503XcgZK",
        "outputId": "a5d960a7-3854-4b93-b3a1-c508552e4593"
      },
      "outputs": [
        {
          "name": "stdout",
          "output_type": "stream",
          "text": [
            "[[3 True 22.0 1 0 7.25]\n",
            " [1 False 38.0 1 0 71.2833]\n",
            " [3 False 26.0 0 0 7.925]\n",
            " ...\n",
            " [3 False 7.0 1 2 23.45]\n",
            " [1 True 26.0 0 0 30.0]\n",
            " [3 True 32.0 0 0 7.75]]\n",
            "[0 1 1 1 0 0 0 0 1 1 1 1 0 0 0 1 0 1 0 1 0 1 1 1 0 1 0 0 1 0 0 1 1 0 0 0 1\n",
            " 0 0 1 0 0 1 1 0 0 1 0 0 0 0 1 1 0 1 1 0 1 0 0 1 0 0 0 1 1 0 1 0 0 0 0 0 1\n",
            " 0 0 0 1 1 0 1 1 0 1 1 0 0 1 0 0 0 0 0 0 0 0 1 1 0 0 0 0 0 0 0 1 1 0 1 0 0\n",
            " 0 0 0 0 0 0 0 0 0 0 0 1 0 1 0 1 1 0 0 0 0 1 0 0 1 0 0 0 0 1 1 0 0 0 1 0 0\n",
            " 0 0 1 0 0 0 0 1 0 0 0 0 1 0 0 0 1 1 0 0 0 0 0 1 0 0 0 0 0 0 0 0 0 0 1 1 0\n",
            " 1 1 0 0 1 0 1 1 1 1 0 0 1 0 0 0 0 0 1 0 0 1 1 1 0 1 0 0 0 1 1 0 1 0 1 0 0\n",
            " 0 1 0 1 0 0 0 1 0 0 1 0 0 0 1 0 0 0 1 0 0 0 0 0 1 1 0 0 0 0 0 0 1 1 1 1 1\n",
            " 1 0 0 0 0 0 1 1 1 0 1 1 0 1 1 0 0 0 1 0 0 0 1 0 0 1 0 1 1 1 1 0 0 0 0 0 0\n",
            " 1 1 1 1 0 1 0 1 1 1 0 1 1 1 0 0 0 1 1 0 1 1 0 0 1 1 0 1 0 1 1 1 1 0 0 0 1\n",
            " 0 0 1 1 0 1 1 0 0 0 1 1 1 1 0 0 0 0 0 0 0 1 0 1 1 0 0 0 0 0 0 1 1 1 1 1 0\n",
            " 0 0 0 1 1 0 0 0 1 1 0 1 0 0 0 1 0 1 1 1 0 1 1 0 0 0 0 1 1 0 0 0 0 0 0 1 0\n",
            " 0 0 0 1 0 1 0 1 1 0 0 0 0 0 0 0 1 1 0 1 1 1 1 0 0 1 0 1 0 0 1 0 0 1 1 1 1\n",
            " 1 1 1 0 0 0 1 0 1 0 1 1 0 1 0 0 0 0 0 0 0 0 1 0 0 1 1 0 0 0 0 0 1 0 0 0 1\n",
            " 1 0 1 0 0 1 0 0 0 0 0 0 1 0 0 0 0 0 0 0 1 0 1 1 0 1 1 0 1 1 0 0 1 0 1 0 1\n",
            " 0 0 1 0 0 1 0 0 0 1 0 0 1 0 1 0 1 0 1 1 0 0 1 0 0 1 1 0 1 1 0 0 1 1 0 1 0\n",
            " 1 1 0 0 0 0 0 0 0 0 0 1 1 1 1 1 0 0 1 1 0 1 1 1 0 0 0 1 0 1 0 0 0 1 0 0 0\n",
            " 0 1 0 0 1 1 0 0 0 1 0 0 1 1 1 0 0 1 0 0 1 0 0 1 0 0 1 1 0 0 0 0 1 0 0 1 0\n",
            " 1 0 0 1 0 0 0 0 0 1 0 1 1 1 0 1 0 1 0 1 0 1 0 0 0 0 0 0 1 0 0 0 1 0 0 0 0\n",
            " 1 1 0 0 1 0 0 0 1 0 1 0 1 0 0 0 0 0 0 0 1 1 1 1 0 0 0 0 1 0 0 1 1 0 0 0 0\n",
            " 1 1 1 1 1 0 1 0 0 0 1 1 0 1 0 0 0 1 0 1 1 0 0 1 0 0 0 0 0 0 1 0 0 1 0 1 0\n",
            " 1 0 0 1 0 0 1 1 0 0 1 1 0 0 0 1 0 0 1 1 0 1 0 0 0 0 0 0 0 0 1 0 0 1 0 1 1\n",
            " 1 0 0 0 0 1 0 1 0 0 0 0 0 0 0 1 1 0 0 0 1 1 1 1 0 0 0 0 1 0 0 0 0 0 0 0 0\n",
            " 0 0 1 1 0 1 0 0 0 1 1 1 1 1 0 0 0 1 0 0 1 1 0 0 1 0 0 0 0 0 0 1 0 0 0 1 0\n",
            " 1 1 1 1 0 0 0 1 0 0 1 1 0 0 1 0 1 0 0 1 1 0 0 0 1 1 0 0 0 0 0 0 1 0 1 0]\n"
          ]
        }
      ],
      "source": [
        "import pandas as pd\n",
        "\n",
        "df_titanic = pd.read_csv('/content/titanic.csv')\n",
        "df_titanic['male'] = df_titanic['Sex'] == 'male'\n",
        "X = df_titanic[['Pclass', 'male', 'Age', 'Siblings/Spouses', 'Parents/Children', 'Fare']].values\n",
        "y = df_titanic['Survived'].values\n",
        "print(X)\n",
        "print(y)"
      ]
    },
    {
      "cell_type": "markdown",
      "metadata": {
        "id": "cAj-tZJ9jy4g"
      },
      "source": [
        "## **LogisticRegression**  __Dataset:__ Titanic\n"
      ]
    },
    {
      "cell_type": "code",
      "execution_count": 17,
      "metadata": {
        "colab": {
          "base_uri": "https://localhost:8080/"
        },
        "id": "jM5jyMJ3GDvH",
        "outputId": "c4bacbda-2c1f-44db-cbfc-dae237deb15c"
      },
      "outputs": [
        {
          "name": "stdout",
          "output_type": "stream",
          "text": [
            "[[-1.13645522 -2.64409893 -0.04237385 -0.387466   -0.09619823  0.00297189]] [5.08856706]\n",
            "[0]\n",
            "[0 1 1 1 0]\n",
            "[0 1 1 1 0]\n"
          ]
        }
      ],
      "source": [
        "# LogisticRegression\n",
        "from sklearn.linear_model import LogisticRegression\n",
        "model = LogisticRegression()\n",
        "model.fit(X, y)\n",
        "\n",
        "print(model.coef_, model.intercept_)\n",
        "print(model.predict([[3, True, 22.0, 1, 0, 7.25]]))\n",
        "print(model.predict(X[:5, :])) # first 5 rows of data or -- X[:5]\n",
        "print(y[:5])"
      ]
    },
    {
      "cell_type": "markdown",
      "metadata": {
        "id": "TzOYrEBwNHaE"
      },
      "source": [
        "__Score the Model__\n",
        "\n",
        "We can get a sense of how good our model is by counting the number of datapoints it predicts correctly. This is called the **accuracy score**.\n",
        "\n",
        "Let’s create an array that has the predicted `y` values.\n",
        "\n",
        "``` python\n",
        "y_pred = model.predict(X)\n",
        "```\n",
        "\n",
        "Now we create an array of boolean values of whether or not our model predicted each passenger correctly.\n",
        "\n",
        "```python\n",
        "y == y_pred\n",
        "```\n",
        "\n",
        "To get the number of these that are true, we can use the numpy sum method.\n",
        "\n",
        "```python\n",
        "print((y == y_pred).sum())\n",
        "# 714\n",
        "```\n",
        "\n",
        "\n",
        "This means that of the $887$ datapoints, the model makes the correct prediction for $714$ of them.\n",
        "\n",
        "To get the percent correct, we divide this by the total number of passengers. We get the total number of passengers using the shape attribute.\n",
        "\n",
        "```python\n",
        "y.shape[0]\n",
        "# 887\n",
        "```\n",
        "\n",
        "Thus our accuracy score is computed as follows.\n",
        "```python\n",
        "print((y == y_pred).sum() / y.shape[0])\n",
        "```"
      ]
    },
    {
      "cell_type": "code",
      "execution_count": 18,
      "metadata": {
        "colab": {
          "base_uri": "https://localhost:8080/"
        },
        "id": "CwchPThqMifR",
        "outputId": "01514aa1-7cc8-40ff-c278-5c0953dc29b2"
      },
      "outputs": [
        {
          "name": "stdout",
          "output_type": "stream",
          "text": [
            "714\n",
            "0.8049605411499436\n",
            "0.8049605411499436\n"
          ]
        }
      ],
      "source": [
        "# Score the Model\n",
        "y_pred = model.predict(X)\n",
        "print((y == y_pred).sum())\n",
        "# Thus our accuracy score is computed as follows.\n",
        "print((y == y_pred).sum() / y.shape[0])\n",
        "\n",
        "# another wat\n",
        "print(model.score(X, y))"
      ]
    },
    {
      "cell_type": "markdown",
      "metadata": {
        "id": "ypehBouCj9aN"
      },
      "source": [
        "## **LogisticRegression** __Dataset:__ Breast Cancer Dataset\n",
        "\n"
      ]
    },
    {
      "cell_type": "code",
      "execution_count": 19,
      "metadata": {
        "colab": {
          "base_uri": "https://localhost:8080/"
        },
        "id": "A2TPUDNhlWtw",
        "outputId": "de20bbbc-ef57-4756-c4d9-56770bcc48b4"
      },
      "outputs": [
        {
          "name": "stdout",
          "output_type": "stream",
          "text": [
            "dict_keys(['data', 'target', 'target_names', 'DESCR', 'feature_names', 'filename'])\n",
            ".. _breast_cancer_dataset:\n",
            "\n",
            "Breast cancer wisconsin (diagnostic) dataset\n",
            "--------------------------------------------\n",
            "\n",
            "**Data Set Characteristics:**\n",
            "\n",
            "    :Number of Instances: 569\n",
            "\n",
            "    :Number of Attributes: 30 numeric, predictive attributes and the class\n",
            "\n",
            "    :Attribute Information:\n",
            "        - radius (mean of distances from center to points on the perimeter)\n",
            "        - texture (standard deviation of gray-scale values)\n",
            "        - perimeter\n",
            "        - area\n",
            "        - smoothness (local variation in radius lengths)\n",
            "        - compactness (perimeter^2 / area - 1.0)\n",
            "        - concavity (severity of concave portions of the contour)\n",
            "        - concave points (number of concave portions of the contour)\n",
            "        - symmetry \n",
            "        - fractal dimension (\"coastline approximation\" - 1)\n",
            "\n",
            "        The mean, standard error, and \"worst\" or largest (mean of the three\n",
            "        largest values) of these features were computed for each image,\n",
            "        resulting in 30 features.  For instance, field 3 is Mean Radius, field\n",
            "        13 is Radius SE, field 23 is Worst Radius.\n",
            "\n",
            "        - class:\n",
            "                - WDBC-Malignant\n",
            "                - WDBC-Benign\n",
            "\n",
            "    :Summary Statistics:\n",
            "\n",
            "    ===================================== ====== ======\n",
            "                                           Min    Max\n",
            "    ===================================== ====== ======\n",
            "    radius (mean):                        6.981  28.11\n",
            "    texture (mean):                       9.71   39.28\n",
            "    perimeter (mean):                     43.79  188.5\n",
            "    area (mean):                          143.5  2501.0\n",
            "    smoothness (mean):                    0.053  0.163\n",
            "    compactness (mean):                   0.019  0.345\n",
            "    concavity (mean):                     0.0    0.427\n",
            "    concave points (mean):                0.0    0.201\n",
            "    symmetry (mean):                      0.106  0.304\n",
            "    fractal dimension (mean):             0.05   0.097\n",
            "    radius (standard error):              0.112  2.873\n",
            "    texture (standard error):             0.36   4.885\n",
            "    perimeter (standard error):           0.757  21.98\n",
            "    area (standard error):                6.802  542.2\n",
            "    smoothness (standard error):          0.002  0.031\n",
            "    compactness (standard error):         0.002  0.135\n",
            "    concavity (standard error):           0.0    0.396\n",
            "    concave points (standard error):      0.0    0.053\n",
            "    symmetry (standard error):            0.008  0.079\n",
            "    fractal dimension (standard error):   0.001  0.03\n",
            "    radius (worst):                       7.93   36.04\n",
            "    texture (worst):                      12.02  49.54\n",
            "    perimeter (worst):                    50.41  251.2\n",
            "    area (worst):                         185.2  4254.0\n",
            "    smoothness (worst):                   0.071  0.223\n",
            "    compactness (worst):                  0.027  1.058\n",
            "    concavity (worst):                    0.0    1.252\n",
            "    concave points (worst):               0.0    0.291\n",
            "    symmetry (worst):                     0.156  0.664\n",
            "    fractal dimension (worst):            0.055  0.208\n",
            "    ===================================== ====== ======\n",
            "\n",
            "    :Missing Attribute Values: None\n",
            "\n",
            "    :Class Distribution: 212 - Malignant, 357 - Benign\n",
            "\n",
            "    :Creator:  Dr. William H. Wolberg, W. Nick Street, Olvi L. Mangasarian\n",
            "\n",
            "    :Donor: Nick Street\n",
            "\n",
            "    :Date: November, 1995\n",
            "\n",
            "This is a copy of UCI ML Breast Cancer Wisconsin (Diagnostic) datasets.\n",
            "https://goo.gl/U2Uwz2\n",
            "\n",
            "Features are computed from a digitized image of a fine needle\n",
            "aspirate (FNA) of a breast mass.  They describe\n",
            "characteristics of the cell nuclei present in the image.\n",
            "\n",
            "Separating plane described above was obtained using\n",
            "Multisurface Method-Tree (MSM-T) [K. P. Bennett, \"Decision Tree\n",
            "Construction Via Linear Programming.\" Proceedings of the 4th\n",
            "Midwest Artificial Intelligence and Cognitive Science Society,\n",
            "pp. 97-101, 1992], a classification method which uses linear\n",
            "programming to construct a decision tree.  Relevant features\n",
            "were selected using an exhaustive search in the space of 1-4\n",
            "features and 1-3 separating planes.\n",
            "\n",
            "The actual linear program used to obtain the separating plane\n",
            "in the 3-dimensional space is that described in:\n",
            "[K. P. Bennett and O. L. Mangasarian: \"Robust Linear\n",
            "Programming Discrimination of Two Linearly Inseparable Sets\",\n",
            "Optimization Methods and Software 1, 1992, 23-34].\n",
            "\n",
            "This database is also available through the UW CS ftp server:\n",
            "\n",
            "ftp ftp.cs.wisc.edu\n",
            "cd math-prog/cpo-dataset/machine-learn/WDBC/\n",
            "\n",
            ".. topic:: References\n",
            "\n",
            "   - W.N. Street, W.H. Wolberg and O.L. Mangasarian. Nuclear feature extraction \n",
            "     for breast tumor diagnosis. IS&T/SPIE 1993 International Symposium on \n",
            "     Electronic Imaging: Science and Technology, volume 1905, pages 861-870,\n",
            "     San Jose, CA, 1993.\n",
            "   - O.L. Mangasarian, W.N. Street and W.H. Wolberg. Breast cancer diagnosis and \n",
            "     prognosis via linear programming. Operations Research, 43(4), pages 570-577, \n",
            "     July-August 1995.\n",
            "   - W.H. Wolberg, W.N. Street, and O.L. Mangasarian. Machine learning techniques\n",
            "     to diagnose breast cancer from fine-needle aspirates. Cancer Letters 77 (1994) \n",
            "     163-171.\n"
          ]
        }
      ],
      "source": [
        "from sklearn.datasets import load_breast_cancer\n",
        "cancer_data = load_breast_cancer()\n",
        "\n",
        "print(cancer_data.keys())\n",
        "# print(cancer_data.values())\n",
        "print(cancer_data['DESCR']) # detailed description"
      ]
    },
    {
      "cell_type": "code",
      "execution_count": 20,
      "metadata": {
        "colab": {
          "base_uri": "https://localhost:8080/"
        },
        "id": "vGJWuBwpmhw5",
        "outputId": "0df7a135-d898-4ce2-f4e5-b4271b4cf378"
      },
      "outputs": [
        {
          "data": {
            "text/plain": [
              "(569, 30)"
            ]
          },
          "execution_count": 20,
          "metadata": {
            "tags": []
          },
          "output_type": "execute_result"
        }
      ],
      "source": [
        "# data shape\n",
        "cancer_data['data'].shape"
      ]
    },
    {
      "cell_type": "code",
      "execution_count": 21,
      "metadata": {
        "colab": {
          "base_uri": "https://localhost:8080/"
        },
        "id": "npdBMPy17Shd",
        "outputId": "fcacaa1c-fbf9-4dab-fb09-6f5c4e8d364e"
      },
      "outputs": [
        {
          "data": {
            "text/plain": [
              "array(['mean radius', 'mean texture', 'mean perimeter', 'mean area',\n",
              "       'mean smoothness', 'mean compactness', 'mean concavity',\n",
              "       'mean concave points', 'mean symmetry', 'mean fractal dimension',\n",
              "       'radius error', 'texture error', 'perimeter error', 'area error',\n",
              "       'smoothness error', 'compactness error', 'concavity error',\n",
              "       'concave points error', 'symmetry error',\n",
              "       'fractal dimension error', 'worst radius', 'worst texture',\n",
              "       'worst perimeter', 'worst area', 'worst smoothness',\n",
              "       'worst compactness', 'worst concavity', 'worst concave points',\n",
              "       'worst symmetry', 'worst fractal dimension'], dtype='<U23')"
            ]
          },
          "execution_count": 21,
          "metadata": {
            "tags": []
          },
          "output_type": "execute_result"
        }
      ],
      "source": [
        "# These are stored with the 'feature_names' key.\n",
        "cancer_data['feature_names']"
      ]
    },
    {
      "cell_type": "markdown",
      "metadata": {
        "id": "c2Z2cNha7guc"
      },
      "source": [
        "**Creating a Pandas DataFrame with all our feature data.**"
      ]
    },
    {
      "cell_type": "code",
      "execution_count": 22,
      "metadata": {
        "colab": {
          "base_uri": "https://localhost:8080/",
          "height": 243
        },
        "id": "JaqhZIr-7Yex",
        "outputId": "9167ef21-bf5b-4bda-ddf4-e8bff730e3c4"
      },
      "outputs": [
        {
          "data": {
            "text/html": [
              "<div>\n",
              "<style scoped>\n",
              "    .dataframe tbody tr th:only-of-type {\n",
              "        vertical-align: middle;\n",
              "    }\n",
              "\n",
              "    .dataframe tbody tr th {\n",
              "        vertical-align: top;\n",
              "    }\n",
              "\n",
              "    .dataframe thead th {\n",
              "        text-align: right;\n",
              "    }\n",
              "</style>\n",
              "<table border=\"1\" class=\"dataframe\">\n",
              "  <thead>\n",
              "    <tr style=\"text-align: right;\">\n",
              "      <th></th>\n",
              "      <th>mean radius</th>\n",
              "      <th>mean texture</th>\n",
              "      <th>mean perimeter</th>\n",
              "      <th>mean area</th>\n",
              "      <th>mean smoothness</th>\n",
              "      <th>mean compactness</th>\n",
              "      <th>mean concavity</th>\n",
              "      <th>mean concave points</th>\n",
              "      <th>mean symmetry</th>\n",
              "      <th>mean fractal dimension</th>\n",
              "      <th>radius error</th>\n",
              "      <th>texture error</th>\n",
              "      <th>perimeter error</th>\n",
              "      <th>area error</th>\n",
              "      <th>smoothness error</th>\n",
              "      <th>compactness error</th>\n",
              "      <th>concavity error</th>\n",
              "      <th>concave points error</th>\n",
              "      <th>symmetry error</th>\n",
              "      <th>fractal dimension error</th>\n",
              "      <th>worst radius</th>\n",
              "      <th>worst texture</th>\n",
              "      <th>worst perimeter</th>\n",
              "      <th>worst area</th>\n",
              "      <th>worst smoothness</th>\n",
              "      <th>worst compactness</th>\n",
              "      <th>worst concavity</th>\n",
              "      <th>worst concave points</th>\n",
              "      <th>worst symmetry</th>\n",
              "      <th>worst fractal dimension</th>\n",
              "    </tr>\n",
              "  </thead>\n",
              "  <tbody>\n",
              "    <tr>\n",
              "      <th>0</th>\n",
              "      <td>17.99</td>\n",
              "      <td>10.38</td>\n",
              "      <td>122.80</td>\n",
              "      <td>1001.0</td>\n",
              "      <td>0.11840</td>\n",
              "      <td>0.27760</td>\n",
              "      <td>0.3001</td>\n",
              "      <td>0.14710</td>\n",
              "      <td>0.2419</td>\n",
              "      <td>0.07871</td>\n",
              "      <td>1.0950</td>\n",
              "      <td>0.9053</td>\n",
              "      <td>8.589</td>\n",
              "      <td>153.40</td>\n",
              "      <td>0.006399</td>\n",
              "      <td>0.04904</td>\n",
              "      <td>0.05373</td>\n",
              "      <td>0.01587</td>\n",
              "      <td>0.03003</td>\n",
              "      <td>0.006193</td>\n",
              "      <td>25.38</td>\n",
              "      <td>17.33</td>\n",
              "      <td>184.60</td>\n",
              "      <td>2019.0</td>\n",
              "      <td>0.1622</td>\n",
              "      <td>0.6656</td>\n",
              "      <td>0.7119</td>\n",
              "      <td>0.2654</td>\n",
              "      <td>0.4601</td>\n",
              "      <td>0.11890</td>\n",
              "    </tr>\n",
              "    <tr>\n",
              "      <th>1</th>\n",
              "      <td>20.57</td>\n",
              "      <td>17.77</td>\n",
              "      <td>132.90</td>\n",
              "      <td>1326.0</td>\n",
              "      <td>0.08474</td>\n",
              "      <td>0.07864</td>\n",
              "      <td>0.0869</td>\n",
              "      <td>0.07017</td>\n",
              "      <td>0.1812</td>\n",
              "      <td>0.05667</td>\n",
              "      <td>0.5435</td>\n",
              "      <td>0.7339</td>\n",
              "      <td>3.398</td>\n",
              "      <td>74.08</td>\n",
              "      <td>0.005225</td>\n",
              "      <td>0.01308</td>\n",
              "      <td>0.01860</td>\n",
              "      <td>0.01340</td>\n",
              "      <td>0.01389</td>\n",
              "      <td>0.003532</td>\n",
              "      <td>24.99</td>\n",
              "      <td>23.41</td>\n",
              "      <td>158.80</td>\n",
              "      <td>1956.0</td>\n",
              "      <td>0.1238</td>\n",
              "      <td>0.1866</td>\n",
              "      <td>0.2416</td>\n",
              "      <td>0.1860</td>\n",
              "      <td>0.2750</td>\n",
              "      <td>0.08902</td>\n",
              "    </tr>\n",
              "    <tr>\n",
              "      <th>2</th>\n",
              "      <td>19.69</td>\n",
              "      <td>21.25</td>\n",
              "      <td>130.00</td>\n",
              "      <td>1203.0</td>\n",
              "      <td>0.10960</td>\n",
              "      <td>0.15990</td>\n",
              "      <td>0.1974</td>\n",
              "      <td>0.12790</td>\n",
              "      <td>0.2069</td>\n",
              "      <td>0.05999</td>\n",
              "      <td>0.7456</td>\n",
              "      <td>0.7869</td>\n",
              "      <td>4.585</td>\n",
              "      <td>94.03</td>\n",
              "      <td>0.006150</td>\n",
              "      <td>0.04006</td>\n",
              "      <td>0.03832</td>\n",
              "      <td>0.02058</td>\n",
              "      <td>0.02250</td>\n",
              "      <td>0.004571</td>\n",
              "      <td>23.57</td>\n",
              "      <td>25.53</td>\n",
              "      <td>152.50</td>\n",
              "      <td>1709.0</td>\n",
              "      <td>0.1444</td>\n",
              "      <td>0.4245</td>\n",
              "      <td>0.4504</td>\n",
              "      <td>0.2430</td>\n",
              "      <td>0.3613</td>\n",
              "      <td>0.08758</td>\n",
              "    </tr>\n",
              "    <tr>\n",
              "      <th>3</th>\n",
              "      <td>11.42</td>\n",
              "      <td>20.38</td>\n",
              "      <td>77.58</td>\n",
              "      <td>386.1</td>\n",
              "      <td>0.14250</td>\n",
              "      <td>0.28390</td>\n",
              "      <td>0.2414</td>\n",
              "      <td>0.10520</td>\n",
              "      <td>0.2597</td>\n",
              "      <td>0.09744</td>\n",
              "      <td>0.4956</td>\n",
              "      <td>1.1560</td>\n",
              "      <td>3.445</td>\n",
              "      <td>27.23</td>\n",
              "      <td>0.009110</td>\n",
              "      <td>0.07458</td>\n",
              "      <td>0.05661</td>\n",
              "      <td>0.01867</td>\n",
              "      <td>0.05963</td>\n",
              "      <td>0.009208</td>\n",
              "      <td>14.91</td>\n",
              "      <td>26.50</td>\n",
              "      <td>98.87</td>\n",
              "      <td>567.7</td>\n",
              "      <td>0.2098</td>\n",
              "      <td>0.8663</td>\n",
              "      <td>0.6869</td>\n",
              "      <td>0.2575</td>\n",
              "      <td>0.6638</td>\n",
              "      <td>0.17300</td>\n",
              "    </tr>\n",
              "    <tr>\n",
              "      <th>4</th>\n",
              "      <td>20.29</td>\n",
              "      <td>14.34</td>\n",
              "      <td>135.10</td>\n",
              "      <td>1297.0</td>\n",
              "      <td>0.10030</td>\n",
              "      <td>0.13280</td>\n",
              "      <td>0.1980</td>\n",
              "      <td>0.10430</td>\n",
              "      <td>0.1809</td>\n",
              "      <td>0.05883</td>\n",
              "      <td>0.7572</td>\n",
              "      <td>0.7813</td>\n",
              "      <td>5.438</td>\n",
              "      <td>94.44</td>\n",
              "      <td>0.011490</td>\n",
              "      <td>0.02461</td>\n",
              "      <td>0.05688</td>\n",
              "      <td>0.01885</td>\n",
              "      <td>0.01756</td>\n",
              "      <td>0.005115</td>\n",
              "      <td>22.54</td>\n",
              "      <td>16.67</td>\n",
              "      <td>152.20</td>\n",
              "      <td>1575.0</td>\n",
              "      <td>0.1374</td>\n",
              "      <td>0.2050</td>\n",
              "      <td>0.4000</td>\n",
              "      <td>0.1625</td>\n",
              "      <td>0.2364</td>\n",
              "      <td>0.07678</td>\n",
              "    </tr>\n",
              "  </tbody>\n",
              "</table>\n",
              "</div>"
            ],
            "text/plain": [
              "   mean radius  mean texture  ...  worst symmetry  worst fractal dimension\n",
              "0        17.99         10.38  ...          0.4601                  0.11890\n",
              "1        20.57         17.77  ...          0.2750                  0.08902\n",
              "2        19.69         21.25  ...          0.3613                  0.08758\n",
              "3        11.42         20.38  ...          0.6638                  0.17300\n",
              "4        20.29         14.34  ...          0.2364                  0.07678\n",
              "\n",
              "[5 rows x 30 columns]"
            ]
          },
          "execution_count": 22,
          "metadata": {
            "tags": []
          },
          "output_type": "execute_result"
        }
      ],
      "source": [
        "df = pd.DataFrame(cancer_data['data'], columns=cancer_data['feature_names'])\n",
        "df.head()\n"
      ]
    },
    {
      "cell_type": "markdown",
      "metadata": {
        "id": "ai2f31UF95dI"
      },
      "source": [
        "We still need to put the target data in our DataFrame, which can be found with the 'target' key. We can see that the target is a `1-dimensional` numpy array of $1’s$ and $0’s$."
      ]
    },
    {
      "cell_type": "code",
      "execution_count": 23,
      "metadata": {
        "colab": {
          "base_uri": "https://localhost:8080/"
        },
        "id": "rju3fVbM9xfg",
        "outputId": "a9647636-f606-486d-c68e-3175ad92ec58"
      },
      "outputs": [
        {
          "name": "stdout",
          "output_type": "stream",
          "text": [
            "(569,)\n",
            "[0 0 0 0 0 0 0 0 0 0 0 0 0 0 0 0 0 0 0 1 1 1 0 0 0 0 0 0 0 0 0 0 0 0 0 0 0\n",
            " 1 0 0 0 0 0 0 0 0 1 0 1 1 1 1 1 0 0 1 0 0 1 1 1 1 0 1 0 0 1 1 1 1 0 1 0 0\n",
            " 1 0 1 0 0 1 1 1 0 0 1 0 0 0 1 1 1 0 1 1 0 0 1 1 1 0 0 1 1 1 1 0 1 1 0 1 1\n",
            " 1 1 1 1 1 1 0 0 0 1 0 0 1 1 1 0 0 1 0 1 0 0 1 0 0 1 1 0 1 1 0 1 1 1 1 0 1\n",
            " 1 1 1 1 1 1 1 1 0 1 1 1 1 0 0 1 0 1 1 0 0 1 1 0 0 1 1 1 1 0 1 1 0 0 0 1 0\n",
            " 1 0 1 1 1 0 1 1 0 0 1 0 0 0 0 1 0 0 0 1 0 1 0 1 1 0 1 0 0 0 0 1 1 0 0 1 1\n",
            " 1 0 1 1 1 1 1 0 0 1 1 0 1 1 0 0 1 0 1 1 1 1 0 1 1 1 1 1 0 1 0 0 0 0 0 0 0\n",
            " 0 0 0 0 0 0 0 1 1 1 1 1 1 0 1 0 1 1 0 1 1 0 1 0 0 1 1 1 1 1 1 1 1 1 1 1 1\n",
            " 1 0 1 1 0 1 0 1 1 1 1 1 1 1 1 1 1 1 1 1 1 0 1 1 1 0 1 0 1 1 1 1 0 0 0 1 1\n",
            " 1 1 0 1 0 1 0 1 1 1 0 1 1 1 1 1 1 1 0 0 0 1 1 1 1 1 1 1 1 1 1 1 0 0 1 0 0\n",
            " 0 1 0 0 1 1 1 1 1 0 1 1 1 1 1 0 1 1 1 0 1 1 0 0 1 1 1 1 1 1 0 1 1 1 1 1 1\n",
            " 1 0 1 1 1 1 1 0 1 1 0 1 1 1 1 1 1 1 1 1 1 1 1 0 1 0 0 1 0 1 1 1 1 1 0 1 1\n",
            " 0 1 0 1 1 0 1 0 1 1 1 1 1 1 1 1 0 0 1 1 1 1 1 1 0 1 1 1 1 1 1 1 1 1 1 0 1\n",
            " 1 1 1 1 1 1 0 1 0 1 1 0 1 1 1 1 1 0 0 1 0 1 0 1 1 1 1 1 0 1 1 0 1 0 1 0 0\n",
            " 1 1 1 0 1 1 1 1 1 1 1 1 1 1 1 0 1 0 0 1 1 1 1 1 1 1 1 1 1 1 1 1 1 1 1 1 1\n",
            " 1 1 1 1 1 1 1 0 0 0 0 0 0 1]\n"
          ]
        }
      ],
      "source": [
        "print(cancer_data['target'].shape)\n",
        "print(cancer_data['target'])"
      ]
    },
    {
      "cell_type": "code",
      "execution_count": 24,
      "metadata": {
        "colab": {
          "base_uri": "https://localhost:8080/"
        },
        "id": "-cV1Krtk-ZDf",
        "outputId": "1c98885e-7983-47e4-c8a5-b3c3d5d57b00"
      },
      "outputs": [
        {
          "data": {
            "text/plain": [
              "array(['malignant', 'benign'], dtype='<U9')"
            ]
          },
          "execution_count": 24,
          "metadata": {
            "tags": []
          },
          "output_type": "execute_result"
        }
      ],
      "source": [
        "cancer_data['target_names']"
      ]
    },
    {
      "cell_type": "code",
      "execution_count": 25,
      "metadata": {
        "colab": {
          "base_uri": "https://localhost:8080/",
          "height": 243
        },
        "id": "Bgoq0PxK-jE3",
        "outputId": "16fe76a4-4140-4b5f-b80e-f48dfab47392"
      },
      "outputs": [
        {
          "data": {
            "text/html": [
              "<div>\n",
              "<style scoped>\n",
              "    .dataframe tbody tr th:only-of-type {\n",
              "        vertical-align: middle;\n",
              "    }\n",
              "\n",
              "    .dataframe tbody tr th {\n",
              "        vertical-align: top;\n",
              "    }\n",
              "\n",
              "    .dataframe thead th {\n",
              "        text-align: right;\n",
              "    }\n",
              "</style>\n",
              "<table border=\"1\" class=\"dataframe\">\n",
              "  <thead>\n",
              "    <tr style=\"text-align: right;\">\n",
              "      <th></th>\n",
              "      <th>mean radius</th>\n",
              "      <th>mean texture</th>\n",
              "      <th>mean perimeter</th>\n",
              "      <th>mean area</th>\n",
              "      <th>mean smoothness</th>\n",
              "      <th>mean compactness</th>\n",
              "      <th>mean concavity</th>\n",
              "      <th>mean concave points</th>\n",
              "      <th>mean symmetry</th>\n",
              "      <th>mean fractal dimension</th>\n",
              "      <th>radius error</th>\n",
              "      <th>texture error</th>\n",
              "      <th>perimeter error</th>\n",
              "      <th>area error</th>\n",
              "      <th>smoothness error</th>\n",
              "      <th>compactness error</th>\n",
              "      <th>concavity error</th>\n",
              "      <th>concave points error</th>\n",
              "      <th>symmetry error</th>\n",
              "      <th>fractal dimension error</th>\n",
              "      <th>worst radius</th>\n",
              "      <th>worst texture</th>\n",
              "      <th>worst perimeter</th>\n",
              "      <th>worst area</th>\n",
              "      <th>worst smoothness</th>\n",
              "      <th>worst compactness</th>\n",
              "      <th>worst concavity</th>\n",
              "      <th>worst concave points</th>\n",
              "      <th>worst symmetry</th>\n",
              "      <th>worst fractal dimension</th>\n",
              "      <th>target</th>\n",
              "    </tr>\n",
              "  </thead>\n",
              "  <tbody>\n",
              "    <tr>\n",
              "      <th>0</th>\n",
              "      <td>17.99</td>\n",
              "      <td>10.38</td>\n",
              "      <td>122.80</td>\n",
              "      <td>1001.0</td>\n",
              "      <td>0.11840</td>\n",
              "      <td>0.27760</td>\n",
              "      <td>0.3001</td>\n",
              "      <td>0.14710</td>\n",
              "      <td>0.2419</td>\n",
              "      <td>0.07871</td>\n",
              "      <td>1.0950</td>\n",
              "      <td>0.9053</td>\n",
              "      <td>8.589</td>\n",
              "      <td>153.40</td>\n",
              "      <td>0.006399</td>\n",
              "      <td>0.04904</td>\n",
              "      <td>0.05373</td>\n",
              "      <td>0.01587</td>\n",
              "      <td>0.03003</td>\n",
              "      <td>0.006193</td>\n",
              "      <td>25.38</td>\n",
              "      <td>17.33</td>\n",
              "      <td>184.60</td>\n",
              "      <td>2019.0</td>\n",
              "      <td>0.1622</td>\n",
              "      <td>0.6656</td>\n",
              "      <td>0.7119</td>\n",
              "      <td>0.2654</td>\n",
              "      <td>0.4601</td>\n",
              "      <td>0.11890</td>\n",
              "      <td>0</td>\n",
              "    </tr>\n",
              "    <tr>\n",
              "      <th>1</th>\n",
              "      <td>20.57</td>\n",
              "      <td>17.77</td>\n",
              "      <td>132.90</td>\n",
              "      <td>1326.0</td>\n",
              "      <td>0.08474</td>\n",
              "      <td>0.07864</td>\n",
              "      <td>0.0869</td>\n",
              "      <td>0.07017</td>\n",
              "      <td>0.1812</td>\n",
              "      <td>0.05667</td>\n",
              "      <td>0.5435</td>\n",
              "      <td>0.7339</td>\n",
              "      <td>3.398</td>\n",
              "      <td>74.08</td>\n",
              "      <td>0.005225</td>\n",
              "      <td>0.01308</td>\n",
              "      <td>0.01860</td>\n",
              "      <td>0.01340</td>\n",
              "      <td>0.01389</td>\n",
              "      <td>0.003532</td>\n",
              "      <td>24.99</td>\n",
              "      <td>23.41</td>\n",
              "      <td>158.80</td>\n",
              "      <td>1956.0</td>\n",
              "      <td>0.1238</td>\n",
              "      <td>0.1866</td>\n",
              "      <td>0.2416</td>\n",
              "      <td>0.1860</td>\n",
              "      <td>0.2750</td>\n",
              "      <td>0.08902</td>\n",
              "      <td>0</td>\n",
              "    </tr>\n",
              "    <tr>\n",
              "      <th>2</th>\n",
              "      <td>19.69</td>\n",
              "      <td>21.25</td>\n",
              "      <td>130.00</td>\n",
              "      <td>1203.0</td>\n",
              "      <td>0.10960</td>\n",
              "      <td>0.15990</td>\n",
              "      <td>0.1974</td>\n",
              "      <td>0.12790</td>\n",
              "      <td>0.2069</td>\n",
              "      <td>0.05999</td>\n",
              "      <td>0.7456</td>\n",
              "      <td>0.7869</td>\n",
              "      <td>4.585</td>\n",
              "      <td>94.03</td>\n",
              "      <td>0.006150</td>\n",
              "      <td>0.04006</td>\n",
              "      <td>0.03832</td>\n",
              "      <td>0.02058</td>\n",
              "      <td>0.02250</td>\n",
              "      <td>0.004571</td>\n",
              "      <td>23.57</td>\n",
              "      <td>25.53</td>\n",
              "      <td>152.50</td>\n",
              "      <td>1709.0</td>\n",
              "      <td>0.1444</td>\n",
              "      <td>0.4245</td>\n",
              "      <td>0.4504</td>\n",
              "      <td>0.2430</td>\n",
              "      <td>0.3613</td>\n",
              "      <td>0.08758</td>\n",
              "      <td>0</td>\n",
              "    </tr>\n",
              "    <tr>\n",
              "      <th>3</th>\n",
              "      <td>11.42</td>\n",
              "      <td>20.38</td>\n",
              "      <td>77.58</td>\n",
              "      <td>386.1</td>\n",
              "      <td>0.14250</td>\n",
              "      <td>0.28390</td>\n",
              "      <td>0.2414</td>\n",
              "      <td>0.10520</td>\n",
              "      <td>0.2597</td>\n",
              "      <td>0.09744</td>\n",
              "      <td>0.4956</td>\n",
              "      <td>1.1560</td>\n",
              "      <td>3.445</td>\n",
              "      <td>27.23</td>\n",
              "      <td>0.009110</td>\n",
              "      <td>0.07458</td>\n",
              "      <td>0.05661</td>\n",
              "      <td>0.01867</td>\n",
              "      <td>0.05963</td>\n",
              "      <td>0.009208</td>\n",
              "      <td>14.91</td>\n",
              "      <td>26.50</td>\n",
              "      <td>98.87</td>\n",
              "      <td>567.7</td>\n",
              "      <td>0.2098</td>\n",
              "      <td>0.8663</td>\n",
              "      <td>0.6869</td>\n",
              "      <td>0.2575</td>\n",
              "      <td>0.6638</td>\n",
              "      <td>0.17300</td>\n",
              "      <td>0</td>\n",
              "    </tr>\n",
              "    <tr>\n",
              "      <th>4</th>\n",
              "      <td>20.29</td>\n",
              "      <td>14.34</td>\n",
              "      <td>135.10</td>\n",
              "      <td>1297.0</td>\n",
              "      <td>0.10030</td>\n",
              "      <td>0.13280</td>\n",
              "      <td>0.1980</td>\n",
              "      <td>0.10430</td>\n",
              "      <td>0.1809</td>\n",
              "      <td>0.05883</td>\n",
              "      <td>0.7572</td>\n",
              "      <td>0.7813</td>\n",
              "      <td>5.438</td>\n",
              "      <td>94.44</td>\n",
              "      <td>0.011490</td>\n",
              "      <td>0.02461</td>\n",
              "      <td>0.05688</td>\n",
              "      <td>0.01885</td>\n",
              "      <td>0.01756</td>\n",
              "      <td>0.005115</td>\n",
              "      <td>22.54</td>\n",
              "      <td>16.67</td>\n",
              "      <td>152.20</td>\n",
              "      <td>1575.0</td>\n",
              "      <td>0.1374</td>\n",
              "      <td>0.2050</td>\n",
              "      <td>0.4000</td>\n",
              "      <td>0.1625</td>\n",
              "      <td>0.2364</td>\n",
              "      <td>0.07678</td>\n",
              "      <td>0</td>\n",
              "    </tr>\n",
              "  </tbody>\n",
              "</table>\n",
              "</div>"
            ],
            "text/plain": [
              "   mean radius  mean texture  ...  worst fractal dimension  target\n",
              "0        17.99         10.38  ...                  0.11890       0\n",
              "1        20.57         17.77  ...                  0.08902       0\n",
              "2        19.69         21.25  ...                  0.08758       0\n",
              "3        11.42         20.38  ...                  0.17300       0\n",
              "4        20.29         14.34  ...                  0.07678       0\n",
              "\n",
              "[5 rows x 31 columns]"
            ]
          },
          "execution_count": 25,
          "metadata": {
            "tags": []
          },
          "output_type": "execute_result"
        }
      ],
      "source": [
        "df['target'] = cancer_data['target']\n",
        "df.head()"
      ]
    },
    {
      "cell_type": "markdown",
      "metadata": {
        "id": "xX9tmiqQ-_3S"
      },
      "source": [
        "__Build a Logistic Regression Model__"
      ]
    },
    {
      "cell_type": "code",
      "execution_count": 26,
      "metadata": {
        "colab": {
          "base_uri": "https://localhost:8080/"
        },
        "id": "F41SWuvr-_L0",
        "outputId": "21aee791-de69-40a1-88a5-cde4032cc7dc"
      },
      "outputs": [
        {
          "name": "stdout",
          "output_type": "stream",
          "text": [
            "prediction for datapoint 0: [0]\n",
            "0.9595782073813708\n"
          ]
        }
      ],
      "source": [
        "import pandas as pd\n",
        "from sklearn.datasets import load_breast_cancer\n",
        "from sklearn.linear_model import LogisticRegression\n",
        "\n",
        "cancer_data = load_breast_cancer()\n",
        "df = pd.DataFrame(cancer_data['data'], columns=cancer_data['feature_names'])\n",
        "df['target'] = cancer_data['target']\n",
        "\n",
        "X = df[cancer_data.feature_names].values\n",
        "y = df['target'].values\n",
        "\n",
        "model = LogisticRegression(solver='liblinear')\n",
        "model.fit(X, y)\n",
        "print(\"prediction for datapoint 0:\", model.predict([X[0]]))\n",
        "print(model.score(X, y))"
      ]
    },
    {
      "cell_type": "markdown",
      "metadata": {
        "id": "OewHaUe3Apty"
      },
      "source": [
        "[what `newton-cg`, `sag`, `lbfgs` and `liblinear`?](https://stackoverflow.com/questions/38640109/logistic-regression-python-solvers-defintions)\n",
        "\n",
        "![sklearn_libliner](https://i.stack.imgur.com/K568D.png)"
      ]
    },
    {
      "cell_type": "markdown",
      "metadata": {
        "id": "zy8-g7hHFa7w"
      },
      "source": [
        "__Bob the Builder Run__\n",
        "\n",
        "```python\n",
        "n = int(input())\n",
        "X = []\n",
        "for i in range(n):\n",
        "    X.append([float(x) for x in input().split()])\n",
        "y = [int(x) for x in input().split()]\n",
        "datapoint = [float(x) for x in input().split()]\n",
        "\n",
        "import pandas as pd\n",
        "from sklearn.linear_model import LogisticRegression\n",
        "\n",
        "model = LogisticRegression()\n",
        "model.fit(X,y)\n",
        "\n",
        "prevision = model.predict([datapoint])\n",
        "print(int(prevision))\n",
        "```"
      ]
    },
    {
      "cell_type": "markdown",
      "metadata": {
        "id": "1u1Fl2xjFtoZ"
      },
      "source": [
        "# __03 - Model Evaluation__"
      ]
    },
    {
      "cell_type": "markdown",
      "metadata": {
        "id": "pHmRHeAgF8Y6"
      },
      "source": [
        "![Confusion_matrix](https://raw.githubusercontent.com/mohd-faizy/CAREER-TRACK-Data-Scientist-with-Python/main/_png/Confusion%20Matrix.png)"
      ]
    },
    {
      "cell_type": "markdown",
      "metadata": {
        "id": "e_H3N3g4Se60"
      },
      "source": [
        "## Accuracy, Precision, Recall & F-1 Score\n",
        "\n",
        "- Two commonly used metrics for classification are **precision** and **recall**. Conceptually,\n",
        "    - **precision** refers to the percentage of positive results which are relevant \n",
        "    - and **recall** to the percentage of positive cases correctly classified.\n",
        "\n",
        "**Precision & Recall Trade-off**\n",
        "\n",
        "We often will be in a situation of choosing between increasing the recall (while lowering the precision) or increasing the precision (and lowering the recall). It will depend on the situation which we’ll want to maximize.\n",
        "\n",
        "For **example**, let’s say we’re building a model to predict if a credit card charge is fraudulent. The positive cases for our model are fraudulent charges and the negative cases are legitimate charges.\n",
        "\n",
        "__F1 Score__\n",
        "\n",
        "- **Accuracy** was an appealing metric because it was a single number.\n",
        "\n",
        "- __Precision__ and __recall__ are two numbers so it’s not always obvious how to choose between two models if one has a higher precision and the other has a higher recall.\n",
        "\n",
        "- The __F1 score__ is an average of precision and recall so that we have a single score for our model."
      ]
    },
    {
      "cell_type": "code",
      "execution_count": 27,
      "metadata": {
        "colab": {
          "base_uri": "https://localhost:8080/",
          "height": 376
        },
        "id": "AN0dHG1RbML5",
        "outputId": "0a35ab7a-94cc-47bd-aa13-8ee3f51fc737"
      },
      "outputs": [
        {
          "name": "stdout",
          "output_type": "stream",
          "text": [
            "accuracy: 0.8049605411499436\n",
            "precision: 0.7734627831715211\n",
            "recall: 0.6988304093567251\n",
            "f1 score: 0.7342549923195083\n",
            "\n",
            "\n",
            "Confusion Matrix\n"
          ]
        },
        {
          "data": {
            "image/png": "[encoded data removed]",
            "text/plain": [
              "<Figure size 432x288 with 2 Axes>"
            ]
          },
          "metadata": {
            "needs_background": "light",
            "tags": []
          },
          "output_type": "display_data"
        }
      ],
      "source": [
        "import pandas as pd\n",
        "from sklearn.linear_model import LogisticRegression\n",
        "from sklearn.metrics import accuracy_score, precision_score, recall_score, f1_score, confusion_matrix\n",
        "\n",
        "df_titanic = pd.read_csv('/content/titanic.csv')\n",
        "df_titanic['male'] = df_titanic['Sex'] == 'male'\n",
        "X = df_titanic[['Pclass', 'male', 'Age', 'Siblings/Spouses', 'Parents/Children', 'Fare']].values\n",
        "y = df_titanic['Survived'].values\n",
        "model = LogisticRegression()\n",
        "model.fit(X, y)\n",
        "y_pred = model.predict(X)\n",
        "\n",
        "print(\"accuracy:\", accuracy_score(y, y_pred))\n",
        "print(\"precision:\", precision_score(y, y_pred))\n",
        "print(\"recall:\", recall_score(y, y_pred))\n",
        "print(\"f1 score:\", f1_score(y, y_pred))\n",
        "print('\\n')\n",
        "print('Confusion Matrix')\n",
        "col  = ['Act Neg', 'Act Pos']\n",
        "index = ['Pred Neg', 'Pred Pos']\n",
        "cm = confusion_matrix(y, y_pred)\n",
        "df_cm = pd.DataFrame(cm, col, index)\n",
        "sns.heatmap(df_cm, cmap='Blues', annot=True, fmt=\"d\")\n",
        "plt.show()"
      ]
    },
    {
      "cell_type": "code",
      "execution_count": 28,
      "metadata": {
        "colab": {
          "base_uri": "https://localhost:8080/",
          "height": 262
        },
        "id": "BQnZYMDvSHY5",
        "outputId": "434b752a-40db-402d-c28e-6b0082352097"
      },
      "outputs": [
        {
          "data": {
            "image/png": "[encoded data removed]",
            "text/plain": [
              "<Figure size 432x288 with 2 Axes>"
            ]
          },
          "metadata": {
            "needs_background": "light",
            "tags": []
          },
          "output_type": "display_data"
        }
      ],
      "source": [
        "group_names = ['True Neg', 'False Pos', 'False Neg', 'True Pos']\n",
        "group_counts = ['{0:0.0f}'.format(value) for value in\n",
        "                cm.flatten()]\n",
        "\n",
        "labels = [f'{v1}\\n{v2}' for v1, v2 in\n",
        "          zip(group_names,group_counts)]\n",
        "\n",
        "\n",
        "labels = np.asarray(labels).reshape(2,2)\n",
        "sns.heatmap(cm, annot=labels, fmt='', cmap='Blues')\n",
        "plt.show()"
      ]
    },
    {
      "cell_type": "markdown",
      "metadata": {
        "id": "e5T7dmoMLpHj"
      },
      "source": [
        "Scikit-learn reverses the confusion matrix to show the negative counts first! Here is how this confusion matrix should be labeled.\n",
        "\n",
        "\n",
        "![cm1](https://api.sololearn.com/DownloadFile?id=3923)\n",
        "\n",
        "This is how we would typically draw the confusion matrix.\n",
        "\n",
        "![cm2](https://api.sololearn.com/DownloadFile?id=3924)\n"
      ]
    },
    {
      "cell_type": "code",
      "execution_count": 29,
      "metadata": {
        "colab": {
          "base_uri": "https://localhost:8080/",
          "height": 537
        },
        "id": "KgunOAxeDixd",
        "outputId": "11110029-6ae6-4c75-9b77-38704abcf31a"
      },
      "outputs": [
        {
          "data": {
            "image/png": "[encoded data removed]",
            "text/plain": [
              "<Figure size 864x648 with 2 Axes>"
            ]
          },
          "metadata": {
            "needs_background": "light",
            "tags": []
          },
          "output_type": "display_data"
        }
      ],
      "source": [
        "plt.figure(figsize=(12, 9))\n",
        "sns.heatmap(df_titanic.corr(), cmap='coolwarm', annot=True)\n",
        "plt.show()"
      ]
    },
    {
      "cell_type": "markdown",
      "metadata": {
        "id": "Y1npAU_tXJHb"
      },
      "source": [
        "### __Training and Testing in Sklearn__\n",
        "\n",
        "Scikit-learn has a function built in for splitting the data into a training set and a test set.\n",
        "\n",
        "Assuming we have a **2-dimensional** numpy array $X$ of our features and a **1-dimensional** numpy array $y$ of the target, we can use the `train_test_split` function. It will randomly put each datapoint in either the training set or the test set.\n",
        "\n",
        "> By default the training set is 75% of the data and the test set is the remaining 25% of the data.\n",
        "\n"
      ]
    },
    {
      "cell_type": "code",
      "execution_count": 30,
      "metadata": {
        "colab": {
          "base_uri": "https://localhost:8080/"
        },
        "id": "7jBuSGNDHOpW",
        "outputId": "29da3ba7-eb27-4087-a2c3-54324911f00d"
      },
      "outputs": [
        {
          "name": "stdout",
          "output_type": "stream",
          "text": [
            "whole dataset: (887, 6) (887,)\n",
            "training set: (594, 6) (594,)\n",
            "test set: (293, 6) (293,)\n",
            "accuracy: 0.7849829351535836\n",
            "precision: 0.7350427350427351\n",
            "recall: 0.7288135593220338\n",
            "f1 score: 0.7319148936170214\n"
          ]
        }
      ],
      "source": [
        "import pandas as pd\n",
        "from sklearn.linear_model import LogisticRegression\n",
        "from sklearn.metrics import accuracy_score, precision_score, recall_score, f1_score\n",
        "from sklearn.model_selection import train_test_split\n",
        "\n",
        "df_titanic = pd.read_csv('/content/titanic.csv')\n",
        "df_titanic['male'] = df_titanic['Sex'] == 'male'\n",
        "X = df_titanic[['Pclass', 'male', 'Age', 'Siblings/Spouses', 'Parents/Children', 'Fare']].values\n",
        "y = df_titanic['Survived'].values\n",
        "\n",
        "X_train, X_test, y_train, y_test = train_test_split(X, y, test_size=0.33, stratify=None)\n",
        "\n",
        "print(\"whole dataset:\", X.shape, y.shape)\n",
        "print(\"training set:\", X_train.shape, y_train.shape)\n",
        "print(\"test set:\", X_test.shape, y_test.shape)\n",
        "\n",
        "# building the model\n",
        "model = LogisticRegression()\n",
        "model.fit(X_train, y_train)\n",
        "\n",
        "# evaluating the model\n",
        "# print(\"accuracy:\", model.score(X_test, y_test))\n",
        "y_pred = model.predict(X_test)\n",
        "print(\"accuracy:\", accuracy_score(y_test, y_pred))\n",
        "print(\"precision:\", precision_score(y_test, y_pred))\n",
        "print(\"recall:\", recall_score(y_test, y_pred))\n",
        "print(\"f1 score:\", f1_score(y_test, y_pred))"
      ]
    },
    {
      "cell_type": "markdown",
      "metadata": {
        "id": "evcWDCvxy0v5"
      },
      "source": [
        "### __Using a Random State__"
      ]
    },
    {
      "cell_type": "code",
      "execution_count": 31,
      "metadata": {
        "colab": {
          "base_uri": "https://localhost:8080/"
        },
        "id": "WX4GNvR-y7SO",
        "outputId": "4cd0df09-7707-45c1-8a83-5a340d3f5a43"
      },
      "outputs": [
        {
          "name": "stdout",
          "output_type": "stream",
          "text": [
            "X_train [[4, 4], [1, 1], [3, 3]]\n",
            "X_test [[2, 2]]\n"
          ]
        }
      ],
      "source": [
        "from sklearn.model_selection import train_test_split\n",
        "\n",
        "X = [[1, 1], [2, 2], [3, 3], [4, 4]]\n",
        "y = [0, 0, 1, 1]\n",
        "\n",
        "X_train, X_test, y_train, y_test = train_test_split(X, y)\n",
        "print('X_train', X_train)\n",
        "print('X_test', X_test)"
      ]
    },
    {
      "cell_type": "code",
      "execution_count": 32,
      "metadata": {
        "colab": {
          "base_uri": "https://localhost:8080/"
        },
        "id": "HgGDh21hzDEB",
        "outputId": "71be386b-3776-46f3-acbf-a64163d20db6"
      },
      "outputs": [
        {
          "name": "stdout",
          "output_type": "stream",
          "text": [
            "X_train [[3, 3], [1, 1], [4, 4]]\n",
            "X_test [[2, 2]]\n"
          ]
        }
      ],
      "source": [
        "from sklearn.model_selection import train_test_split\n",
        "\n",
        "X = [[1, 1], [2, 2], [3, 3], [4, 4]]\n",
        "y = [0, 0, 1, 1]\n",
        "\n",
        "X_train, X_test, y_train, y_test = train_test_split(X, y, random_state=27)\n",
        "print('X_train', X_train)\n",
        "print('X_test', X_test)"
      ]
    },
    {
      "cell_type": "markdown",
      "metadata": {
        "id": "zU0tv_zXGFZw"
      },
      "source": [
        "## __ROC Curve__\n",
        "\n",
        "With a **Logistic Regression** model, we have an easy way of shifting between emphasizing **precision** and emphasizing **recall**. The Logistic Regression model doesn’t just return a prediction, but it returns a probability value between $0$ and $1$.\n",
        "\n",
        "Typically, we say if the value is $\\geq0.5$ , we predict the passenger survived, and if the value is $<{0.5}$ the passenger didn’t survive. However, we could choose any threshold between $0$ and $1$.\n",
        "\n",
        "> If we make the **threshold higher** $\\uparrow$, we’ll have **fewer positive predictions**, but our __positive predictions__ are more likely to be __correct__. This means that the __precision__ $\\uparrow$ would be higher and the **recall** $\\downarrow$ lower.\n",
        "\n",
        "> On the other hand, if we make the **threshold lower** $\\downarrow$, we’ll have **more positive predictions**, so we’re **more likely to catch all the positive cases**. This means that the __recall__ $\\uparrow$ would be higher and the __precision__ $\\downarrow$ lower.\n"
      ]
    },
    {
      "cell_type": "markdown",
      "metadata": {
        "id": "l0ffkJW3-Uc0"
      },
      "source": [
        "An ROC (Receiver operating characteristic) Curve is a **graph showing all of the possible models and their performance**.\n",
        "\n",
        "- $Sensitivity/Recall = \\frac{TP}{TP+FN}$\n",
        "- $Specificity  = \\frac{TN}{TN+FP}$\n",
        "\n",
        "\n",
        "$Note:$ Scikit-learn has not defined functions for **sensitivity** and **specificity**, but we can do it ourselves.\n",
        "\n"
      ]
    },
    {
      "cell_type": "code",
      "execution_count": 33,
      "metadata": {
        "colab": {
          "base_uri": "https://localhost:8080/"
        },
        "id": "ihYV1vDbGPGO",
        "outputId": "30efa02e-4faa-4fc8-9928-bce2119dc7d9"
      },
      "outputs": [
        {
          "name": "stdout",
          "output_type": "stream",
          "text": [
            "sensitivity: 0.6829268292682927\n",
            "[0.83225806 0.8358209 ] [0.92142857 0.68292683] [0.87457627 0.75167785] [140  82]\n",
            "specificity: 0.9214285714285714\n"
          ]
        }
      ],
      "source": [
        "import pandas as pd\n",
        "from sklearn.linear_model import LogisticRegression\n",
        "from sklearn.model_selection import train_test_split\n",
        "from sklearn.metrics import recall_score, precision_recall_fscore_support\n",
        "\n",
        "# sensitivity\n",
        "sensitivity_score = recall_score\n",
        "# specificity\n",
        "def specificity_score(y_true, y_pred):\n",
        "    p, r, f, s = precision_recall_fscore_support(y_true, y_pred)\n",
        "    print(p,r,f,s)\n",
        "    return r[0]\n",
        "\n",
        "df = pd.read_csv('/content/titanic.csv')\n",
        "df['male'] = df['Sex'] == 'male'\n",
        "X = df[['Pclass', 'male', 'Age', 'Siblings/Spouses', 'Parents/Children', 'Fare']].values\n",
        "y = df['Survived'].values\n",
        "\n",
        "X_train, X_test, y_train, y_test = train_test_split(X, y, random_state=5)\n",
        "\n",
        "model = LogisticRegression()\n",
        "model.fit(X_train, y_train)\n",
        "y_pred = model.predict(X_test)\n",
        "\n",
        "print(\"sensitivity:\", sensitivity_score(y_test, y_pred))\n",
        "print(\"specificity:\", specificity_score(y_test, y_pred))"
      ]
    },
    {
      "cell_type": "markdown",
      "metadata": {
        "id": "0f_xtl4mCEpZ"
      },
      "source": [
        "The **second array** is the **recall**, so we can **ignore** the other **three** arrays. There are two values.\n",
        "- The ***first is the recall of the negative class*** and ***the second is the recall of the positive class***.\n",
        "- The **second value** is the ***standard recall or sensitivity value***, and you can see the value matches what we got above.\n",
        "- The **first value is the specificity**. So let’s write a function to get just that value.\n",
        "\n",
        "\n",
        "```python\n",
        "p, r, f, s = precision_recall_fscore_support(y_test, y_pred)\n",
        "print(r[1])\n",
        "\n",
        "# Sensitivity\n",
        "```\n"
      ]
    },
    {
      "cell_type": "markdown",
      "metadata": {
        "id": "H_x-UjyBKTts"
      },
      "source": [
        "### __Adjusting the Logistic Regression Threshold in Sklearn__"
      ]
    },
    {
      "cell_type": "code",
      "execution_count": 34,
      "metadata": {
        "colab": {
          "base_uri": "https://localhost:8080/"
        },
        "id": "Ry0Q8a8HKQ7f",
        "outputId": "0ce49233-7dec-4a62-cbc4-f7c7759f96a1"
      },
      "outputs": [
        {
          "data": {
            "text/plain": [
              "LogisticRegression(C=1.0, class_weight=None, dual=False, fit_intercept=True,\n",
              "                   intercept_scaling=1, l1_ratio=None, max_iter=100,\n",
              "                   multi_class='auto', n_jobs=None, penalty='l2',\n",
              "                   random_state=None, solver='lbfgs', tol=0.0001, verbose=0,\n",
              "                   warm_start=False)"
            ]
          },
          "execution_count": 34,
          "metadata": {
            "tags": []
          },
          "output_type": "execute_result"
        }
      ],
      "source": [
        "import pandas as pd\n",
        "from sklearn.linear_model import LogisticRegression\n",
        "from sklearn.metrics import precision_score, recall_score\n",
        "from sklearn.model_selection import train_test_split\n",
        "\n",
        "df = pd.read_csv('/content/titanic.csv')\n",
        "df['male'] = df['Sex'] == 'male'\n",
        "X = df[['Pclass', 'male', 'Age', 'Siblings/Spouses', 'Parents/Children', 'Fare']].values\n",
        "y = df['Survived'].values\n",
        "\n",
        "X_train, X_test, y_train, y_test = train_test_split(X, y)\n",
        "\n",
        "model = LogisticRegression()\n",
        "model.fit(X_train, y_train)"
      ]
    },
    {
      "cell_type": "markdown",
      "metadata": {
        "id": "jP_-gjnbLamc"
      },
      "source": [
        "**threshold value = $0.70$**"
      ]
    },
    {
      "cell_type": "code",
      "execution_count": 35,
      "metadata": {
        "colab": {
          "base_uri": "https://localhost:8080/"
        },
        "id": "Gme2atjRLXEr",
        "outputId": "5043b306-2362-4cce-c296-21613737235e"
      },
      "outputs": [
        {
          "name": "stdout",
          "output_type": "stream",
          "text": [
            "precision: 0.9183673469387755\n",
            "recall: 0.5294117647058824\n"
          ]
        }
      ],
      "source": [
        "y_pred = model.predict_proba(X_test)[:, 1] > 0.70\n",
        "\n",
        "print(\"precision:\", precision_score(y_test, y_pred))\n",
        "print(\"recall:\", recall_score(y_test, y_pred))"
      ]
    },
    {
      "cell_type": "markdown",
      "metadata": {
        "id": "J2eP9tkrLnXa"
      },
      "source": [
        "**threshold value = $0.50$**"
      ]
    },
    {
      "cell_type": "code",
      "execution_count": 36,
      "metadata": {
        "colab": {
          "base_uri": "https://localhost:8080/"
        },
        "id": "w6lt7A9vK76U",
        "outputId": "83862d51-52d1-45ce-a47e-b548f1a47370"
      },
      "outputs": [
        {
          "name": "stdout",
          "output_type": "stream",
          "text": [
            "precision: 0.7160493827160493\n",
            "recall: 0.6823529411764706\n"
          ]
        }
      ],
      "source": [
        "y_pred = model.predict_proba(X_test)[:, 1] > 0.50\n",
        "\n",
        "print(\"precision:\", precision_score(y_test, y_pred))\n",
        "print(\"recall:\", recall_score(y_test, y_pred))"
      ]
    },
    {
      "cell_type": "markdown",
      "metadata": {
        "id": "grtbVVomLpI_"
      },
      "source": [
        "**threshold value = $0.30$**"
      ]
    },
    {
      "cell_type": "code",
      "execution_count": 37,
      "metadata": {
        "colab": {
          "base_uri": "https://localhost:8080/"
        },
        "id": "r2d43OmmLMDh",
        "outputId": "9074c793-fc87-4d09-acdf-0e667aaa33e3"
      },
      "outputs": [
        {
          "name": "stdout",
          "output_type": "stream",
          "text": [
            "precision: 0.6422018348623854\n",
            "recall: 0.8235294117647058\n"
          ]
        }
      ],
      "source": [
        "y_pred = model.predict_proba(X_test)[:, 1] > 0.30\n",
        "\n",
        "print(\"precision:\", precision_score(y_test, y_pred))\n",
        "print(\"recall:\", recall_score(y_test, y_pred))"
      ]
    },
    {
      "cell_type": "markdown",
      "metadata": {
        "id": "D1-tgiMCMY2y"
      },
      "source": [
        "<div class=\"alert alert-block alert-info\" style=\"margin-top: 20px\">\n",
        "<p>Setting the threshold to 0.5 we would get the original Logistic Regression model. Any other threshold value yields an alternative model.</p>\n",
        "</div>"
      ]
    },
    {
      "cell_type": "markdown",
      "metadata": {
        "id": "Ni1sbQXhPUuo"
      },
      "source": [
        "## __Area Under the Curve__\n",
        "\n",
        "![AOC](https://api.sololearn.com/DownloadFile?id=3788)\n",
        "\n",
        "- The $\\color{blue}{\\textbf{blue}}$ curve outperforms the $\\color{orange}{\\textbf{orange}}$  one since the blue line is almost always above the orange line.\n",
        "\n",
        "- To get an empirical measure of this, we calculate the __Area Under the Curve__, also called the __AUC__. This is the area under the _ROC curve__. It’s a value between $0$ and $1$, the higher the better.\n",
        "\n",
        "Since the **ROC** is a graph of all the different **Logistic Regression** models with **different thresholds**, the **AUC** does not measure the performance of a single model. It gives a general sense of how well the Logistic Regression model is performing. To get a single model, you still need to find the optimal threshold for your problem.\n",
        "\n",
        "Let’s use scikit-learn to help us calculate the area under the curve. We can use the roc_auc_score function."
      ]
    },
    {
      "cell_type": "code",
      "execution_count": 38,
      "metadata": {
        "colab": {
          "base_uri": "https://localhost:8080/"
        },
        "id": "BqWpEmb-PYm_",
        "outputId": "abf3ccca-2b0d-4752-94d6-1b1208dfed8a"
      },
      "outputs": [
        {
          "name": "stdout",
          "output_type": "stream",
          "text": [
            "model 1 AUC score: 0.8386415476894483\n",
            "model 2 AUC score: 0.8192531891526569\n"
          ]
        }
      ],
      "source": [
        "import pandas as pd\n",
        "from sklearn.linear_model import LogisticRegression\n",
        "from sklearn.model_selection import train_test_split\n",
        "from sklearn.metrics import roc_auc_score\n",
        "\n",
        "df = pd.read_csv('/content/titanic.csv')\n",
        "df['male'] = df['Sex'] == 'male'\n",
        "X = df[['Pclass', 'male', 'Age', 'Siblings/Spouses', 'Parents/Children', 'Fare']].values\n",
        "y = df['Survived'].values\n",
        "\n",
        "X_train, X_test, y_train, y_test = train_test_split(X, y)\n",
        "\n",
        "model1 = LogisticRegression()\n",
        "model1.fit(X_train, y_train)\n",
        "y_pred_proba1 = model1.predict_proba(X_test)\n",
        "print(\"model 1 AUC score:\", roc_auc_score(y_test, y_pred_proba1[:, 1]))\n",
        "\n",
        "model2 = LogisticRegression()\n",
        "model2.fit(X_train[:, 0:2], y_train)\n",
        "y_pred_proba2 = model2.predict_proba(X_test[:, 0:2])\n",
        "print(\"model 2 AUC score:\", roc_auc_score(y_test, y_pred_proba2[:, 1]))"
      ]
    },
    {
      "cell_type": "markdown",
      "metadata": {
        "id": "cI9YFOeKkoGi"
      },
      "source": [
        "## **k-fold Cross Validation**\n",
        "\n"
      ]
    },
    {
      "cell_type": "markdown",
      "metadata": {
        "id": "je47cpOHC_lT"
      },
      "source": [
        "### **Concerns with Training and Test Set**\n",
        "\n",
        "\n",
        "We are doing evaluation because we want to get an accurate measure of how well the model performs. If our dataset is small, our test set is going to be small. Thus it might not be a good random assortment of datapoints and by random chance end up with easy or difficult datapoints in our evaluation set.\n",
        "\n",
        "Since our goal is to get the best possible measure of our metrics (accuracy, precision, recall and F1 score), we can do a little better than just a single training and test set.\n",
        "\n",
        "Recall that our training and test set split looks as follows.\n",
        "\n",
        "![train_test](https://api.sololearn.com/DownloadFile?id=3801)\n",
        "\n",
        "As we can see, all the values in the training set are never used to evaluate. It would be unfair to build the model with the training set and then evaluate with the training set, but we are not getting as full a picture of the model performance as possible."
      ]
    },
    {
      "cell_type": "markdown",
      "metadata": {
        "id": "C8M3Vm4zD_tC"
      },
      "source": [
        "Each time we run it, **we get different values for the metrics**\n",
        "\n",
        "So Splitting the dataset into a single training set and test set for evaluation purposes might yield an inaccurate measure of the evaluation metrics when:\n",
        "\n",
        "**The dataset is small**\n",
        "\n"
      ]
    },
    {
      "cell_type": "code",
      "execution_count": 39,
      "metadata": {
        "colab": {
          "base_uri": "https://localhost:8080/"
        },
        "id": "m-caRaX0kr-u",
        "outputId": "12926b05-10b6-4254-c0eb-3667d8676752"
      },
      "outputs": [
        {
          "name": "stdout",
          "output_type": "stream",
          "text": [
            " accuracy: 0.77027\n",
            "precision: 0.76923\n",
            "   recall: 0.64516\n",
            " f1 score: 0.70175\n"
          ]
        }
      ],
      "source": [
        "import pandas as pd\n",
        "from sklearn.linear_model import LogisticRegression\n",
        "from sklearn.metrics import accuracy_score, precision_score, recall_score, f1_score\n",
        "from sklearn.model_selection import train_test_split\n",
        "import numpy as np\n",
        "\n",
        "df = pd.read_csv('/content/titanic.csv')\n",
        "df['male'] = df['Sex'] == 'male'\n",
        "X = df[['Pclass', 'male', 'Age', 'Siblings/Spouses', 'Parents/Children', 'Fare']].values\n",
        "y = df['Survived'].values\n",
        "\n",
        "X_train, X_test, y_train, y_test = train_test_split(X, y)\n",
        "\n",
        "# building the model\n",
        "model = LogisticRegression()\n",
        "model.fit(X_train, y_train)\n",
        "\n",
        "# evaluating the model\n",
        "y_pred = model.predict(X_test)\n",
        "print(\" accuracy: {0:.5f}\".format(accuracy_score(y_test, y_pred)))\n",
        "print(\"precision: {0:.5f}\".format(precision_score(y_test, y_pred)))\n",
        "print(\"   recall: {0:.5f}\".format(recall_score(y_test, y_pred)))\n",
        "print(\" f1 score: {0:.5f}\".format(f1_score(y_test, y_pred)))"
      ]
    },
    {
      "cell_type": "markdown",
      "metadata": {
        "id": "d8oy5JNVEMIM"
      },
      "source": [
        "**k-fold Cross Validation** is **resampling** procedure used to evaluate machine learning models on a **limited data sample**. The procedure has a single parameter called $k$ that refers to the number of groups that a given data sample is to be split into Instead of doing a single **train/test split** we’ll **split** our data into a training set and test set **multiple times**."
      ]
    },
    {
      "cell_type": "markdown",
      "metadata": {
        "id": "0I8BC_8dHaKW"
      },
      "source": [
        "### __Multiple Training and Test Sets__\n",
        "\n",
        "Depending on our test set, we can get different values for the evaluation metrics. We want to get a measure of how well our model does in general, not just a measure of how well it does on one specific test set.\n",
        "\n",
        "Instead of just taking a chunk of the data as the test set, let’s break our dataset into **$5$ chunks**. Let’s assume we have $200$ datapoints in our dataset.\n",
        "\n",
        "![k_fold](https://api.sololearn.com/DownloadFile?id=3803)\n",
        "\n",
        "Each of these 5 chunks will serve as a test set. When **Chunk 1** is the t**est set**, we use the **remaining 4 chunks** as the **training set**. Thus we have **5 training** and **test sets** as follows.\n",
        "\n",
        "![K-fold](https://api.sololearn.com/DownloadFile?id=3804)\n",
        "\n",
        "> Each of the $5$ times we have a test set of $20$% ($40$ datapoints) and a training set of $80$% ($160$ datapoints).\n"
      ]
    },
    {
      "cell_type": "markdown",
      "metadata": {
        "id": "-DglOUEQK2EM"
      },
      "source": [
        "### __Building and Evaluating with Multiple Training and Test Sets__\n",
        "\n",
        "In the previous part we saw how we could make 5 test sets, each with a different training set.\n",
        "\n",
        "Let’s say we are trying to calculate the accuracy score for our model.\n",
        "\n",
        "![K_fold](https://api.sololearn.com/DownloadFile?id=3916)\n",
        "\n",
        "We report the accuracy as the mean of the 5 values:\n",
        "\n",
        "$(0.83+0.79+0.78+0.80+0.75)/5 = 0.79$\n",
        "\n",
        "If we had just done a single training and test set and had randomly gotten the first one, we would have reported an accuracy of 0.83. If we had randomly gotten the last one, we would have reported an accuracy of 0.75. Averaging all these possible values helps eliminate the impact of which test set a datapoint lands in.\n",
        "\n",
        "You will only see values this different when you have a small dataset. With large datasets we often just do a training and test set for simplicity.\n",
        "\n",
        "This process for creating multiple training and test sets is called __k-fold cross validation__. The $k$ is the number of chunks we split our dataset into. The $standard$ $number$ is $5$, as we did in our example above.\n",
        "\n",
        "\n",
        "> Our goal in __cross validation__ is to get accurate measures for our metrics (__accuracy, precision, recall__). We are building extra models in order to feel confident in the numbers we calculate and report."
      ]
    },
    {
      "cell_type": "markdown",
      "metadata": {
        "id": "S97Ih6YCdkCt"
      },
      "source": [
        "For simplicity, let’s take a dataset with just $6$ datapoints and $2$ features and a $3-fold$ cross validation on the dataset. We’ll take the first $6$ rows from the Titanic dataset and use just the `Age` and `Fare` columns."
      ]
    },
    {
      "cell_type": "code",
      "execution_count": 40,
      "metadata": {
        "colab": {
          "base_uri": "https://localhost:8080/"
        },
        "id": "l9Khd9TXLXDD",
        "outputId": "7c58a1f9-c857-4098-e6c9-422f3d0bb1b7"
      },
      "outputs": [
        {
          "name": "stdout",
          "output_type": "stream",
          "text": [
            "[(array([0, 1, 2, 3]), array([4, 5])), (array([2, 3, 4, 5]), array([0, 1])), (array([0, 1, 4, 5]), array([2, 3]))]\n"
          ]
        }
      ],
      "source": [
        "from sklearn.model_selection import KFold\n",
        "import pandas as pd\n",
        "\n",
        "df = pd.read_csv('/content/titanic.csv')\n",
        "X = df[['Age', 'Fare']].values[:6]\n",
        "y = df['Survived'].values[:6]\n",
        "\n",
        "kf = KFold(n_splits=3, shuffle=True)\n",
        "print(list(kf.split(X)))"
      ]
    },
    {
      "cell_type": "markdown",
      "metadata": {
        "id": "_OFPkkQwbnn4"
      },
      "source": [
        "The split is done randomly, so expect to see different datapoints in the sets each time you run the code."
      ]
    },
    {
      "cell_type": "markdown",
      "metadata": {
        "id": "4h9W8MYdtjIz"
      },
      "source": [
        "### __Creating Training and Test Sets with the Folds__"
      ]
    },
    {
      "cell_type": "code",
      "execution_count": 41,
      "metadata": {
        "colab": {
          "base_uri": "https://localhost:8080/"
        },
        "id": "FZNhwvuvdC6k",
        "outputId": "36d093f3-dfbf-47ae-eaf3-ffe17b1b54a4"
      },
      "outputs": [
        {
          "name": "stdout",
          "output_type": "stream",
          "text": [
            "training set indices: [0 1 3 4]\n",
            "test set indices: [2 5]\n",
            "X_train\n",
            "[[22.      7.25  ]\n",
            " [38.     71.2833]\n",
            " [35.     53.1   ]\n",
            " [35.      8.05  ]]\n",
            "y_train [0 1 1 0]\n",
            "X_test\n",
            "[[26.      7.925 ]\n",
            " [27.      8.4583]]\n",
            "y_test [1 0]\n"
          ]
        }
      ],
      "source": [
        "from sklearn.model_selection import KFold\n",
        "import pandas as pd\n",
        "\n",
        "df = pd.read_csv('/content/titanic.csv')\n",
        "X = df[['Age', 'Fare']].values[:6]\n",
        "y = df['Survived'].values[:6]\n",
        "\n",
        "kf = KFold(n_splits=3, shuffle=True)\n",
        "\n",
        "splits = list(kf.split(X))\n",
        "first_split = splits[0]\n",
        "\n",
        "train_indices, test_indices = first_split\n",
        "\n",
        "print(\"training set indices:\", train_indices)\n",
        "print(\"test set indices:\", test_indices)\n",
        "\n",
        "X_train = X[train_indices]\n",
        "X_test = X[test_indices]\n",
        "\n",
        "y_train = y[train_indices]\n",
        "y_test = y[test_indices]\n",
        "\n",
        "print(\"X_train\")\n",
        "print(X_train)\n",
        "\n",
        "print(\"y_train\", y_train)\n",
        "\n",
        "print(\"X_test\")\n",
        "print(X_test)\n",
        "\n",
        "print(\"y_test\", y_test)"
      ]
    },
    {
      "cell_type": "markdown",
      "metadata": {
        "id": "NiQrE2obVfnT"
      },
      "source": [
        "**Build a Model**\n",
        "\n",
        "Now we can use the training and test sets to build a model and make a prediction like before. Let’s go back to using the entire dataset (since 4 datapoints is not enough to build a decent model).\n",
        "\n",
        "Here’s the entirety of the code to build and score the model on the first fold of a 5-fold cross validation. Note that the code for fitting and scoring the model is exactly the same as it was when we used the `train_test_split function`."
      ]
    },
    {
      "cell_type": "code",
      "execution_count": 42,
      "metadata": {
        "colab": {
          "base_uri": "https://localhost:8080/"
        },
        "id": "8yymY6DSukg0",
        "outputId": "a6657656-f2cd-4dd9-b4e2-82967069c772"
      },
      "outputs": [
        {
          "name": "stdout",
          "output_type": "stream",
          "text": [
            "0.7921348314606742\n"
          ]
        }
      ],
      "source": [
        "import pandas as pd\n",
        "\n",
        "from sklearn.linear_model import LogisticRegression\n",
        "from sklearn.model_selection import KFold\n",
        "\n",
        "df = pd.read_csv('/content/titanic.csv')\n",
        "df['male'] = df['Sex'] == 'male'\n",
        "X = df[['Pclass', 'male', 'Age', 'Siblings/Spouses', 'Parents/Children', 'Fare']].values\n",
        "y = df['Survived'].values\n",
        "\n",
        "kf = KFold(n_splits=5, shuffle=True)\n",
        "\n",
        "splits = list(kf.split(X))\n",
        "train_indices, test_indices = splits[0]\n",
        "X_train = X[train_indices]\n",
        "X_test = X[test_indices]\n",
        "y_train = y[train_indices]\n",
        "y_test = y[test_indices]\n",
        "\n",
        "model = LogisticRegression()\n",
        "model.fit(X_train, y_train)\n",
        "print(model.score(X_test, y_test))"
      ]
    },
    {
      "cell_type": "markdown",
      "metadata": {
        "id": "TBdUa_xj00W-"
      },
      "source": [
        "So far, we’ve essentially done a single train/test split. In order to do a k-fold cross validation, we need to do use each of the other 4 splits to build a model and score the model."
      ]
    },
    {
      "cell_type": "markdown",
      "metadata": {
        "id": "ltVanpk01m5k"
      },
      "source": [
        "### **Loop Over All the Folds**\n",
        "\n",
        "We have been doing one fold at a time, but really we want to loop over all the folds to get all the values. We will put the code from the previous part inside our for loop.\n",
        "\n"
      ]
    },
    {
      "cell_type": "code",
      "execution_count": 43,
      "metadata": {
        "colab": {
          "base_uri": "https://localhost:8080/"
        },
        "id": "ydMdIe6o1lsh",
        "outputId": "922df186-6c1e-4ba8-9763-e4a45cc41108"
      },
      "outputs": [
        {
          "name": "stdout",
          "output_type": "stream",
          "text": [
            "[0.8202247191011236, 0.7415730337078652, 0.8192090395480226, 0.8135593220338984, 0.8135593220338984]\n",
            "0.8016250872849616\n"
          ]
        },
        {
          "data": {
            "text/plain": [
              "LogisticRegression(C=1.0, class_weight=None, dual=False, fit_intercept=True,\n",
              "                   intercept_scaling=1, l1_ratio=None, max_iter=100,\n",
              "                   multi_class='auto', n_jobs=None, penalty='l2',\n",
              "                   random_state=None, solver='lbfgs', tol=0.0001, verbose=0,\n",
              "                   warm_start=False)"
            ]
          },
          "execution_count": 43,
          "metadata": {
            "tags": []
          },
          "output_type": "execute_result"
        }
      ],
      "source": [
        "import numpy as np\n",
        "import pandas as pd\n",
        "\n",
        "from sklearn.linear_model import LogisticRegression\n",
        "from sklearn.model_selection import KFold\n",
        "\n",
        "df = pd.read_csv('/content/titanic.csv')\n",
        "df['male'] = df['Sex'] == 'male'\n",
        "X = df[['Pclass', 'male', 'Age', 'Siblings/Spouses', 'Parents/Children', 'Fare']].values\n",
        "y = df['Survived'].values\n",
        "\n",
        "scores = []\n",
        "kf = KFold(n_splits=5, shuffle=True)\n",
        "for train_index, test_index in kf.split(X):\n",
        "    X_train, X_test = X[train_index], X[test_index]\n",
        "    y_train, y_test = y[train_index], y[test_index]\n",
        "    model = LogisticRegression()\n",
        "    model.fit(X_train, y_train)\n",
        "    scores.append(model.score(X_test, y_test))\n",
        "   \n",
        "print(scores)\n",
        "print(np.mean(scores))\n",
        "final_model = LogisticRegression()\n",
        "final_model.fit(X, y)"
      ]
    },
    {
      "cell_type": "markdown",
      "metadata": {
        "id": "l553MheQ5mbi"
      },
      "source": [
        "Since we have $5$ folds, we get $5$ accuracy values. Recall, to get a single final value, we need to take the mean of those values."
      ]
    },
    {
      "cell_type": "markdown",
      "metadata": {
        "id": "F7Mh79Sabq9x"
      },
      "source": [
        "## __Building the Models with Scikit-learn__\n",
        "\n",
        "So far we’ve used our evaluation techniques to get scores for a single model. These techniques will become incredibly useful as we introduce more models and want to determine which one performs the best for a specific problem.\n",
        "\n",
        "Let’s use our techniques to compare three models:\n",
        "- *A logistic regression model using __all of the features__ in our dataset*\n",
        "-  *A logistic regression model __using just the `Pclass`, `Age`, and `Sex` columns__*\n",
        "- *A logistic regression model __using just the `Fare` and `Age` columns__\n",
        "\n",
        "We wouldn’t expect the second or third model to do better since it has less information, but we might determine that using just those two or three columns yields comparable performance to using all the columns.\n"
      ]
    },
    {
      "cell_type": "code",
      "execution_count": 44,
      "metadata": {
        "colab": {
          "base_uri": "https://localhost:8080/"
        },
        "id": "aM5gXHrZd7Kn",
        "outputId": "3b0f1c4a-b146-4f02-b358-e1b779bcd95b"
      },
      "outputs": [
        {
          "name": "stdout",
          "output_type": "stream",
          "text": [
            "Logistic Regression with all features\n",
            "accuracy: 0.797067225290421\n",
            "precision: 0.759102992142344\n",
            "recall: 0.6940222253603163\n",
            "f1 score: 0.7238353189724607\n",
            "\n",
            "Logistic Regression with `Pclass`, `Sex` & `Age` features\n",
            "accuracy: 0.7823716117564908\n",
            "precision: 0.733580249467996\n",
            "recall: 0.6938939825651883\n",
            "f1 score: 0.7111724775881191\n",
            "\n",
            "Logistic Regression with `Fare` & `Age` features\n",
            "accuracy: 0.6517107852472546\n",
            "precision: 0.6468664487686226\n",
            "recall: 0.234311189643921\n",
            "f1 score: 0.34061299121335503\n"
          ]
        }
      ],
      "source": [
        "import numpy as np\n",
        "import pandas as pd\n",
        "\n",
        "from sklearn.linear_model import LogisticRegression\n",
        "from sklearn.model_selection import KFold\n",
        "from sklearn.metrics import accuracy_score, precision_score, recall_score, f1_score\n",
        "\n",
        "df = pd.read_csv('/content/titanic.csv')\n",
        "df['male'] = df['Sex'] == 'male'\n",
        "\n",
        "kf = KFold(n_splits=5, shuffle=True)\n",
        "\n",
        "X1 = df[['Pclass', 'male', 'Age', 'Siblings/Spouses', 'Parents/Children', 'Fare']].values\n",
        "X2 = df[['Pclass', 'male', 'Age']].values\n",
        "X3 = df[['Fare', 'Age']].values\n",
        "y = df['Survived'].values\n",
        "\n",
        "def score_model(X, y, kf):\n",
        "    accuracy_scores = []\n",
        "    precision_scores = []\n",
        "    recall_scores = []\n",
        "    f1_scores = []\n",
        "    \n",
        "    for train_index, test_index in kf.split(X):\n",
        "        X_train, X_test = X[train_index], X[test_index]\n",
        "        y_train, y_test = y[train_index], y[test_index]\n",
        "        model = LogisticRegression()\n",
        "        model.fit(X_train, y_train)\n",
        "        y_pred = model.predict(X_test)\n",
        "        accuracy_scores.append(accuracy_score(y_test, y_pred))\n",
        "        precision_scores.append(precision_score(y_test, y_pred))\n",
        "        recall_scores.append(recall_score(y_test, y_pred))\n",
        "        f1_scores.append(f1_score(y_test, y_pred))\n",
        "\n",
        "    print(\"accuracy:\", np.mean(accuracy_scores))\n",
        "    print(\"precision:\", np.mean(precision_scores))\n",
        "    print(\"recall:\", np.mean(recall_scores))\n",
        "    print(\"f1 score:\", np.mean(f1_scores))\n",
        "\n",
        "print(\"Logistic Regression with all features\")\n",
        "score_model(X1, y, kf)\n",
        "print()\n",
        "print(\"Logistic Regression with `Pclass`, `Sex` & `Age` features\")\n",
        "score_model(X2, y, kf)\n",
        "print()\n",
        "print(\"Logistic Regression with `Fare` & `Age` features\")\n",
        "score_model(X3, y, kf)"
      ]
    },
    {
      "cell_type": "code",
      "execution_count": 45,
      "metadata": {
        "colab": {
          "base_uri": "https://localhost:8080/",
          "height": 452
        },
        "id": "vQNK3QOmgPDo",
        "outputId": "e0fae17b-06f9-433a-d8f2-aa3ff9f61180"
      },
      "outputs": [
        {
          "data": {
            "image/png": "[encoded data removed]",
            "text/plain": [
              "<Figure size 864x504 with 1 Axes>"
            ]
          },
          "metadata": {
            "tags": []
          },
          "output_type": "display_data"
        }
      ],
      "source": [
        "data = {'accuracy': [0.798184472798832, 0.7925220592902938, 0.6549673078143845],\n",
        "        'precision': [0.769695905561177, 0.754949504356284,0.6532040097809844 ],\n",
        "        'recall': [0.6891862214572237, 0.6931659350307287, 0.23495003784428964],\n",
        "        'f1_score': [0.7228712484054672, 0.7202827605939556, 0.3430075876504447]\n",
        "        }\n",
        "df = pd.DataFrame(data)\n",
        "\n",
        "plt.style.use('fivethirtyeight')\n",
        "df[['accuracy', 'precision', 'recall','f1_score']].plot(kind='bar',figsize=(12, 7))\n",
        "plt.show()"
      ]
    },
    {
      "cell_type": "markdown",
      "metadata": {
        "id": "Y30pLMvMyXld"
      },
      "source": [
        "If we compare the first two models, they have almost identical scores. The third model has lower scores for all four metrics. The first two are thus much better options than the third. This matches intuition since the third model doesn’t have access to the sex of the passenger. Our expectation is that women are more likely to survive, so having the sex would be a very valuable predictor.\n",
        "\n",
        ">Since the first two models have equivalent results, it makes sense to choose the simpler model, the one that uses the `Pclass`, `Sex` & `Age` features.\n",
        "\n",
        "Now that we’ve made a choice of a best model, we build a single final model using all of the data."
      ]
    },
    {
      "cell_type": "code",
      "execution_count": 46,
      "metadata": {
        "colab": {
          "base_uri": "https://localhost:8080/"
        },
        "id": "zt6iqHQzyXE6",
        "outputId": "a3b01375-2a47-4a9c-f101-176e674071ad"
      },
      "outputs": [
        {
          "name": "stdout",
          "output_type": "stream",
          "text": [
            "[1]\n"
          ]
        }
      ],
      "source": [
        "# Logistic Regression with all features\n",
        "model1 = LogisticRegression()\n",
        "model1.fit(X1, y)\n",
        "print(model1.predict([[3, False, 25, 0, 1, 2]]))"
      ]
    },
    {
      "cell_type": "code",
      "execution_count": 47,
      "metadata": {
        "colab": {
          "base_uri": "https://localhost:8080/"
        },
        "id": "zTtAlKHczDDl",
        "outputId": "fab6d460-ad09-4624-e6df-723d591a0915"
      },
      "outputs": [
        {
          "name": "stdout",
          "output_type": "stream",
          "text": [
            "[1]\n"
          ]
        }
      ],
      "source": [
        "# Logistic Regression with 3 `Pclass`, `Sex` & `Age` features\n",
        "model2 = LogisticRegression()\n",
        "model2.fit(X2, y)\n",
        "print(model2.predict([[3, False, 25]]))"
      ]
    },
    {
      "cell_type": "code",
      "execution_count": 48,
      "metadata": {
        "colab": {
          "base_uri": "https://localhost:8080/"
        },
        "id": "ohTl0ElI21e3",
        "outputId": "d415d1a9-9ff6-441b-faca-470fe94feae4"
      },
      "outputs": [
        {
          "name": "stdout",
          "output_type": "stream",
          "text": [
            "233 65 109 480\n",
            "0.8038\n",
            "0.7819\n",
            "0.6813\n",
            "0.7281\n"
          ]
        }
      ],
      "source": [
        "# Machine Learning - Welcome to the Matrix\n",
        "\n",
        "tp, fp, fn, tn = [int(x) for x in input().split()]\n",
        "\n",
        "ac = (tp + tn) / (tp+fp+fn+tn)\n",
        "pr = tp / (tp + fp)\n",
        "re = tp / (tp + fn)\n",
        "f1 = (2 * pr * re) / (pr + re)\n",
        "\n",
        "output = [ac, pr, re, f1]\n",
        "\n",
        "for i in output:\n",
        "\tprint(round(i, 4))\n",
        "\n",
        "# Test Values(Input)\n",
        "# 233 65 109 480\n",
        "# 20 26 10 44"
      ]
    },
    {
      "cell_type": "markdown",
      "metadata": {
        "id": "CFch6jkV3fUR"
      },
      "source": [
        "# __04 - Decision Tree__"
      ]
    },
    {
      "cell_type": "markdown",
      "metadata": {
        "id": "oYjNYmshebEf"
      },
      "source": [
        "## **What is a Decision Tree?**\n",
        "\n",
        ">A Nonparametric Machine Learning Algorithm(__Algorithms that do not make strong assumptions about the form of the mapping function are called nonparametric machine learning algorithms. By not making assumptions, they are free to learn any functional form from the training data__)\n",
        "\n",
        "\n",
        "So far we’ve been dealing with Logistic Regression. In Logistic Regression, we look at the data graphically and draw a line to separate the data. The model is defined by the coefficients that define the line. These coefficients are called __parameters__. Since the model is defined by these parameters, Logistic Regression is a parametric machine learning algorithm.\n",
        "\n",
        "In this module, we’ll introduce Decision Trees, which are an example of a nonparametric machine learning algorithm. Decision Trees won’t be defined by a list of parameters as we’ll see in the upcoming lessons."
      ]
    },
    {
      "cell_type": "markdown",
      "metadata": {
        "id": "pid3bkekea4S"
      },
      "source": [
        ">**Every machine learning algorithm is either parametric or nonparametric.**"
      ]
    },
    {
      "cell_type": "markdown",
      "metadata": {
        "id": "9uuo5sSugkzU"
      },
      "source": [
        "### **Tree Terminology**\n",
        "\n",
        "The reason many people love decision trees is because they are very easy to interpret. It is basically a flow chart of questions that you answer about a datapoint until you get to a prediction.\n",
        "\n",
        "Here’s an example of a Decision Tree for the Titanic dataset. We’ll see in the next lesson how this tree is constructed.\n",
        "\n",
        "- Each of the rectangles is called a __node__.\n",
        "\n",
        "- The nodes which have a feature to split on are called __internal nodes__.\n",
        "\n",
        "- The very first internal node at the top is called the __root node__.\n",
        "\n",
        "- The final nodes where we make the predictions of survived/didn’t survive are called __leaf nodes__.\n",
        "\n",
        "- Internal nodes all have two nodes below them, which we call the node’s __children__.\n",
        "\n",
        "![DT](https://api.sololearn.com/DownloadFile?id=3841)\n",
        "\n",
        ">__The terms for trees (root, leaf) come from an actual tree, though it’s upside down since we generally draw the root at the top. We also use terms that view the tree as a family tree (child node & parent node).__\n",
        "\n",
        "\n",
        "\n"
      ]
    },
    {
      "cell_type": "markdown",
      "metadata": {
        "id": "RVqZF8nQiqyS"
      },
      "source": [
        "### **Interpreting a Decision Tree**\n",
        "\n",
        "To interpret this Decision Tree, let’s run through an example.\n",
        "\n",
        "> Let’s say we want to know the prediction for a `10` year old `male` passenger in `Pclass` 2.\n",
        "\n",
        "- At the first node, since the passenger’s sex is male, we go to the right child. Then, since their age $10$ which is ${<=}13$ we go to the left child, and at the third node we go to the right child since the Pclass is 2. In the following diagram we highlight the path for this passenger.\n",
        "\n",
        "![dt](https://api.sololearn.com/DownloadFile?id=3842)\n",
        "\n",
        "\n",
        "Note that __there are no rules that we use every feature__, or what order we use the features, or for a continuous value (like `Age`), where we do the `split`. It is standard in a `Decision Tree` to have each split just have 2 options.\n",
        "\n"
      ]
    },
    {
      "cell_type": "markdown",
      "metadata": {
        "id": "i1T4lX-FkP21"
      },
      "source": [
        "### __What makes a Good Split__\n",
        "\n",
        "In order to determine which feature we should split on first, we need to score every possible split so we can choose the split with the highest score. Our goal would be to perfectly split the data. If, for instance, all women survived the crash and all men didn’t survive, splitting on Sex would be a perfect split. This is rarely going to happen with a real dataset, but we want to get as close to this as possible.\n",
        "\n",
        "The mathematical term we’ll be measuring is called __information gain__. This will be a value from 0 to 1 where 0 is the information gain of a useless split and 1 is the information gain of a perfect split. In the next couple parts we will define __`gini impurity`__ and __`entropy`__ which we will use to define information gain. First we will discuss the intuition of what makes a good split.\n",
        "\n",
        "Let’s consider a couple possible splits for the Titanic dataset. We’ll see how it splits the data and why one is better than the other.\n",
        "\n",
        "First, let’s trying splitting on Age. Since Age is a numerical feature, we need to pick a threshold to split on. Let’s say we split on __Age <=30__ and __Age>30__. Let’s see how many passengers we have on each side, and how many of them survived and how many didn’t.\n",
        "\n",
        "![dt1](https://api.sololearn.com/DownloadFile?id=3844)\n",
        "\n",
        "On both sides, we have about 40% of the passengers surviving. Thus we haven’t really gained anything from splitting the data this way.\n",
        "\n",
        "Now let’s try splitting on Sex.\n",
        "\n",
        "![dt2](https://api.sololearn.com/DownloadFile?id=3845)\n",
        "\n",
        "We can see on the female side that the vast majority survived. On the male side, the vast majority didn’t survive. This is a good split.\n",
        "\n",
        "What we’re going for is homogeneity (or purity) on each side. Ideally we would send all the passengers who survived to one side and those who didn’t survive to the other side. We’ll look at two different mathematical measurements of purity. We’ll use the purity values to calculate the information gain.\n",
        "\n",
        ">A good choice of a feature to split on results in each side of the split being pure. A set is pure if all the datapoints belong to the same class (either survived or didn’t survive).\n",
        "\n",
        "\n",
        "__Que__ - What makes a Good Split\n",
        "Say we start with $100$ datapoints, $50$ who survived and $50$ who didn’t survive. Which is a better split of the data?\n",
        "\n",
        ">__Left side: 10 survived, 40 didn’t survive Right side: 40 survived, 10 didn’t survive__\n"
      ]
    },
    {
      "cell_type": "markdown",
      "metadata": {
        "id": "Tb6F4K9HVXcc"
      },
      "source": [
        "### **Gini Impurity**\n",
        "\n",
        "**Gini impurity** is a measure of how pure a set is. We’ll later see how we can use the gini impurity to calculate the information gain.\n",
        "\n",
        "We calculate the `gini` impurity on a __subset__ of our data based on how many datapoints in the set are passengers that survived and how many are passengers who didn’t survive.\n",
        "- It will be a value between $0$ and $0.5$ where $0.5$ is completely impure (50% survived and $50$% didn’t survive) and $0$ is completely pure ($100$% in the same class).\n",
        "\n",
        "The formula for gini is as follows. $p$ is the percent of passengers who survived. Thus $(1-p)$ is the percent of passengers who didn’t survive.\n",
        "\n",
        "$$gini = {2}\\times{p}\\times{(1-p)} $$\n",
        "\n",
        "__Here’s a graph of the gini impurity.__\n",
        "\n",
        "![impurity](https://api.sololearn.com/DownloadFile?id=3890)\n",
        "\n",
        "We can see that the maximum value is $0.5$ when exactly $50$% of the passengers in the set survived. If all the passengers survived or didn’t survive (percent is $0$ or $1$), then the value is $0$.\n",
        "\n",
        "Let’s calculate the gini impurity for our examples from the previous part. First we had a split on $Age \\leq 30$ and $Age>30$. Let’s calculate the `gini` impurities of the two sets that we create.\n",
        "\n",
        "![dt1](https://api.sololearn.com/DownloadFile?id=3848)\n",
        "\n",
        "---\n",
        "\n",
        "On the __left__, for the passengers with $Age \\leq 30$, let’s first calculate the percent of passengers who survived:\n",
        "\n",
        "Percent of passengers who survived $$= \\frac{197}{(197+328)} = 0.3752$$\n",
        "\n",
        "Percent of passengers who didn’t survive\n",
        "$$= 1 - 0.375 = 0.6248$$\n",
        "\n",
        "Now let’s use that to calculate the gini impurity:\n",
        "\n",
        "$$gini = {2}\\times{p}\\times{(1-p)} $$\n",
        "\n",
        "$$2 \\times 0.3752 \\times 0.6248 = 0.4689$$\n",
        "\n",
        "> _We can see that this value is close to $0.5, the maximum value for gini impurity. This means that the set is impure._\n",
        "\n",
        "\n",
        "Now let’s calculate the gini impurity for the __right side__, passengers with $Age>30$.\n",
        "\n",
        "$2 \\times \\frac{145}{(145+217)} \\times \\frac{217}{(145+217)} = 0.4802$\n",
        "\n",
        "\n",
        ">This value is also close to $0.5$, so again we have an __impure set__.\n",
        "\n",
        "--- \n",
        "\n",
        "Now let’s look at the `gini` values for the other split we tried, splitting on `Sex`.\n",
        "\n",
        "![dt2](https://api.sololearn.com/DownloadFile?id=3849)\n",
        "\n",
        "\n",
        "- On the __left side__, for female passengers, we calculate the following value for the gini impurity.\n",
        "\n",
        "$$2 \\times \\frac {233}{(233+81)} \\times \\frac{81}{(233+81)} = 0.3828$$\n",
        "\n",
        "- On the __right side__, for male passengers, we get the following value.\n",
        "\n",
        "$$2 \\times \\frac{109}{(109+464)} \\times \\frac{464}{(109+464)} = 0.3081$$\n",
        "\n",
        "Both of these values are smaller than the `gini` values for splitting on Age, __so we determine that splitting on the Sex feature is a better choice__.\n",
        "\n",
        "> `Right now we have two values for each potential split. The information gain will be a way of combining them into a single value.`"
      ]
    },
    {
      "cell_type": "markdown",
      "metadata": {
        "id": "E_yG4vs86ZPX"
      },
      "source": [
        "### __Entropy__\n",
        "\n",
        "> __Entropy is a measure of disorder or uncertainty and the goal of machine learning models and Data Scientists in general is to reduce uncertainty.__\n",
        "\n",
        "Entropy is another measure of purity. It will be a value between 0 and 1 where 1 is completely impure (50% survived and 50% didn’t survive) and 0 is completely pure (100% the same class).\n",
        "\n",
        "The formula for entropy comes from physics. $p$ again is the percent of passengers who survived.\n",
        "\n",
        "$$entropy = - [p\\log_2p+(1-p)\\log_2(1-p)]$$\n",
        "\n",
        "\n",
        "Here’s a graph of the entropy function.\n",
        "\n",
        "![entropy](https://api.sololearn.com/DownloadFile?id=3892)\n",
        "\n",
        "\n",
        "You can see it has a similar shape to the gini function. Like the gini impurity, the maximum value is when 50% of the passengers in our set survived, and the minimum value is when either all or none of the passengers survived. The shape of the graphs are a little different. You can see that the entropy graph is a little fatter.\n",
        "\n",
        "Now let’s calculate the entropy values for the same two potential splits.\n",
        "\n",
        "!(dt)[https://api.sololearn.com/DownloadFile?id=3852]\n",
        "\n",
        "```\n",
        "On the left (Age<=30):\n",
        "p = 197/(197+328) = 0.3752\n",
        "Entropy = -(0.375 * log(0.375) + (1-0.375) * log(1-0.375)) = 0.9546\n",
        "```\n",
        "\n",
        "```\n",
        "And on the right (Age>30):\n",
        "p = 145/(145+217) = 0.4006\n",
        "Entropy =  -(0.401 * log(0.401) + (1-0.401) * log(1-0.401)) =  0.9713\n",
        "```\n",
        "\n",
        "These values are both close to $1$, which means the sets are impure.\n",
        "\n",
        "Now let’s do the same calculate for the split on the `Sex` feature.\n",
        "\n",
        "![dt](https://api.sololearn.com/DownloadFile?id=3853)\n",
        "\n",
        "```\n",
        "On the left (female):\n",
        "p = 233/(233+81) = 0.7420\n",
        "Entropy = -(p * log(p) + (1-p) * log(1-p)) = 0.8237\n",
        "\n",
        "```\n",
        "\n",
        "```\n",
        "And on the right (male):\n",
        "p = 109/(109+464) = 0.1902\n",
        "Entropy =  -(p * log(p) + (1-p) * log(1-p)) = 0.7019\n",
        "```\n",
        "\n",
        "You can see that these entropy values are smaller than the entropy values above, so this is a better split.\n",
        "\n",
        "\n",
        ">`It’s not obvious whether gini or entropy is a better choice. It often won’t make a difference, but you can always cross validate to compare a Decision Tree with entropy and a Decision Tree with gini to see which performs better.`\n",
        "\n"
      ]
    },
    {
      "cell_type": "markdown",
      "metadata": {
        "id": "dECaVITW_cjD"
      },
      "source": [
        "### **Information Gain**\n",
        "\n",
        "> The **information gain** is the amount of **information gained** about a random variable or signal from **observing** another random variable. **Entropy** is the average rate at which information is **produced** by a stochastic source of data.\n",
        "\n",
        ">This is the concept of a decrease in entropy after splitting the data on a feature. The greater the information gain, the greater the decrease in entropy or uncertainty.\n",
        "\n",
        "Now that we have a way of calculating a numerical value for impurity, we can define information gain:\n",
        "\n",
        "$$\n",
        "\\text { Information Gain }=H(\\mathrm{~S})-\\frac{|A|}{|\\mathrm{S}|} H(A)-\\frac{|B|}{|\\mathrm{S}|} H(B)\n",
        "$$\n",
        "\n",
        "H is our impurity measure (either Gini impurity or entropy). S is the original dataset and A and B are the two sets we’re splitting the dataset S into. In the first example above, A is passengers with $Age<=30$ and B is passengers with $Age>30$. In the second example, $A$ is female passengers and $B$ is male passengers. $|A|$ means the size of $A$.\n",
        "\n",
        "Let’s calculate this value for our two examples. Let’s use Gini impurity as our impurity measure.\n",
        "\n",
        "We’ve already calculated most of the Gini impurity values, though we need to calculate the Gini impurity of the whole set. There are $342$ passengers who survived and $545$ passengers who didn’t survive, out of a total of $887$ passengers, so the gini impurity is as follows:\n",
        "\n",
        "```\n",
        "Gini = 2 * 342/887 * 545/887 = 0.4738\n",
        "```\n",
        "\n",
        "Again, here’s the first potential split.\n",
        "\n",
        "![dt](https://api.sololearn.com/DownloadFile?id=3855)\n",
        "\n",
        "Note that we have $197+328=525$ passengers on the left $(Age<=30)$ and $145+217=362$ passengers on the right (Age>30). Thus, pulling in the gini impurity values that we calculated before, we get the following information gain:\n",
        "\n",
        "`\n",
        "Information gain = 0.4738 - 525/887 * 0.4689 - 362/887 * 0.4802 = 0.0003\n",
        "`\n",
        "This value is very small meaning we gain very little from this split.\n",
        "\n",
        "Now let’s calculate the information gain for splitting on Sex.\n",
        "\n",
        "![dt](https://api.sololearn.com/DownloadFile?id=3856)\n",
        "\n",
        "We have $233+81=314$ passengers on the left (female) and $109+464=573$ passengers on the right (male). Here is the information gain:\n",
        "\n",
        "```\n",
        "Information gain = 0.4738 - 314/887 * 0.3828 - 573/887 * 0.3081 = 0.1393\n",
        "```\n",
        "\n",
        "Thus we can see that the information gain is much better for this split. Therefore, splitting on `Sex` is a much better choice when building our decision tree than splitting on Age with threshold $30$.\n",
        "\n",
        "\n",
        ">`The work we did was just to compare two possible splits. We’ll need to do the same calculations for every possible split in order to find the best one. Luckily we don’t have to do the computations by hand!`\n",
        "\n",
        "\n"
      ]
    },
    {
      "cell_type": "markdown",
      "metadata": {
        "id": "f-UR9GlNC84V"
      },
      "source": [
        "### **Building the Decision Tree**\n",
        "\n",
        "\n",
        "We’ve built up the foundations we need for building the Decision Tree. Here’s the process we go through:\n",
        "\n",
        "To determine how to do the __first split__, we go over every possible split and calculate the information gain if we used that split. For numerical features like Age, PClass and Fare, we try every possible __threshold__. Splitting on the Age threshold of 50 means that datapoints with Age<=50 are one group and those with Age>50 are the other. Thus since there are 89 different ages in our dataset, we have 88 different splits to try for the age feature!"
      ]
    },
    {
      "cell_type": "markdown",
      "metadata": {
        "id": "VNXQRXJmFx-V"
      },
      "source": [
        "determine how to do the first split, we go over every possible split and calculate the information gain if we used that split. For numerical features like Age, PClass and Fare, we try every possible threshold. Splitting on the Age threshold of 50 means that datapoints with $Age<=50$ are one group and those with $Age>50$ are the other. Thus since there are 89 different ages in our dataset, we have 88 different splits to try for the age feature!\n",
        "\n",
        "We need to try all of these __potential splits__:\n",
        "1. $Sex (male | female)$\n",
        "2. $Pclass (1 or 2 | 3)$\n",
        "3. $Pclass (1 | 2 or 3)$\n",
        "4. $Age (0 | >0)$\n",
        "5. $Age (<=1 | >1)$\n",
        "6. $Age (<=2 | >2)$\n",
        "7. $etc...$\n",
        "\n",
        "\n",
        "There is 1 potential split for Sex, 2 potential splits for Pclass, and 88 potential splits for Age. There are 248 different values for Fare, so there are 247 potential splits for this feature. If we’re only considering these four features, we have 338 potential splits to consider.\n",
        "\n",
        "For each of these splits we calculate the information gain and we choose the split with the highest value.\n",
        "\n",
        "Now, we do the same thing for the next level. Say we did the first split on Sex. Now for all the female passengers, we try all of the possible splits for each of the features and choose the one with the highest information gain. We can split on the same feature twice if that feature has multiple possible thresholds. Sex can only be split on once, but the Fare and Age features can be split on many times.\n",
        "\n",
        "Independently, we do a similar calculation for the male passengers and choose the split with the highest information gain. Thus we may have a different second split for male passengers and female passengers.\n",
        "\n",
        "We continue doing this process until we have no more features to split on.\n",
        "\n",
        "\n",
        ">`This is a lot of things to try, but we just need to throw computation power at it. It does make Decision Trees a little slow to build, but once the tree is built, it is very fast to make a prediction.`\n",
        "\n"
      ]
    },
    {
      "cell_type": "markdown",
      "metadata": {
        "id": "Q22jfs5pGiyZ"
      },
      "source": [
        "### __Decision Tree Diagram__\n",
        "\n",
        "![dt](https://api.sololearn.com/DownloadFile?id=3893)\n",
        "\n",
        "This diagram was created with `graphviz`, which we’ll learn how to use in a later lesson.\n",
        "\n",
        "__How to Make a Prediction__\n",
        "\n",
        "Let’s say we’d like to use this Decision Tree to make a prediction for a passenger with these values:\n",
        "\n",
        "- __Sex:__ female\n",
        "- __Pclass:__ 3\n",
        "- __Fare:__ 25\n",
        "- __Age:__ 30\n",
        "\n",
        "We ask the question at each node and go to the left child if the answer is yes and to the right if the answer is no.\n",
        "\n",
        "We start at the root node.\n",
        "\n",
        "- Is the value for the male feature $<= 0.5$? (This question could also be asked as \"Is the passenger female?\")\n",
        "Since the answer is yes, we go to the left child.\n",
        "\n",
        "- Is the Pclass $<= 0.5$?\n",
        "Since the answer is no, we go to the right child.\n",
        "\n",
        "- Is the Fare $<= 23.35$?\n",
        "Since the answer is no, we go to the right child.\n",
        "\n",
        "- Now we’re at a leaf node. Here’s the path we took highlighted.\n",
        "\n",
        "\n",
        "![dtv](https://api.sololearn.com/DownloadFile?id=3895)\n",
        "\n",
        "> This means there are $27$ datapoints in our dataset that also land at this leaf node. $24$ of them didn’t survive and $3$ of them survived. This means our prediction is that the passenger didn’t survive.\n",
        "\n"
      ]
    },
    {
      "cell_type": "code",
      "execution_count": 49,
      "metadata": {
        "colab": {
          "base_uri": "https://localhost:8080/"
        },
        "id": "sCuyrfMBgQXN",
        "outputId": "b899f977-cad2-479e-be96-15d47a212fea"
      },
      "outputs": [
        {
          "name": "stdout",
          "output_type": "stream",
          "text": [
            "[0]\n"
          ]
        }
      ],
      "source": [
        "import pandas as pd\n",
        "from sklearn.tree import DecisionTreeClassifier\n",
        "from sklearn.tree import plot_tree\n",
        "from sklearn.model_selection import train_test_split\n",
        "\n",
        "df = pd.read_csv('/content/titanic.csv')\n",
        "df['male'] = df['Sex'] == 'male'\n",
        "X = df[['Pclass', 'male', 'Age', 'Siblings/Spouses', 'Parents/Children', 'Fare']].values\n",
        "y = df['Survived'].values\n",
        "\n",
        "X_train, X_test, y_train, y_test = train_test_split(X, y, random_state=22)\n",
        "model = DecisionTreeClassifier() # max_depth=2, random_state=0\n",
        "model.fit(X_train, y_train)\n",
        "print(model.predict([[3, True, 22, 1, 0, 7.25]]))"
      ]
    },
    {
      "cell_type": "code",
      "execution_count": 50,
      "metadata": {
        "colab": {
          "base_uri": "https://localhost:8080/"
        },
        "id": "aS0T7PAvLi1g",
        "outputId": "ba0182fe-d86f-4b61-ce30-db54cb0d71b7"
      },
      "outputs": [
        {
          "name": "stdout",
          "output_type": "stream",
          "text": [
            "Decision Tree\n",
            "  accuracy: 0.7711229607058974\n",
            "  precision: 0.7020362225908\n",
            "  recall: 0.7052100473056356\n",
            "\n",
            "Logistic Regression\n",
            "  accuracy: 0.7970354853043865\n",
            "  precision: 0.7618898922983288\n",
            "  recall: 0.6900529617441382\n"
          ]
        }
      ],
      "source": [
        "import numpy as np\n",
        "import pandas as pd\n",
        "\n",
        "from sklearn.model_selection import KFold\n",
        "from sklearn.metrics import precision_score, recall_score\n",
        "from sklearn.tree import DecisionTreeClassifier\n",
        "from sklearn.linear_model import LogisticRegression\n",
        "\n",
        "\n",
        "df = pd.read_csv('/content/titanic.csv')\n",
        "df['male'] = df['Sex'] == 'male'\n",
        "X = df[['Pclass', 'male', 'Age', 'Siblings/Spouses', 'Parents/Children', 'Fare']].values\n",
        "y = df['Survived'].values\n",
        "\n",
        "kf = KFold(n_splits=5, shuffle=True, random_state=10)\n",
        "\n",
        "# DecisionTree\n",
        "dt_accuracy_scores = []\n",
        "dt_precision_scores = []\n",
        "dt_recall_scores = []\n",
        "\n",
        "# LogisticRegression\n",
        "lr_accuracy_scores = []\n",
        "lr_precision_scores = []\n",
        "lr_recall_scores = []\n",
        "\n",
        "for train_index, test_index in kf.split(X):\n",
        "    X_train, X_test = X[train_index], X[test_index]\n",
        "    y_train, y_test = y[train_index], y[test_index]\n",
        "\n",
        "    # DecisionTreeClassifier\n",
        "    dt = DecisionTreeClassifier()\n",
        "    dt.fit(X_train, y_train)\n",
        "    dt_accuracy_scores.append(dt.score(X_test, y_test))\n",
        "    dt_y_pred = dt.predict(X_test)\n",
        "    dt_precision_scores.append(precision_score(y_test, dt_y_pred))\n",
        "    dt_recall_scores.append(recall_score(y_test, dt_y_pred))\n",
        "\n",
        "    # LogisticRegression\n",
        "    lr = LogisticRegression()\n",
        "    lr.fit(X_train, y_train)\n",
        "    lr_accuracy_scores.append(lr.score(X_test, y_test))\n",
        "    lr_y_pred = lr.predict(X_test)\n",
        "    lr_precision_scores.append(precision_score(y_test, lr_y_pred))\n",
        "    lr_recall_scores.append(recall_score(y_test, lr_y_pred))\n",
        "\n",
        "print(\"Decision Tree\")\n",
        "print(\"  accuracy:\", np.mean(dt_accuracy_scores))\n",
        "print(\"  precision:\", np.mean(dt_precision_scores))\n",
        "print(\"  recall:\", np.mean(dt_recall_scores))\n",
        "print()\n",
        "print(\"Logistic Regression\")\n",
        "print(\"  accuracy:\", np.mean(lr_accuracy_scores))\n",
        "print(\"  precision:\", np.mean(lr_precision_scores))\n",
        "print(\"  recall:\", np.mean(lr_recall_scores))"
      ]
    },
    {
      "cell_type": "code",
      "execution_count": 51,
      "metadata": {
        "colab": {
          "base_uri": "https://localhost:8080/",
          "height": 571
        },
        "id": "CPMX8HL9ODuI",
        "outputId": "21805d39-d365-47d9-bc56-382a03c33ea5"
      },
      "outputs": [
        {
          "name": "stdout",
          "output_type": "stream",
          "text": [
            "           DecisionTree  LogisticRegression\n",
            "accuracy       0.788009            0.797035\n",
            "precision      0.727627            0.761890\n",
            "recall         0.719895            0.690053\n"
          ]
        },
        {
          "data": {
            "image/png": "[encoded data removed]",
            "text/plain": [
              "<Figure size 864x504 with 1 Axes>"
            ]
          },
          "metadata": {
            "tags": []
          },
          "output_type": "display_data"
        }
      ],
      "source": [
        "data = {\n",
        "    'DecisionTree': {'accuracy': 0.7880086332762014, 'precision': 0.7276268054466225, 'recall': 0.7198953619909503},\n",
        "    'LogisticRegression': {'accuracy': 0.7970354853043865, 'precision': 0.7618898922983288, 'recall': 0.6900529617441382}\n",
        "    }\n",
        "\n",
        "df = pd.DataFrame(data)\n",
        "print(df)\n",
        "\n",
        "plt.style.use('fivethirtyeight')\n",
        "df[['DecisionTree',\t'LogisticRegression']].plot(kind='bar',figsize=(12, 7))\n",
        "plt.show()"
      ]
    },
    {
      "cell_type": "markdown",
      "metadata": {
        "id": "FBJd7b-JQ5OQ"
      },
      "source": [
        "The Logistic Regression model performs better, though we may still want to use a Decision Tree for its interpretability."
      ]
    },
    {
      "cell_type": "markdown",
      "metadata": {
        "id": "Tcsa9O9ZRHHC"
      },
      "source": [
        "### **Gini $vs$ Entropy**\n"
      ]
    },
    {
      "cell_type": "code",
      "execution_count": 52,
      "metadata": {
        "colab": {
          "base_uri": "https://localhost:8080/"
        },
        "id": "FOTERhRwO7Z3",
        "outputId": "2e701983-9408-4fed-d2ac-1ed6359fe4ff"
      },
      "outputs": [
        {
          "name": "stdout",
          "output_type": "stream",
          "text": [
            "Decision Tree - gini\n",
            "accuracy: 0.7722592522059291\n",
            "precision: 0.704919370704372\n",
            "recall: 0.7039012686212525 \n",
            "\n",
            "\n",
            "Decision Tree - entropy\n",
            "accuracy: 0.763232400177744\n",
            "precision: 0.7007878180651543\n",
            "recall: 0.6750441715147597 \n",
            "\n",
            "\n"
          ]
        }
      ],
      "source": [
        "import pandas as pd\n",
        "import numpy as np\n",
        "\n",
        "from sklearn.tree import DecisionTreeClassifier\n",
        "from sklearn.model_selection import KFold\n",
        "from sklearn.metrics import accuracy_score, precision_score, recall_score\n",
        "\n",
        "df = pd.read_csv('/content/titanic.csv')\n",
        "df['male'] = df['Sex'] == 'male'\n",
        "X = df[['Pclass', 'male', 'Age', 'Siblings/Spouses', 'Parents/Children', 'Fare']].values\n",
        "y = df['Survived'].values\n",
        "\n",
        "kf = KFold(n_splits=5, shuffle=True)\n",
        "for criterion in ['gini', 'entropy']:\n",
        "    print(\"Decision Tree - {}\".format(criterion))\n",
        "    accuracy = []\n",
        "    precision = []\n",
        "    recall = []\n",
        "    for train_index, test_index in kf.split(X):\n",
        "        X_train, X_test = X[train_index], X[test_index]\n",
        "        y_train, y_test = y[train_index], y[test_index]\n",
        "        dt = DecisionTreeClassifier(criterion=criterion)\n",
        "        dt.fit(X_train, y_train)\n",
        "        y_pred = dt.predict(X_test)\n",
        "        accuracy.append(accuracy_score(y_test, y_pred))\n",
        "        precision.append(precision_score(y_test, y_pred))\n",
        "        recall.append(recall_score(y_test, y_pred))\n",
        "        \n",
        "    print(\"accuracy:\", np.mean(accuracy))\n",
        "    print(\"precision:\", np.mean(precision))\n",
        "    print(\"recall:\", np.mean(recall), '\\n')\n",
        "    print()"
      ]
    },
    {
      "cell_type": "code",
      "execution_count": 53,
      "metadata": {
        "colab": {
          "base_uri": "https://localhost:8080/",
          "height": 571
        },
        "id": "Mqn9-hELR48K",
        "outputId": "8a726b82-f573-4ea8-c08f-2f63f2e8688e"
      },
      "outputs": [
        {
          "name": "stdout",
          "output_type": "stream",
          "text": [
            "               gini   entropy\n",
            "accuracy   0.784619  0.766648\n",
            "precision  0.727771  0.700259\n",
            "recall     0.707359  0.700046\n"
          ]
        },
        {
          "data": {
            "image/png": "[encoded data removed]",
            "text/plain": [
              "<Figure size 864x504 with 1 Axes>"
            ]
          },
          "metadata": {
            "tags": []
          },
          "output_type": "display_data"
        }
      ],
      "source": [
        "data = {'gini': {'accuracy': 0.7846188027677268, 'precision': 0.7277706227429155, 'recall': 0.7073589909540018},\n",
        "       'entropy': {'accuracy': 0.7666476226750459, 'precision': 0.7002594914663879, 'recall': 0.7000464709419933}}\n",
        "\n",
        "df = pd.DataFrame(data)\n",
        "print(df)\n",
        "\n",
        "plt.style.use('fivethirtyeight')\n",
        "df[['gini', 'entropy']].plot(kind='bar',figsize=(12, 7))\n",
        "plt.show()"
      ]
    },
    {
      "cell_type": "markdown",
      "metadata": {
        "id": "j0sdrvmYSvz7"
      },
      "source": [
        ">*We see very little difference in the performance of Gini vs Entropy. This is expected as they aren’t really very different functions. It’s rare to find a dataset where the choice would make a difference.*"
      ]
    },
    {
      "cell_type": "code",
      "execution_count": 54,
      "metadata": {
        "colab": {
          "base_uri": "https://localhost:8080/",
          "height": 517
        },
        "id": "9RuaW3YVSyw2",
        "outputId": "a0f05818-f8b9-4eea-c285-fe9d1c716978"
      },
      "outputs": [
        {
          "data": {
            "image/svg+xml": "<?xml version=\"1.0\" encoding=\"UTF-8\" standalone=\"no\"?>\n<!DOCTYPE svg PUBLIC \"-//W3C//DTD SVG 1.1//EN\"\n \"http://www.w3.org/Graphics/SVG/1.1/DTD/svg11.dtd\">\n<!-- Generated by graphviz version 2.40.1 (20161225.0304)\n -->\n<!-- Title: Tree Pages: 1 -->\n<svg width=\"637pt\" height=\"373pt\"\n viewBox=\"0.00 0.00 636.50 373.00\" xmlns=\"http://www.w3.org/2000/svg\" xmlns:xlink=\"http://www.w3.org/1999/xlink\">\n<g id=\"graph0\" class=\"graph\" transform=\"scale(1 1) rotate(0) translate(4 369)\">\n<title>Tree</title>\n<polygon fill=\"#ffffff\" stroke=\"transparent\" points=\"-4,4 -4,-369 632.5,-369 632.5,4 -4,4\"/>\n<!-- 0 -->\n<g id=\"node1\" class=\"node\">\n<title>0</title>\n<polygon fill=\"none\" stroke=\"#000000\" points=\"367.5,-365 242.5,-365 242.5,-297 367.5,-297 367.5,-365\"/>\n<text text-anchor=\"middle\" x=\"305\" y=\"-349.8\" font-family=\"Times,serif\" font-size=\"14.00\" fill=\"#000000\">male &lt;= 0.5</text>\n<text text-anchor=\"middle\" x=\"305\" y=\"-334.8\" font-family=\"Times,serif\" font-size=\"14.00\" fill=\"#000000\">gini = 0.474</text>\n<text text-anchor=\"middle\" x=\"305\" y=\"-319.8\" font-family=\"Times,serif\" font-size=\"14.00\" fill=\"#000000\">samples = 887</text>\n<text text-anchor=\"middle\" x=\"305\" y=\"-304.8\" font-family=\"Times,serif\" font-size=\"14.00\" fill=\"#000000\">value = [545, 342]</text>\n</g>\n<!-- 1 -->\n<g id=\"node2\" class=\"node\">\n<title>1</title>\n<polygon fill=\"none\" stroke=\"#000000\" points=\"294.5,-261 177.5,-261 177.5,-193 294.5,-193 294.5,-261\"/>\n<text text-anchor=\"middle\" x=\"236\" y=\"-245.8\" font-family=\"Times,serif\" font-size=\"14.00\" fill=\"#000000\">Pclass &lt;= 2.5</text>\n<text text-anchor=\"middle\" x=\"236\" y=\"-230.8\" font-family=\"Times,serif\" font-size=\"14.00\" fill=\"#000000\">gini = 0.383</text>\n<text text-anchor=\"middle\" x=\"236\" y=\"-215.8\" font-family=\"Times,serif\" font-size=\"14.00\" fill=\"#000000\">samples = 314</text>\n<text text-anchor=\"middle\" x=\"236\" y=\"-200.8\" font-family=\"Times,serif\" font-size=\"14.00\" fill=\"#000000\">value = [81, 233]</text>\n</g>\n<!-- 0&#45;&gt;1 -->\n<g id=\"edge1\" class=\"edge\">\n<title>0&#45;&gt;1</title>\n<path fill=\"none\" stroke=\"#000000\" d=\"M282.4068,-296.9465C276.6286,-288.2373 270.3425,-278.7626 264.3166,-269.6801\"/>\n<polygon fill=\"#000000\" stroke=\"#000000\" points=\"267.089,-267.5278 258.6439,-261.13 261.256,-271.3978 267.089,-267.5278\"/>\n<text text-anchor=\"middle\" x=\"253.6866\" y=\"-281.9336\" font-family=\"Times,serif\" font-size=\"14.00\" fill=\"#000000\">True</text>\n</g>\n<!-- 6 -->\n<g id=\"node7\" class=\"node\">\n<title>6</title>\n<polygon fill=\"none\" stroke=\"#000000\" points=\"437.5,-261 312.5,-261 312.5,-193 437.5,-193 437.5,-261\"/>\n<text text-anchor=\"middle\" x=\"375\" y=\"-245.8\" font-family=\"Times,serif\" font-size=\"14.00\" fill=\"#000000\">Pclass &lt;= 1.5</text>\n<text text-anchor=\"middle\" x=\"375\" y=\"-230.8\" font-family=\"Times,serif\" font-size=\"14.00\" fill=\"#000000\">gini = 0.308</text>\n<text text-anchor=\"middle\" x=\"375\" y=\"-215.8\" font-family=\"Times,serif\" font-size=\"14.00\" fill=\"#000000\">samples = 573</text>\n<text text-anchor=\"middle\" x=\"375\" y=\"-200.8\" font-family=\"Times,serif\" font-size=\"14.00\" fill=\"#000000\">value = [464, 109]</text>\n</g>\n<!-- 0&#45;&gt;6 -->\n<g id=\"edge6\" class=\"edge\">\n<title>0&#45;&gt;6</title>\n<path fill=\"none\" stroke=\"#000000\" d=\"M327.9206,-296.9465C333.7826,-288.2373 340.1598,-278.7626 346.273,-269.6801\"/>\n<polygon fill=\"#000000\" stroke=\"#000000\" points=\"349.3476,-271.3802 352.0279,-261.13 343.5405,-267.4716 349.3476,-271.3802\"/>\n<text text-anchor=\"middle\" x=\"356.8223\" y=\"-281.966\" font-family=\"Times,serif\" font-size=\"14.00\" fill=\"#000000\">False</text>\n</g>\n<!-- 2 -->\n<g id=\"node3\" class=\"node\">\n<title>2</title>\n<polygon fill=\"none\" stroke=\"#000000\" points=\"166,-157 56,-157 56,-89 166,-89 166,-157\"/>\n<text text-anchor=\"middle\" x=\"111\" y=\"-141.8\" font-family=\"Times,serif\" font-size=\"14.00\" fill=\"#000000\">Pclass &lt;= 1.5</text>\n<text text-anchor=\"middle\" x=\"111\" y=\"-126.8\" font-family=\"Times,serif\" font-size=\"14.00\" fill=\"#000000\">gini = 0.1</text>\n<text text-anchor=\"middle\" x=\"111\" y=\"-111.8\" font-family=\"Times,serif\" font-size=\"14.00\" fill=\"#000000\">samples = 170</text>\n<text text-anchor=\"middle\" x=\"111\" y=\"-96.8\" font-family=\"Times,serif\" font-size=\"14.00\" fill=\"#000000\">value = [9, 161]</text>\n</g>\n<!-- 1&#45;&gt;2 -->\n<g id=\"edge2\" class=\"edge\">\n<title>1&#45;&gt;2</title>\n<path fill=\"none\" stroke=\"#000000\" d=\"M195.0703,-192.9465C183.8472,-183.6088 171.5663,-173.3911 159.9427,-163.7203\"/>\n<polygon fill=\"#000000\" stroke=\"#000000\" points=\"161.9474,-160.8353 152.0216,-157.13 157.4704,-166.2164 161.9474,-160.8353\"/>\n</g>\n<!-- 5 -->\n<g id=\"node6\" class=\"node\">\n<title>5</title>\n<polygon fill=\"none\" stroke=\"#000000\" points=\"294,-149.5 184,-149.5 184,-96.5 294,-96.5 294,-149.5\"/>\n<text text-anchor=\"middle\" x=\"239\" y=\"-134.3\" font-family=\"Times,serif\" font-size=\"14.00\" fill=\"#000000\">gini = 0.5</text>\n<text text-anchor=\"middle\" x=\"239\" y=\"-119.3\" font-family=\"Times,serif\" font-size=\"14.00\" fill=\"#000000\">samples = 144</text>\n<text text-anchor=\"middle\" x=\"239\" y=\"-104.3\" font-family=\"Times,serif\" font-size=\"14.00\" fill=\"#000000\">value = [72, 72]</text>\n</g>\n<!-- 1&#45;&gt;5 -->\n<g id=\"edge5\" class=\"edge\">\n<title>1&#45;&gt;5</title>\n<path fill=\"none\" stroke=\"#000000\" d=\"M236.9823,-192.9465C237.2905,-182.2621 237.632,-170.4254 237.945,-159.5742\"/>\n<polygon fill=\"#000000\" stroke=\"#000000\" points=\"241.4445,-159.639 238.2344,-149.5422 234.4474,-159.4371 241.4445,-159.639\"/>\n</g>\n<!-- 3 -->\n<g id=\"node4\" class=\"node\">\n<title>3</title>\n<polygon fill=\"none\" stroke=\"#000000\" points=\"102,-53 0,-53 0,0 102,0 102,-53\"/>\n<text text-anchor=\"middle\" x=\"51\" y=\"-37.8\" font-family=\"Times,serif\" font-size=\"14.00\" fill=\"#000000\">gini = 0.062</text>\n<text text-anchor=\"middle\" x=\"51\" y=\"-22.8\" font-family=\"Times,serif\" font-size=\"14.00\" fill=\"#000000\">samples = 94</text>\n<text text-anchor=\"middle\" x=\"51\" y=\"-7.8\" font-family=\"Times,serif\" font-size=\"14.00\" fill=\"#000000\">value = [3, 91]</text>\n</g>\n<!-- 2&#45;&gt;3 -->\n<g id=\"edge3\" class=\"edge\">\n<title>2&#45;&gt;3</title>\n<path fill=\"none\" stroke=\"#000000\" d=\"M89.8462,-88.9777C84.3805,-80.187 78.4846,-70.7044 72.9778,-61.8477\"/>\n<polygon fill=\"#000000\" stroke=\"#000000\" points=\"75.8837,-59.8927 67.6312,-53.2485 69.9391,-63.5889 75.8837,-59.8927\"/>\n</g>\n<!-- 4 -->\n<g id=\"node5\" class=\"node\">\n<title>4</title>\n<polygon fill=\"none\" stroke=\"#000000\" points=\"222,-53 120,-53 120,0 222,0 222,-53\"/>\n<text text-anchor=\"middle\" x=\"171\" y=\"-37.8\" font-family=\"Times,serif\" font-size=\"14.00\" fill=\"#000000\">gini = 0.145</text>\n<text text-anchor=\"middle\" x=\"171\" y=\"-22.8\" font-family=\"Times,serif\" font-size=\"14.00\" fill=\"#000000\">samples = 76</text>\n<text text-anchor=\"middle\" x=\"171\" y=\"-7.8\" font-family=\"Times,serif\" font-size=\"14.00\" fill=\"#000000\">value = [6, 70]</text>\n</g>\n<!-- 2&#45;&gt;4 -->\n<g id=\"edge4\" class=\"edge\">\n<title>2&#45;&gt;4</title>\n<path fill=\"none\" stroke=\"#000000\" d=\"M132.1538,-88.9777C137.6195,-80.187 143.5154,-70.7044 149.0222,-61.8477\"/>\n<polygon fill=\"#000000\" stroke=\"#000000\" points=\"152.0609,-63.5889 154.3688,-53.2485 146.1163,-59.8927 152.0609,-63.5889\"/>\n</g>\n<!-- 7 -->\n<g id=\"node8\" class=\"node\">\n<title>7</title>\n<polygon fill=\"none\" stroke=\"#000000\" points=\"427,-149.5 317,-149.5 317,-96.5 427,-96.5 427,-149.5\"/>\n<text text-anchor=\"middle\" x=\"372\" y=\"-134.3\" font-family=\"Times,serif\" font-size=\"14.00\" fill=\"#000000\">gini = 0.466</text>\n<text text-anchor=\"middle\" x=\"372\" y=\"-119.3\" font-family=\"Times,serif\" font-size=\"14.00\" fill=\"#000000\">samples = 122</text>\n<text text-anchor=\"middle\" x=\"372\" y=\"-104.3\" font-family=\"Times,serif\" font-size=\"14.00\" fill=\"#000000\">value = [77, 45]</text>\n</g>\n<!-- 6&#45;&gt;7 -->\n<g id=\"edge7\" class=\"edge\">\n<title>6&#45;&gt;7</title>\n<path fill=\"none\" stroke=\"#000000\" d=\"M374.0177,-192.9465C373.7095,-182.2621 373.368,-170.4254 373.055,-159.5742\"/>\n<polygon fill=\"#000000\" stroke=\"#000000\" points=\"376.5526,-159.4371 372.7656,-149.5422 369.5555,-159.639 376.5526,-159.4371\"/>\n</g>\n<!-- 8 -->\n<g id=\"node9\" class=\"node\">\n<title>8</title>\n<polygon fill=\"none\" stroke=\"#000000\" points=\"562.5,-157 445.5,-157 445.5,-89 562.5,-89 562.5,-157\"/>\n<text text-anchor=\"middle\" x=\"504\" y=\"-141.8\" font-family=\"Times,serif\" font-size=\"14.00\" fill=\"#000000\">Pclass &lt;= 2.5</text>\n<text text-anchor=\"middle\" x=\"504\" y=\"-126.8\" font-family=\"Times,serif\" font-size=\"14.00\" fill=\"#000000\">gini = 0.244</text>\n<text text-anchor=\"middle\" x=\"504\" y=\"-111.8\" font-family=\"Times,serif\" font-size=\"14.00\" fill=\"#000000\">samples = 451</text>\n<text text-anchor=\"middle\" x=\"504\" y=\"-96.8\" font-family=\"Times,serif\" font-size=\"14.00\" fill=\"#000000\">value = [387, 64]</text>\n</g>\n<!-- 6&#45;&gt;8 -->\n<g id=\"edge8\" class=\"edge\">\n<title>6&#45;&gt;8</title>\n<path fill=\"none\" stroke=\"#000000\" d=\"M417.2394,-192.9465C428.9331,-183.519 441.7394,-173.1946 453.837,-163.4415\"/>\n<polygon fill=\"#000000\" stroke=\"#000000\" points=\"456.0773,-166.1312 461.6657,-157.13 451.6838,-160.6816 456.0773,-166.1312\"/>\n</g>\n<!-- 9 -->\n<g id=\"node10\" class=\"node\">\n<title>9</title>\n<polygon fill=\"none\" stroke=\"#000000\" points=\"493,-53 383,-53 383,0 493,0 493,-53\"/>\n<text text-anchor=\"middle\" x=\"438\" y=\"-37.8\" font-family=\"Times,serif\" font-size=\"14.00\" fill=\"#000000\">gini = 0.265</text>\n<text text-anchor=\"middle\" x=\"438\" y=\"-22.8\" font-family=\"Times,serif\" font-size=\"14.00\" fill=\"#000000\">samples = 108</text>\n<text text-anchor=\"middle\" x=\"438\" y=\"-7.8\" font-family=\"Times,serif\" font-size=\"14.00\" fill=\"#000000\">value = [91, 17]</text>\n</g>\n<!-- 8&#45;&gt;9 -->\n<g id=\"edge9\" class=\"edge\">\n<title>8&#45;&gt;9</title>\n<path fill=\"none\" stroke=\"#000000\" d=\"M480.7309,-88.9777C474.656,-80.0954 468.0979,-70.5067 461.9865,-61.5711\"/>\n<polygon fill=\"#000000\" stroke=\"#000000\" points=\"464.8286,-59.5267 456.2943,-53.2485 459.0507,-63.4785 464.8286,-59.5267\"/>\n</g>\n<!-- 10 -->\n<g id=\"node11\" class=\"node\">\n<title>10</title>\n<polygon fill=\"none\" stroke=\"#000000\" points=\"628.5,-53 511.5,-53 511.5,0 628.5,0 628.5,-53\"/>\n<text text-anchor=\"middle\" x=\"570\" y=\"-37.8\" font-family=\"Times,serif\" font-size=\"14.00\" fill=\"#000000\">gini = 0.237</text>\n<text text-anchor=\"middle\" x=\"570\" y=\"-22.8\" font-family=\"Times,serif\" font-size=\"14.00\" fill=\"#000000\">samples = 343</text>\n<text text-anchor=\"middle\" x=\"570\" y=\"-7.8\" font-family=\"Times,serif\" font-size=\"14.00\" fill=\"#000000\">value = [296, 47]</text>\n</g>\n<!-- 8&#45;&gt;10 -->\n<g id=\"edge10\" class=\"edge\">\n<title>8&#45;&gt;10</title>\n<path fill=\"none\" stroke=\"#000000\" d=\"M527.2691,-88.9777C533.344,-80.0954 539.9021,-70.5067 546.0135,-61.5711\"/>\n<polygon fill=\"#000000\" stroke=\"#000000\" points=\"548.9493,-63.4785 551.7057,-53.2485 543.1714,-59.5267 548.9493,-63.4785\"/>\n</g>\n</g>\n</svg>\n",
            "text/plain": [
              "<graphviz.files.Source at 0x7f58e7289d10>"
            ]
          },
          "execution_count": 54,
          "metadata": {
            "tags": []
          },
          "output_type": "execute_result"
        }
      ],
      "source": [
        "import pandas as pd\n",
        "import numpy as np\n",
        "\n",
        "from sklearn.tree import DecisionTreeClassifier\n",
        "from sklearn.tree import export_graphviz\n",
        "import graphviz\n",
        "from IPython.display import Image\n",
        "\n",
        "df = pd.read_csv('/content/titanic.csv')\n",
        "df['male'] = df['Sex'] == 'male'\n",
        "\n",
        "feature_names = ['Pclass', 'male']\n",
        "X = df[feature_names].values\n",
        "y = df['Survived'].values\n",
        "\n",
        "dt = DecisionTreeClassifier()\n",
        "dt.fit(X, y)\n",
        "\n",
        "dot_file = export_graphviz(dt, feature_names=feature_names)\n",
        "graph = graphviz.Source(dot_file)\n",
        "# save the file\n",
        "graph.render(filename='tree', format='png', cleanup=True)\n",
        "graph"
      ]
    },
    {
      "cell_type": "markdown",
      "metadata": {
        "id": "iSpTaNiymZdT"
      },
      "source": [
        "## **Overfitting in Decision Trees**\n",
        "\n",
        "Recall that **overfitting** is when we do a good job of building a model for the training set, but it doesn’t perform well on the test set. Decision Trees are incredibly prone to overfitting. Since they can keep having additional nodes in the tree that split on features, the model can really dig deep into the specifics of the training set. Depending on the data, this might result in a model that doesn’t capture the true nature of the data and doesn’t generalize.\n",
        "\n",
        "Maybe we just have a single datapoint that goes to a leaf node. It might not make sense to have that additional split.\n",
        "\n",
        "Let’s look at a diagram of a Decision Tree for the Titanic dataset. This is the resulting tree when we build a Decision Tree with scikit-learn on the entire dataset. We’re just looking at a portion of the Decision Tree since it’s so large. We’ve highlighted a particular path of interest.\n",
        "\n",
        "![dt](https://api.sololearn.com/DownloadFile?id=3914)\n",
        "\n",
        "\n",
        "If you follow the highlighted path, you’ll see that we split on Sex, Pclass, and then split on Age 9 times in a row with different thresholds. This results in a graph that’s very nitpicky about age. A female passenger in Pclass 3 of age 31 goes to a different leaf node than a similar passenger of age 30.5 or 30 or 29. The model predicts that a female passenger age 35 survives, age 32 doesn’t survive, age 31 survives, and age 30 doesn’t survive. This is probably too fine-grained and is giving single datapoints from our dataset too much power. You can see that the leaf nodes all have few datapoints and often only one.\n",
        "\n",
        ">`If you let a Decision Tree keep building, it may create a tree that’s overfit and doesn’t capture the essence of the data.`\n",
        "\n",
        "\n"
      ]
    },
    {
      "cell_type": "markdown",
      "metadata": {
        "id": "1HBF6pB6uI3B"
      },
      "source": [
        "### **Pruning**\n",
        "\n",
        "\n",
        "In order to solve these issues, we do what’s called __pruning__ the tree. This means we make the tree smaller with the goal of reducing `overfitting`.\n",
        "\n",
        "There are two types of pruning: `pre-pruning` & `post-pruning`. In `pre-pruning`, we have rules of when to stop building the tree, so we stop building before the tree is too big. In `post-pruning` we build the whole tree and then we review the tree and decide which leaves to remove to make the tree smaller.\n",
        "The term pruning comes from the same term in farming. Farmers cut off branches of trees and we are doing the same to our decision tree.\n",
        "\n",
        "**Pre-pruning**\n",
        "\n",
        "\n",
        "We’re going to focus on pre-pruning techniques since they are easier to implement. We have a few options for how to limit the tree growth. Here are some commonly used pre-pruning techniques:\n",
        "\n",
        "- `Max depth`: Only grow the tree up to a certain depth, or height of the tree. _If the max depth is 3, there will be at most 3 splits for each datapoint._\n",
        "\n",
        "- `Leaf size`: Don’t split a node if the number of samples at that node is under a threshold\n",
        "\n",
        "- `Number of leaf nodes`: Limit the total number of leaf nodes allowed in the tree\n",
        "\n",
        "Pruning is a balance. For example, if you set the max depth too small, you won’t have much of a tree and you won’t have any predictive power. This is called __underfitting__. Similarly if the leaf size is too large, or the number of leaf nodes too small, you’ll have an underfit model.\n",
        "\n",
        ">__There’s no hard science as to which pre-pruning method will yield better results. In practice, we try a few different values for each parameter and cross validate to compare their performance.__\n",
        "\n",
        "```\n",
        "dt = DecisionTreeClassifier(max_depth=3, min_samples_leaf=2, max_leaf_nodes=10)\n",
        "```\n",
        "\n",
        ">To determine the best values for the __`pre-pruning`__ parameters, we’ll use __cross validation__ to compare several potential options.\n"
      ]
    },
    {
      "cell_type": "code",
      "execution_count": 55,
      "metadata": {
        "colab": {
          "base_uri": "https://localhost:8080/"
        },
        "id": "IdbwuVVLmnSB",
        "outputId": "48d230d6-05bf-4c6c-d7a0-7ca44799dea3"
      },
      "outputs": [
        {
          "name": "stdout",
          "output_type": "stream",
          "text": [
            "best params: {'max_depth': 15, 'max_leaf_nodes': 35, 'min_samples_leaf': 1}\n",
            "best score: 0.772286112785185\n"
          ]
        }
      ],
      "source": [
        "import pandas as pd\n",
        "from sklearn.tree import DecisionTreeClassifier\n",
        "from sklearn.model_selection import GridSearchCV\n",
        "\n",
        "df = pd.read_csv('/content/titanic.csv')\n",
        "df['male'] = df['Sex'] == 'male'\n",
        "X = df[['Pclass', 'male', 'Age', 'Siblings/Spouses', 'Parents/Children', 'Fare']].values\n",
        "y = df['Survived'].values\n",
        "\n",
        "param_grid = {\n",
        "    'max_depth': [5, 15, 25],\n",
        "    'min_samples_leaf': [1, 3],\n",
        "    'max_leaf_nodes': [10, 20, 35, 50]}\n",
        "\n",
        "dt = DecisionTreeClassifier()\n",
        "gs = GridSearchCV(dt, param_grid, scoring='f1', cv=5)\n",
        "\n",
        "'''\n",
        "GridSearchCV has four parameters that we’ll use:\n",
        "1. The model (in this case a DecisionTreeClassifier)\n",
        "2. Param grid: a dictionary of the parameters names and all the possible values\n",
        "3. What metric to use (default is accuracy)\n",
        "4. How many folds for k-fold cross validation\n",
        "'''\n",
        "gs.fit(X, y)\n",
        "print(\"best params:\", gs.best_params_)\n",
        "\n",
        "# best_score_ attribute tells us the score of the winning model\n",
        "print(\"best score:\", gs.best_score_)"
      ]
    },
    {
      "cell_type": "markdown",
      "metadata": {
        "id": "SP-WQx2zFDjJ"
      },
      "source": [
        ">`There are often a few models that have very similar performance. If you run this multiple times you might get slightly different results depending on the randomness of how the points are distributed among the folds. Generally if we have multiple models with comparable performance, we’d choose the simpler model.`"
      ]
    },
    {
      "cell_type": "markdown",
      "metadata": {
        "id": "aODLQLt979o9"
      },
      "source": [
        "### __Decision Tree Pros and Cons__\n",
        "\n",
        "\n",
        "**Computation**\n",
        "\n",
        "When talking about how much computation is required for a machine learning algorithm, we separate it into two questions:\n",
        "- how much computation is required to build the model \n",
        "- and how much is required to predict.\n",
        "\n",
        "A decision tree is very **computationally expensive** to **build**. This is because at every node we are trying every single feature and threshold as a possible split. We have to calculate the information gain of each of these possible splits each time. This is computationally very expensive.\n",
        "\n",
        "Predicting with a decision tree on the other hand, is **computational very inexpensive.** You just need to ask a series of yes/no questions about the datapoint to get to the prediction.\n",
        "__NOTE:__ \n",
        "- Generally we care much more about the computation time for prediction than training. Predictions often need to happen in real time while a user is waiting for a result.\n",
        "\n",
        "- To remedy the overfitting issues, decision trees generally require some tuning to get the best possible model. Pruning techniques are used to limit the size of the tree and they help mitigate overfitting.\n",
        "\n",
        "- Interpretability is the biggest advantage of Decision Trees. It will depend on the situation whether this is important for your problem.\n",
        "\n",
        "\n",
        "\n",
        "\n"
      ]
    },
    {
      "cell_type": "markdown",
      "metadata": {
        "id": "Z7CN09epH1mf"
      },
      "source": [
        "### **Machine Learning - Split to Achieve Gain**\n"
      ]
    },
    {
      "cell_type": "code",
      "execution_count": 58,
      "metadata": {
        "colab": {
          "base_uri": "https://localhost:8080/"
        },
        "id": "FWJBueLfGfaS",
        "outputId": "5e23e91d-36ce-4fd8-c259-f1391ad52140"
      },
      "outputs": [
        {
          "name": "stdout",
          "output_type": "stream",
          "text": [
            "1 0 1 0 1 0\n",
            "1 1 1\n",
            "0 0 0\n",
            "0.5\n"
          ]
        }
      ],
      "source": [
        "S = [int(x) for x in input().split()]\n",
        "A = [int(x) for x in input().split()]\n",
        "B = [int(x) for x in input().split()]\n",
        "\n",
        "SL = len(S)\n",
        "BL=len(B)\n",
        "AL = len(A)\n",
        "\n",
        "\n",
        "one = S.count(1)\n",
        "zero = S.count(0)\n",
        "giniP = one/(one+zero)\n",
        "giniInit = 2*giniP*(1-giniP)\n",
        "\n",
        "\n",
        "one = A.count(1)\n",
        "zero = A.count(0)\n",
        "giniP = one/(one+zero)\n",
        "giniLeft = 2*giniP*(1-giniP)\n",
        "\n",
        "\n",
        "one = B.count(1)\n",
        "zero = B.count(0)\n",
        "giniP = one/(one+zero)\n",
        "giniRight= 2*giniP*(1-giniP)\n",
        "\n",
        "IG= giniInit -(giniLeft*(AL/SL))-(giniRight*(BL/SL))\n",
        "print (round(IG,5))\n",
        "\n",
        "# Input\n",
        "# 1 0 1 0 1 0\n",
        "# 1 1 1\n",
        "# 0 0 0"
      ]
    },
    {
      "cell_type": "markdown",
      "metadata": {
        "id": "lbihbRyQIAJW"
      },
      "source": [
        "# __05 - Random Forest__\n"
      ]
    },
    {
      "cell_type": "markdown",
      "metadata": {
        "id": "AkHIgT5nIbdk"
      },
      "source": [
        "### **Improving on Decision Trees**\n",
        "\n",
        "The main drawback of __decision trees__ are that they have a tendency to overfit. We saw that we could improve their performance with `pruning`, but in this module we’ll see a way of using decision trees to make a better model.\n",
        "\n",
        "__Decision Trees__ are very susceptible to random idiosyncrasies in the training dataset. We say that Decision Trees have high variance since if you randomly change the training dataset, you may end up with a very different looking tree.\n",
        "\n",
        "One of the advantages of __Decision trees__ over a model like `logistic regression` is that they make no assumptions about how the data is structured. In `logistic regression`, we assume that we can draw a line to split the data. Sometimes our data just isn’t structured like that. __A decision tree has the potential to get at the essence of the data no matter how it is structured.__\n",
        "\n",
        "Random Forests built with multiple trees. The goal of random forests is to take the advantages of decision trees while mitigating the variance issues.\n",
        "\n",
        "> A random forest is an example of an **ensemble** because it uses multiple machine learning models to create a single model."
      ]
    },
    {
      "cell_type": "markdown",
      "metadata": {
        "id": "vKER11VnIrbE"
      },
      "source": [
        "### **Bootstrapping**\n",
        "\n",
        "A bootstrapped sample is a **random sample of datapoints** where we ***randomly select with replacement datapoints from our original dataset*** to create a dataset of the same size.\n",
        "\n",
        "**Randomly selecting** with **replacement** means that we can choose the same datapoint multiple times. This means that in a **bootstrapped** sample, some datapoints from the original dataset will appear multiple times and some will not appear at all.\n",
        "\n",
        "For example if we have four datapoints `A, B, C, D,` these could be 3 resamples:\n",
        "\n",
        "```\n",
        "A, A, B, C\n",
        "B, B, B, D\n",
        "A, A, C, C\n",
        "```\n",
        "\n",
        "We would rather be able to get more samples of data from the population, but as all we have is our training set, we use that to generate additional datasets.\n",
        "We use bootstrapping to mimic creating multiple samples."
      ]
    },
    {
      "cell_type": "markdown",
      "metadata": {
        "id": "VLVDKYFkMoja"
      },
      "source": [
        "### __Bagging Decision Trees__\n",
        "\n",
        "\n",
        "**Bootstrap Aggregation** (or Bagging) is a technique for **reducing the variance** in an individual model by creating an __ensemble from multiple models built on bootstrapped samples__.\n",
        "\n",
        "To bag decision trees, we create multiple (__say $10$__) bootstrapped resamples of our training dataset. So if we have 100 datapoints in our training set, each of the resamples will have $100$ datapoints randomly chosen from our training set. Recall that __we randomly select with replacement, meaning that some datapoints will appear multiple times and some not at all__.\n",
        "\n",
        "We create a __decision tree__ with each of these $10$ resamples.\n",
        "\n",
        "To make a prediction, we make a prediction with each of the $10$ decision trees and then each decision tree gets a vote. The prediction with the most votes is the final prediction.\n",
        "\n",
        "When we bootstrap the training set, we're trying to wash out the __variance__ of the __decision tree__. The average of several trees that have different training sets will create a model that more accurately gets at the essence of the data.\n",
        "\n",
        ">__Bagging Decision Trees is a way of reducing the variance in the model.__\n",
        "\n",
        "\n",
        "\n",
        "__Que:__ _Let’s say we have 100 datapoints and are bagging decision trees with 10 trees. The first datapoint would be used to build how many of the 10 trees?_\n",
        "- __We don’t know because it’s random__\n",
        "\n",
        "> Each decision tree within a random forest is probably worse than a standard decision tree. But when we average them we get a very strong model!\n",
        "\n",
        "> we take a random selection of the features to use before building the tree\n",
        "\n"
      ]
    },
    {
      "cell_type": "code",
      "execution_count": 59,
      "metadata": {
        "colab": {
          "base_uri": "https://localhost:8080/"
        },
        "id": "TBGMLFr2GfUv",
        "outputId": "b34c716a-9c20-4089-a2a1-7fc02f1d064f"
      },
      "outputs": [
        {
          "name": "stdout",
          "output_type": "stream",
          "text": [
            "data dimensions (569, 30)\n"
          ]
        }
      ],
      "source": [
        "import pandas as pd\n",
        "from sklearn.datasets import load_breast_cancer\n",
        "\n",
        "cancer_data = load_breast_cancer()\n",
        "df = pd.DataFrame(cancer_data['data'], columns=cancer_data['feature_names'])\n",
        "df['target'] = cancer_data['target']\n",
        "\n",
        "X = df[cancer_data.feature_names].values\n",
        "y = df['target'].values\n",
        "print('data dimensions', X.shape)"
      ]
    },
    {
      "cell_type": "code",
      "execution_count": 60,
      "metadata": {
        "colab": {
          "base_uri": "https://localhost:8080/"
        },
        "id": "hVVLstk4GfPP",
        "outputId": "169a9f4f-47b9-49ee-9e3e-bfa457f7dcfc"
      },
      "outputs": [
        {
          "name": "stdout",
          "output_type": "stream",
          "text": [
            "prediction: [1]\n",
            "true value: 1\n"
          ]
        }
      ],
      "source": [
        "import pandas as pd\n",
        "from sklearn.datasets import load_breast_cancer\n",
        "from sklearn.ensemble import RandomForestClassifier\n",
        "from sklearn.model_selection import train_test_split\n",
        "\n",
        "cancer_data = load_breast_cancer()\n",
        "df = pd.DataFrame(cancer_data['data'], columns=cancer_data['feature_names'])\n",
        "df['target'] = cancer_data['target']\n",
        "\n",
        "X = df[cancer_data.feature_names].values\n",
        "y = df['target'].values\n",
        "\n",
        "X_train, X_test, y_train, y_test = train_test_split(X, y, random_state=101)\n",
        "\n",
        "rf = RandomForestClassifier()\n",
        "rf.fit(X_train, y_train)\n",
        "\n",
        "first_row = X_test[0]\n",
        "print(\"prediction:\", rf.predict([first_row]))\n",
        "print(\"true value:\", y_test[0])"
      ]
    },
    {
      "cell_type": "code",
      "execution_count": 61,
      "metadata": {
        "colab": {
          "base_uri": "https://localhost:8080/"
        },
        "id": "sM0FzqTNFJzh",
        "outputId": "d96b8a73-bf55-4bec-810f-8e63c3831972"
      },
      "outputs": [
        {
          "name": "stdout",
          "output_type": "stream",
          "text": [
            "random forest accuracy: 0.972027972027972\n"
          ]
        }
      ],
      "source": [
        "import pandas as pd\n",
        "from sklearn.datasets import load_breast_cancer\n",
        "from sklearn.ensemble import RandomForestClassifier\n",
        "from sklearn.model_selection import train_test_split\n",
        "\n",
        "cancer_data = load_breast_cancer()\n",
        "df = pd.DataFrame(cancer_data['data'], columns=cancer_data['feature_names'])\n",
        "df['target'] = cancer_data['target']\n",
        "\n",
        "X = df[cancer_data.feature_names].values\n",
        "y = df['target'].values\n",
        "\n",
        "X_train, X_test, y_train, y_test = train_test_split(X, y, random_state=101)\n",
        "\n",
        "rf = RandomForestClassifier()\n",
        "rf.fit(X_train, y_train)\n",
        "first_row = X_test[0]\n",
        "\n",
        "print(\"random forest accuracy:\", rf.score(X_test, y_test))"
      ]
    },
    {
      "cell_type": "code",
      "execution_count": 62,
      "metadata": {
        "colab": {
          "base_uri": "https://localhost:8080/"
        },
        "id": "jNAiMjWOWuYi",
        "outputId": "fbada2d7-5b80-4b58-d862-5bee17a35441"
      },
      "outputs": [
        {
          "name": "stdout",
          "output_type": "stream",
          "text": [
            "decision tree accuracy: 0.8881118881118881\n"
          ]
        }
      ],
      "source": [
        "import pandas as pd\n",
        "from sklearn.datasets import load_breast_cancer\n",
        "from sklearn.tree import DecisionTreeClassifier\n",
        "from sklearn.model_selection import train_test_split\n",
        "\n",
        "cancer_data = load_breast_cancer()\n",
        "df = pd.DataFrame(cancer_data['data'], columns=cancer_data['feature_names'])\n",
        "df['target'] = cancer_data['target']\n",
        "\n",
        "X = df[cancer_data.feature_names].values\n",
        "y = df['target'].values\n",
        "\n",
        "X_train, X_test, y_train, y_test = train_test_split(X, y, random_state=101)\n",
        "\n",
        "dt = DecisionTreeClassifier()\n",
        "dt.fit(X_train, y_train)\n",
        "print(\"decision tree accuracy:\", dt.score(X_test, y_test))"
      ]
    },
    {
      "cell_type": "markdown",
      "metadata": {
        "id": "T8acc75wX5Vf"
      },
      "source": [
        "> One of the **big advantages** of Random Forests is that they rarely require much tuning. The default values will work well on most datasets.\n",
        "\n",
        "\n",
        "Since a random forest is made up of decision trees, we have all the same tuning parameters for prepruning as we did for decision trees: `max_depth`, `min_samples_leaf`, and `max_leaf_nodes`. With random forests, it is generally not important to tune these as overfitting is generally not an issue.\n",
        "\n",
        "We will look at **two new tuning parameters**: `n_estimators` (the number of trees) and `max_features` (the number of features to consider at each split).\n",
        "\n",
        "The default for the __max features__ is the square root of `p`, where `p` is the number of features (or predictors). The default is generally a good choice for max features and we usually will not need to change it, but you can set it to a fixed number with the following code.\n",
        "\n",
        "```\n",
        "rf = RandomForestClassifier(max_features=5)\n",
        "```\n",
        "\n",
        "__The default number of estimators (decision trees) is 10__. This often works well but may in some cases be too small. You can set it to another number as follows. We will see in the next parts how to choose the best value.\n",
        "\n",
        "```\n",
        "rf = RandomForestClassifier(n_estimators=15)\n",
        "```"
      ]
    },
    {
      "cell_type": "markdown",
      "metadata": {
        "id": "OJrpBQdAaMPO"
      },
      "source": [
        "### __Grid Search__"
      ]
    },
    {
      "cell_type": "code",
      "execution_count": 63,
      "metadata": {
        "colab": {
          "base_uri": "https://localhost:8080/"
        },
        "id": "9Y5R7Lv-aFZQ",
        "outputId": "51f82370-a31f-4fbb-d06b-ec66fecc633c"
      },
      "outputs": [
        {
          "name": "stdout",
          "output_type": "stream",
          "text": [
            "best params: {'n_estimators': 25}\n"
          ]
        }
      ],
      "source": [
        "import pandas as pd\n",
        "from sklearn.datasets import load_breast_cancer\n",
        "from sklearn.ensemble import RandomForestClassifier\n",
        "from sklearn.model_selection import GridSearchCV\n",
        "\n",
        "cancer_data = load_breast_cancer()\n",
        "df = pd.DataFrame(cancer_data['data'], columns=cancer_data['feature_names'])\n",
        "df['target'] = cancer_data['target']\n",
        "\n",
        "X = df[cancer_data.feature_names].values\n",
        "y = df['target'].values\n",
        "\n",
        "param_grid = {\n",
        "    'n_estimators': [10, 25, 50, 75, 100],\n",
        "}\n",
        "\n",
        "rf = RandomForestClassifier(random_state=123)\n",
        "gs = GridSearchCV(rf, param_grid, scoring='f1', cv=5)\n",
        "gs.fit(X, y)\n",
        "print(\"best params:\", gs.best_params_)"
      ]
    },
    {
      "cell_type": "markdown",
      "metadata": {
        "id": "_LGZHjuea8dh"
      },
      "source": [
        "we can add additional parameters, e.g. `max_features`, and `parameter values` to the `param_grid` dictionary to compare more decision trees.\n",
        "\n",
        "\n",
        "__Que__ _With the following parameter grid, how many different Random Forest models will the grid search build?_\n",
        "\n",
        "```\n",
        "param_grid = {\n",
        "  'max_features': [None, 10, 20],\n",
        "  'n_estimators': [10, 100],\n",
        "}\n",
        "```\n",
        "__Ans__ - $6$\n"
      ]
    },
    {
      "cell_type": "markdown",
      "metadata": {
        "id": "cuOZBOiw-Qss"
      },
      "source": [
        "### __Elbow Graph__\n",
        "\n",
        "\n",
        "With a parameter like the number of __trees__ in a __random forest__, increasing the number of trees will never hurt performance. Increasing the number trees will increase performance until a point where it levels out. The more trees, however, the more complicated the algorithm. A more complicated algorithm is more resource intensive to use. Generally it is worth adding complexity to the model if it improves performance but we do not want to unnecessarily add complexity.\n",
        "\n",
        "We can use what is called an __Elbow Graph__ to find the __sweet spot__. Elbow Graph is a model that __optimizes__ performance without adding __unnecessary complexity__.\n",
        "\n",
        "To find the optimal value, let’s do a Grid Search trying all the values from __1 to 100__ for __`n_estimators`__.\n",
        "\n",
        "```python\n",
        "n_estimators = list(range(1, 101))\n",
        "param_grid = {\n",
        "    'n_estimators': n_estimators,\n",
        "}\n",
        "rf = RandomForestClassifier()\n",
        "gs = GridSearchCV(rf, param_grid, cv=5)\n",
        "gs.fit(X, y)\n",
        "\n",
        "```\n"
      ]
    },
    {
      "cell_type": "code",
      "execution_count": 64,
      "metadata": {
        "colab": {
          "base_uri": "https://localhost:8080/"
        },
        "id": "1qsIgv3sbdcM",
        "outputId": "ecc8c375-b1bb-47ee-ed40-9a23d413c588"
      },
      "outputs": [
        {
          "name": "stdout",
          "output_type": "stream",
          "text": [
            "best params: {'n_estimators': 30}\n",
            "\n",
            "[0.92376214 0.9283399  0.95253553 0.95288907 0.96521987 0.96041273\n",
            " 0.96788349 0.96500606 0.96794213 0.96782476 0.97071991 0.97204253\n",
            " 0.97225826 0.97072287 0.97789112 0.97215989 0.97647349 0.97503604\n",
            " 0.97647349 0.97494064 0.97503564 0.97503564 0.97645367 0.97503564\n",
            " 0.97643384 0.97781275 0.97645341 0.97645341 0.97514878 0.97915521\n",
            " 0.97783259 0.97357766 0.97652795 0.97227303 0.97231216 0.97085319\n",
            " 0.97371036 0.9749352  0.97355603 0.97209833 0.97225266 0.97355729\n",
            " 0.97371036 0.97077467 0.9707937  0.97077467 0.97225266 0.97085446\n",
            " 0.97225266 0.97225266 0.97225266 0.97209833 0.9707937  0.9707937\n",
            " 0.9707937  0.9707937  0.9707937  0.9707937  0.9707937  0.9707937\n",
            " 0.9707937  0.9707937  0.9707937  0.9707937  0.96945419 0.9679768\n",
            " 0.96945419 0.9679768  0.96945419 0.9679768  0.96945419 0.9707937\n",
            " 0.97091316 0.96945419 0.97235158 0.97091316 0.97091316 0.97213927\n",
            " 0.97365621 0.97355729 0.97221779 0.97221779 0.97221779 0.97355729\n",
            " 0.97365621 0.97365621 0.97235158 0.97221779 0.97235158 0.97221779\n",
            " 0.97235158 0.97365621 0.97235158 0.97087418 0.97087418 0.97087418\n",
            " 0.97087418 0.97087418 0.97235158 0.97087418]\n"
          ]
        }
      ],
      "source": [
        "import pandas as pd\n",
        "from sklearn.datasets import load_breast_cancer\n",
        "from sklearn.ensemble import RandomForestClassifier\n",
        "from sklearn.model_selection import GridSearchCV\n",
        "\n",
        "cancer_data = load_breast_cancer()\n",
        "df = pd.DataFrame(cancer_data['data'], columns=cancer_data['feature_names'])\n",
        "df['target'] = cancer_data['target']\n",
        "\n",
        "X = df[cancer_data.feature_names].values\n",
        "y = df['target'].values\n",
        "\n",
        "n_estimators = list(range(1, 101))\n",
        "param_grid = {\n",
        "    'n_estimators': n_estimators,\n",
        "}\n",
        "\n",
        "rf = RandomForestClassifier(random_state=123)\n",
        "gs = GridSearchCV(rf, param_grid, scoring='f1', cv=5)\n",
        "gs.fit(X, y)\n",
        "print(\"best params:\", gs.best_params_)\n",
        "scores = gs.cv_results_['mean_test_score']\n",
        "print() # printing Space\n",
        "print(scores)"
      ]
    },
    {
      "cell_type": "markdown",
      "metadata": {
        "id": "OFRunw8N_3Ip"
      },
      "source": [
        "Instead of just looking at the best params like we did before, we are going to use the entire result from the grid search. The values are located in the __`cv_results_`__ attribute. This is a dictionary with a lot of data, however, we will only need one of the keys: __`mean_test_score`__. Let’s pull out these values and store them as a variable."
      ]
    },
    {
      "cell_type": "code",
      "execution_count": 65,
      "metadata": {
        "colab": {
          "base_uri": "https://localhost:8080/",
          "height": 601
        },
        "id": "KF9G2VjDAyG-",
        "outputId": "631ec891-5b3f-4f6f-c4b8-e4a06e65d8d1"
      },
      "outputs": [
        {
          "data": {
            "image/png": "[encoded data removed]",
            "text/plain": [
              "<Figure size 1152x648 with 1 Axes>"
            ]
          },
          "metadata": {
            "tags": []
          },
          "output_type": "display_data"
        }
      ],
      "source": [
        "# Now let’s use matplotlib to graph the results.\n",
        "import matplotlib.pyplot as plt\n",
        "\n",
        "scores = gs.cv_results_['mean_test_score']\n",
        "plt.style.use('fivethirtyeight')\n",
        "plt.figure(figsize=(16, 9))\n",
        "plt.plot(n_estimators, scores)\n",
        "plt.xlabel(\"n_estimators\")\n",
        "plt.ylabel(\"accuracy\")\n",
        "plt.xlim(0, 100)\n",
        "plt.ylim(0.9, 1)\n",
        "plt.show()"
      ]
    },
    {
      "cell_type": "markdown",
      "metadata": {
        "id": "16TNDS6AFPtx"
      },
      "source": [
        "Now we can build our random forest model with the optimal number of trees.\n",
        "\n",
        "```python\n",
        "rf = RandomForestClassifier(n_estimators=10)\n",
        "rf.fit(X, y) \n",
        "```\n"
      ]
    },
    {
      "cell_type": "markdown",
      "metadata": {
        "id": "rQpdXdvAFfw2"
      },
      "source": [
        "### __Feature Importances__\n",
        "\n",
        "\n",
        "There are $30$ features in the cancer dataset. Does every feature contribute equally to building a model? If not, which subset of features should we use? This is a matter of __feature selection__.\n",
        "\n",
        ">Random forests provide a straightforward method for feature selection: mean decrease impurity.\n",
        "\n",
        "Recall that a random forest consists of many decision trees, and that for each tree, the __node__ is chosen to split the dataset based on maximum decrease in impurity, typically either `Gini` impurity or `entropy` in classification.\n",
        "\n",
        "Thus for a tree, it can be computed how much impurity each feature decreases in a tree. And then for a forest, the impurity decrease from each feature can be averaged.\n",
        "\n",
        "Consider this measure a metric of importance of each feature, we then can rank and select the features according to feature importance.\n",
        "\n",
        "Scikit-learn provides a `feature_importances_` variable with the model, which shows the relative importance of each feature. The scores are scaled down so that the sum of all scores is 1.\n",
        "Let's find the feature importances in a random forest with n_estimator = 10 using the training dataset, and display them in the descending order."
      ]
    },
    {
      "cell_type": "code",
      "execution_count": 66,
      "metadata": {
        "colab": {
          "base_uri": "https://localhost:8080/"
        },
        "id": "WkPgf0s_E7FM",
        "outputId": "e1428d21-654d-4f98-af7b-e92f0ad3452d"
      },
      "outputs": [
        {
          "name": "stdout",
          "output_type": "stream",
          "text": [
            "worst radius            0.309701\n",
            "mean concave points     0.183126\n",
            "worst concave points    0.115641\n",
            "mean perimeter          0.064119\n",
            "mean radius             0.058742\n",
            "worst concavity         0.050951\n",
            "radius error            0.049103\n",
            "mean texture            0.017197\n",
            "worst area              0.016512\n",
            "mean concavity          0.014696\n",
            "dtype: float64\n"
          ]
        }
      ],
      "source": [
        "import pandas as pd\n",
        "from sklearn.datasets import load_breast_cancer\n",
        "from sklearn.ensemble import RandomForestClassifier\n",
        "from sklearn.model_selection import train_test_split\n",
        "\n",
        "cancer_data = load_breast_cancer()\n",
        "df = pd.DataFrame(cancer_data['data'], columns=cancer_data['feature_names'])\n",
        "df['target'] = cancer_data['target']\n",
        "\n",
        "X = df[cancer_data.feature_names].values\n",
        "y = df['target'].values\n",
        "\n",
        "X_train, X_test, y_train, y_test = train_test_split(X, y, random_state=101)\n",
        "rf = RandomForestClassifier(n_estimators=10, random_state=111)\n",
        "rf.fit(X_train, y_train)\n",
        "\n",
        "ft_imp = pd.Series(rf.feature_importances_, index=cancer_data.feature_names).sort_values(ascending=False)\n",
        "print(ft_imp.head(10))"
      ]
    },
    {
      "cell_type": "markdown",
      "metadata": {
        "id": "WQLNxnoARCpN"
      },
      "source": [
        "> From the output, we can see that among all features, __worst radius__ is most important (0.31), followed by __mean concave__ points and worst concave points."
      ]
    },
    {
      "cell_type": "markdown",
      "metadata": {
        "id": "eizGYPaGSvJQ"
      },
      "source": [
        "### **New Model on Selected Features**\n",
        "\n",
        "Why should we perform feature selection? Top reasons are: it enables us to train a model faster; it reduces the complexity of a model thus makes it easier to interpret. And if the right subset is chosen, it can improve the accuracy of a model. Choosing the right subset often relies on domain knowledge, some art, and a bit of luck.\n",
        "\n",
        "In our dataset, we happen to notice that features with \"worst\" seem to have higher importances. As a result we are going to build a new model with the selected features and see if it improves accuracy. Recall the model from the last part."
      ]
    },
    {
      "cell_type": "code",
      "execution_count": 67,
      "metadata": {
        "colab": {
          "base_uri": "https://localhost:8080/"
        },
        "id": "2JI8surUSldJ",
        "outputId": "cb62562b-9a5d-4a9e-9ca2-70baafb07c9c"
      },
      "outputs": [
        {
          "name": "stdout",
          "output_type": "stream",
          "text": [
            "0.965034965034965\n"
          ]
        }
      ],
      "source": [
        "import pandas as pd\n",
        "from sklearn.datasets import load_breast_cancer\n",
        "from sklearn.ensemble import RandomForestClassifier\n",
        "from sklearn.model_selection import train_test_split\n",
        "\n",
        "cancer_data = load_breast_cancer()\n",
        "df = pd.DataFrame(cancer_data['data'], columns=cancer_data['feature_names'])\n",
        "df['target'] = cancer_data['target']\n",
        "\n",
        "X = df[cancer_data.feature_names].values\n",
        "y = df['target'].values\n",
        "\n",
        "X_train, X_test, y_train, y_test = train_test_split(X, y, random_state=101)\n",
        "\n",
        "rf = RandomForestClassifier(n_estimators=10, random_state=111)\n",
        "rf.fit(X_train, y_train)\n",
        "print(rf.score(X_test, y_test))"
      ]
    },
    {
      "cell_type": "code",
      "execution_count": 68,
      "metadata": {
        "colab": {
          "base_uri": "https://localhost:8080/"
        },
        "id": "Axtp635lTEA1",
        "outputId": "34e25c87-5c1b-4d3e-877e-9ef5a6669f8f"
      },
      "outputs": [
        {
          "name": "stdout",
          "output_type": "stream",
          "text": [
            "['worst radius', 'worst texture', 'worst perimeter', 'worst area', 'worst smoothness', 'worst compactness', 'worst concavity', 'worst concave points', 'worst symmetry', 'worst fractal dimension']\n"
          ]
        }
      ],
      "source": [
        "import pandas as pd\n",
        "from sklearn.datasets import load_breast_cancer\n",
        "cancer_data = load_breast_cancer()\n",
        "df = pd.DataFrame(cancer_data['data'], columns=cancer_data['feature_names'])\n",
        "df['target'] = cancer_data['target']\n",
        "\n",
        "worst_cols = [col for col in df.columns if 'worst' in col]\n",
        "print(worst_cols)"
      ]
    },
    {
      "cell_type": "code",
      "execution_count": 69,
      "metadata": {
        "colab": {
          "base_uri": "https://localhost:8080/"
        },
        "id": "a45q-jUeTNod",
        "outputId": "2f08d590-b5db-45ec-eded-576577da348c"
      },
      "outputs": [
        {
          "name": "stdout",
          "output_type": "stream",
          "text": [
            "0.972027972027972\n"
          ]
        }
      ],
      "source": [
        "import pandas as pd\n",
        "from sklearn.datasets import load_breast_cancer\n",
        "from sklearn.ensemble import RandomForestClassifier\n",
        "from sklearn.model_selection import train_test_split\n",
        "\n",
        "cancer_data = load_breast_cancer()\n",
        "df = pd.DataFrame(cancer_data['data'], columns=cancer_data['feature_names'])\n",
        "df['target'] = cancer_data['target']\n",
        "\n",
        "X = df[cancer_data.feature_names].values\n",
        "y = df['target'].values\n",
        "\n",
        "rf = RandomForestClassifier(n_estimators=10, random_state=111)\n",
        "\n",
        "worst_cols = [col for col in df.columns if 'worst' in col]\n",
        "'''\n",
        "There are ten such features. Now we create another dataframe\n",
        "with the selected features, followed by a train test split with \n",
        "the same random state.\n",
        "'''\n",
        "X_worst = df[worst_cols]\n",
        "X_train, X_test, y_train, y_test = train_test_split(X_worst, y, random_state=101)\n",
        "rf.fit(X_train, y_train)\n",
        "print(rf.score(X_test, y_test))"
      ]
    },
    {
      "cell_type": "markdown",
      "metadata": {
        "id": "oCj20m3VUKZG"
      },
      "source": [
        "Here we are able to improve the accuracy using a subset of features, a third of the total features to be exact. This is because we removed some noise and highly correlated features, resulting in an increased accuracy. The advantage of building a better model using less features will be more pronounced when the sample size is large.\n"
      ]
    },
    {
      "cell_type": "markdown",
      "metadata": {
        "id": "Jf-xGC4MUbdt"
      },
      "source": [
        "### **Performance**\n"
      ]
    },
    {
      "cell_type": "code",
      "execution_count": 70,
      "metadata": {
        "colab": {
          "base_uri": "https://localhost:8080/"
        },
        "id": "kQsxtfj5Ug8J",
        "outputId": "7eb2eb50-ff56-467a-96b2-c491ed3a4f85"
      },
      "outputs": [
        {
          "name": "stdout",
          "output_type": "stream",
          "text": [
            "LR accuracy: 0.36\n",
            "RF accuracy: 0.8300000000000001\n"
          ]
        }
      ],
      "source": [
        "# make_circles makes a classification dataset with concentric circles.\n",
        "# A simple toy dataset to visualize clustering and classification algorithms\n",
        "from sklearn.datasets import make_circles\n",
        "from sklearn.model_selection import KFold\n",
        "from sklearn.linear_model import LogisticRegression\n",
        "from sklearn.ensemble import RandomForestClassifier\n",
        "import numpy as np\n",
        "\n",
        "X, y = make_circles(noise=0.2, factor=0.5, random_state=1)\n",
        "\n",
        "kf = KFold(n_splits=5, shuffle=True, random_state=1)\n",
        "\n",
        "lr_scores = []\n",
        "rf_scores = []\n",
        "\n",
        "for train_index, test_index in kf.split(X):\n",
        "    X_train, X_test = X[train_index], X[test_index]\n",
        "    y_train, y_test = y[train_index], y[test_index]\n",
        "    # LogisticRegression\n",
        "    lr = LogisticRegression(solver='lbfgs')\n",
        "    lr.fit(X_train, y_train)\n",
        "    lr_scores.append(lr.score(X_test, y_test))  \n",
        "    # RandomForestClassifier\n",
        "    rf = RandomForestClassifier(n_estimators=100)\n",
        "    rf.fit(X_train, y_train)\n",
        "    rf_scores.append(rf.score(X_test, y_test))\n",
        "\n",
        "print(\"LR accuracy:\", np.mean(lr_scores))\n",
        "print(\"RF accuracy:\", np.mean(rf_scores))"
      ]
    },
    {
      "cell_type": "markdown",
      "metadata": {
        "id": "gnjyE0MGWDyj"
      },
      "source": [
        "**Interpretability:**\n",
        "\n",
        "Random Forests are not a good choice when looking for interpretability.\n",
        "\n",
        ">In most cases, interpretability is not important.\n",
        "\n",
        "**Computation:**\n",
        "\n",
        "Random Forests are not the fastest model, but generally this is not a problem since the computational power of computers is a lot.\n"
      ]
    },
    {
      "cell_type": "markdown",
      "metadata": {
        "id": "qey1sCxvYLqG"
      },
      "source": [
        "### **Machine Learning - A Forest of Trees**\n",
        "\n",
        "\n",
        "Build a Random Forest model.\n",
        "\n",
        "**Task**\n",
        "You will be given a feature matrix X and target array y. Your task is to split the data into training and test sets, build a Random Forest model with the training set, and make predictions for the test set. Give the random forest 5 trees.\n",
        "\n",
        "You will be given an integer to be used as the random state. Make sure to use it in both the train test split and the Random Forest model.\n",
        "\n",
        "**Input Format**\n",
        "First line: integer (random state to use)\n",
        "Second line: integer (number of datapoints)\n",
        "Next n lines: Values of the row in the feature matrix, separated by spaces\n",
        "Last line: Target values separated by spaces\n",
        "\n",
        "Output Format\n",
        "Numpy array of 1's and 0's\n",
        "\n",
        "**Sample Input**\n",
        "```\n",
        "1\n",
        "10\n",
        "-1.53 -2.86\n",
        "-4.42 0.71\n",
        "-1.55 1.04\n",
        "-0.6 -2.01\n",
        "-3.43 1.5\n",
        "1.45 -1.15\n",
        "-1.6 -1.52\n",
        "0.79 0.55\n",
        "1.37 -0.23\n",
        "1.23 1.72\n",
        "0 1 1 0 1 0 0 1 0 1\n",
        "```\n",
        "```\n",
        "Sample Output\n",
        "[1 0 0]\n",
        "```\n",
        "\n",
        "```python\n",
        "import numpy as np \n",
        "import pandas as pd \n",
        "from sklearn.ensemble import RandomForestClassifier\n",
        "from sklearn.model_selection import train_test_split\n",
        "\n",
        "randomState = int(input())\n",
        "n = int(input())\n",
        "rows = []\n",
        "for i in range(n):\n",
        "\trows.append([float(a) for a in input().split()])\n",
        "\n",
        "X = np.array(rows)\n",
        "y = np.array([int(a) for a in input().split()])\n",
        "\n",
        "\n",
        "X_train, X_test, y_train, y_test = train_test_split(X,y,random_state=randomState)\n",
        "\n",
        "rf = RandomForestClassifier(n_estimators=5,random_state=randomState)\n",
        "rf.fit(X_train,y_train)\n",
        "\n",
        "print(rf.predict(X_test))\n",
        "```"
      ]
    },
    {
      "cell_type": "markdown",
      "metadata": {
        "id": "730j880IioyJ"
      },
      "source": [
        "# **06 - Neural Network**\n",
        "\n"
      ]
    },
    {
      "cell_type": "markdown",
      "metadata": {
        "id": "DFdQ_I_Mi0gm"
      },
      "source": [
        "> Neural Networks are incredibly popular and powerful machine learning models. They often perform well in cases where we have a lot of features as they automatically do feature engineering without requiring domain knowledge to restructure the features. **Neural networks often work well without you needing to use domain knowledge to do any feature engineering.**\n",
        "\n",
        "### **Neuron Computations**\n",
        "\n",
        "- $$w_1x_1 +w_2x_2 + b$$\n",
        "- $$sigmoid(x)=\\frac{1}{1+e^{-x}}$$ \n",
        "- ![sig_func](https://api.sololearn.com/DownloadFile?id=4098)\n",
        "- $$y=f\\left(w_{1} x_{1}+w_{2} x_{2}+b\\right)=\\frac{1}{1+e^{-\\left(w_{1} x_{1}+w_{2} x_{2}+b\\right)}}$$\n",
        "\n"
      ]
    },
    {
      "cell_type": "markdown",
      "metadata": {
        "id": "TX_lgu5gpD9B"
      },
      "source": [
        "### **Loss**\n",
        "\n",
        "$$\n",
        "\\text{Cross Entropy}=\\left\\{\\begin{array}{ll}\n",
        "p & \\text { if } y=1 \\\\\n",
        "1-p & \\text { if } y=0\n",
        "\\end{array}\\right.\n",
        "$$\n",
        "\n",
        "$$\n",
        "\\begin{array}{|r|r|r|}\n",
        "\\hline \\text { Target } & \\begin{array}{r}\n",
        "\\text { Model 1 } \\\\\n",
        "\\text { Prediction }\n",
        "\\end{array} & \\begin{array}{r}\n",
        "\\text { Model 2 } \\\\\n",
        "\\text { Prediction }\n",
        "\\end{array} \\\\\n",
        "\\hline 1 & 0.6 & 0.5 \\\\\n",
        "\\hline 1 & 0.8 & 0.9 \\\\\n",
        "\\hline 0 & 0.3 & 0.1 \\\\\n",
        "\\hline 0 & 0.4 & 0.5 \\\\\n",
        "\\hline\n",
        "\\end{array}\n",
        "$$\n",
        "\n",
        "\n",
        "The cross entropy for __model-1__ is as follows:\n",
        "\n",
        "![m1](https://api.sololearn.com/DownloadFile?id=3964)\n",
        "\n",
        "\n",
        "The cross entropy for __model-2__ is as follows:\n",
        "\n",
        "![m2](https://api.sololearn.com/DownloadFile?id=3965)\n",
        "\n",
        "contentImageCross entropy will be higher the better the model is, thus since model 2 has higher cross entropy than model 1, it is the better model.\n",
        "\n"
      ]
    },
    {
      "cell_type": "markdown",
      "metadata": {
        "id": "7vYlYUcntkSn"
      },
      "source": [
        "### __Backpropagation__\n",
        "\n",
        "A neural network has a lot of parameters that we can control. There are several coefficients for each node and there can be a lot of nodes! The process for updating these values to converge on the best possible model is quite complicated. The neural network works backwards from the output node iteratively updating the coefficients of the nodes. This process of moving backwards through the neural network is called backpropagation or backprop.\n",
        "\n",
        "We won't go through all the details here as it involves calculating partial derivatives, but the idea is that we initialize all the coefficient values and iteratively change the values so that at every iteration we see improvement in the loss function. Eventually we cannot improve the loss function anymore and then we have found our optimal model.\n",
        "\n",
        ">Before we create a neural network we fix the number of nodes and number of layers. Then we use backprop to iteratively update all the coefficient values until we converge on an optimal neural network."
      ]
    },
    {
      "cell_type": "code",
      "execution_count": 71,
      "metadata": {
        "colab": {
          "base_uri": "https://localhost:8080/",
          "height": 282
        },
        "id": "kHE3bMxhmLQh",
        "outputId": "25850a6f-779b-40ba-c313-d980c549b2f5"
      },
      "outputs": [
        {
          "data": {
            "image/png": "[encoded data removed]",
            "text/plain": [
              "<Figure size 432x288 with 1 Axes>"
            ]
          },
          "metadata": {
            "tags": []
          },
          "output_type": "display_data"
        }
      ],
      "source": [
        "import matplotlib.pyplot as plt\n",
        "from sklearn.datasets import make_classification\n",
        "\n",
        "X, y = make_classification(n_features=2,\n",
        "                           n_redundant=0,\n",
        "                           n_informative=2,\n",
        "                           random_state=3)\n",
        "\n",
        "\n",
        "plt.scatter(X[y==0][:, 0], X[y==0][:, 1], s=100, edgecolors='k')\n",
        "plt.scatter(X[y==1][:, 0], X[y==1][:, 1], s=100, edgecolors='k', marker='^')\n",
        "plt.show()"
      ]
    },
    {
      "cell_type": "markdown",
      "metadata": {
        "id": "zfJx4yeEvZXx"
      },
      "source": [
        "Scikit-learn has a couple other functions besides __`make_classification`__ for making classification datasets with different properties. Look at __`make_circles`__ and __`make_moons`__ if you want to play around with more artificial datasets.\n"
      ]
    },
    {
      "cell_type": "code",
      "execution_count": 72,
      "metadata": {
        "colab": {
          "base_uri": "https://localhost:8080/"
        },
        "id": "tM4A3MVPvzfQ",
        "outputId": "484f4529-3666-44bb-9c7e-358faf4c0657"
      },
      "outputs": [
        {
          "name": "stdout",
          "output_type": "stream",
          "text": [
            "accuracy: 0.68\n"
          ]
        }
      ],
      "source": [
        "from sklearn.model_selection import train_test_split\n",
        "from sklearn.neural_network import MLPClassifier\n",
        "from sklearn.datasets import make_classification\n",
        "\n",
        "X, y = make_classification(n_features=2,\n",
        "                           n_redundant=0,\n",
        "                           n_informative=2,\n",
        "                           random_state=3)\n",
        "\n",
        "X_train, X_test, y_train, y_test = train_test_split(X, y, random_state=3)\n",
        "mlp = MLPClassifier(max_iter=1000)\n",
        "mlp.fit(X_train, y_train)\n",
        "print(\"accuracy:\", mlp.score(X_test, y_test))"
      ]
    },
    {
      "cell_type": "markdown",
      "metadata": {
        "id": "628iZU2jwIIT"
      },
      "source": [
        ">Neural networks are incredibly complicated, but scikit-learn makes them very approachable to use!"
      ]
    },
    {
      "cell_type": "code",
      "execution_count": 73,
      "metadata": {
        "colab": {
          "base_uri": "https://localhost:8080/"
        },
        "id": "dqfWBBhixz6_",
        "outputId": "6f8bf03b-d6dd-4e63-aadb-0670179e311e"
      },
      "outputs": [
        {
          "name": "stdout",
          "output_type": "stream",
          "text": [
            "accuracy: 0.76\n"
          ]
        }
      ],
      "source": [
        "from sklearn.model_selection import train_test_split\n",
        "from sklearn.neural_network import MLPClassifier\n",
        "from sklearn.datasets import make_classification\n",
        "\n",
        "X, y = make_classification(n_features=2,\n",
        "                           n_redundant=0,\n",
        "                           n_informative=2,\n",
        "                           random_state=3)\n",
        "X_train, X_test, y_train, y_test = train_test_split(X, y, random_state=3)\n",
        "\n",
        "mlp = MLPClassifier(max_iter=1000, # number of iterations.\n",
        "                    hidden_layer_sizes=(100, 50),\n",
        "                    alpha=0.0001,  # default 0.0001.\n",
        "                    solver='adam', # lbfgs', 'sgd' & 'adam'\n",
        "                    random_state=3)\n",
        "\n",
        "mlp.fit(X_train, y_train)\n",
        "print(\"accuracy:\", mlp.score(X_test, y_test))"
      ]
    },
    {
      "cell_type": "markdown",
      "metadata": {
        "id": "qe8uclQa-NfX"
      },
      "source": [
        "### __Predicting Handwritten Digits__"
      ]
    },
    {
      "cell_type": "code",
      "execution_count": 74,
      "metadata": {
        "colab": {
          "base_uri": "https://localhost:8080/",
          "height": 481
        },
        "id": "AxPW18N--QUN",
        "outputId": "ee54c674-57a3-48a9-bd4c-37531272f676"
      },
      "outputs": [
        {
          "name": "stdout",
          "output_type": "stream",
          "text": [
            "(360, 64) (360,)\n",
            "[ 0.  0.  5. 13.  9.  1.  0.  0.  0.  0. 13. 15. 10. 15.  5.  0.  0.  3.\n",
            " 15.  2.  0. 11.  8.  0.  0.  4. 12.  0.  0.  8.  8.  0.  0.  5.  8.  0.\n",
            "  0.  9.  8.  0.  0.  4. 11.  0.  1. 12.  7.  0.  0.  2. 14.  5. 10. 12.\n",
            "  0.  0.  0.  0.  6. 13. 10.  0.  0.  0.]\n",
            "0\n",
            "[[ 0.  0.  5. 13.  9.  1.  0.  0.]\n",
            " [ 0.  0. 13. 15. 10. 15.  5.  0.]\n",
            " [ 0.  3. 15.  2.  0. 11.  8.  0.]\n",
            " [ 0.  4. 12.  0.  0.  8.  8.  0.]\n",
            " [ 0.  5.  8.  0.  0.  9.  8.  0.]\n",
            " [ 0.  4. 11.  0.  1. 12.  7.  0.]\n",
            " [ 0.  2. 14.  5. 10. 12.  0.  0.]\n",
            " [ 0.  0.  6. 13. 10.  0.  0.  0.]]\n"
          ]
        },
        {
          "data": {
            "image/png": "[encoded data removed]",
            "text/plain": [
              "<Figure size 288x288 with 1 Axes>"
            ]
          },
          "metadata": {
            "tags": []
          },
          "output_type": "display_data"
        }
      ],
      "source": [
        "import matplotlib.pyplot as plt\n",
        "from sklearn.datasets import load_digits\n",
        "X, y = load_digits(n_class=2, return_X_y=True)\n",
        "\n",
        "print(X.shape, y.shape)\n",
        "print(X[0])\n",
        "print(y[0])\n",
        "print(X[0].reshape(8, 8))\n",
        "\n",
        "plt.matshow(X[0].reshape(8, 8), cmap=plt.cm.gray)\n",
        "plt.xticks(())  # remove x tick marks\n",
        "plt.yticks(())  # remove y tick marks\n",
        "plt.show()"
      ]
    },
    {
      "cell_type": "markdown",
      "metadata": {
        "id": "Br2-38ru-ewP"
      },
      "source": [
        ">___We see that we have `300` datapoints and each datapoint has `64` features. We have `64` features because the image is `8 x 8 pixels` and we have `1` feature per pixel. The value is on a grayscale where `0` is black and `16` is white.___"
      ]
    },
    {
      "cell_type": "markdown",
      "metadata": {
        "id": "XcqkcpSZ_F0p"
      },
      "source": [
        "### **MLP for MNIST Dataset**"
      ]
    },
    {
      "cell_type": "code",
      "execution_count": 75,
      "metadata": {
        "colab": {
          "base_uri": "https://localhost:8080/",
          "height": 497
        },
        "id": "GjU2uPCp-hMW",
        "outputId": "6ed50f18-d5ab-4fc1-8b60-50527d4e98f0"
      },
      "outputs": [
        {
          "name": "stdout",
          "output_type": "stream",
          "text": [
            "(360, 64) (360,)\n",
            "[ 0.  0.  5. 13.  9.  1.  0.  0.  0.  0. 13. 15. 10. 15.  5.  0.  0.  3.\n",
            " 15.  2.  0. 11.  8.  0.  0.  4. 12.  0.  0.  8.  8.  0.  0.  5.  8.  0.\n",
            "  0.  9.  8.  0.  0.  4. 11.  0.  1. 12.  7.  0.  0.  2. 14.  5. 10. 12.\n",
            "  0.  0.  0.  0.  6. 13. 10.  0.  0.  0.]\n",
            "0\n",
            "[[ 0.  0.  5. 13.  9.  1.  0.  0.]\n",
            " [ 0.  0. 13. 15. 10. 15.  5.  0.]\n",
            " [ 0.  3. 15.  2.  0. 11.  8.  0.]\n",
            " [ 0.  4. 12.  0.  0.  8.  8.  0.]\n",
            " [ 0.  5.  8.  0.  0.  9.  8.  0.]\n",
            " [ 0.  4. 11.  0.  1. 12.  7.  0.]\n",
            " [ 0.  2. 14.  5. 10. 12.  0.  0.]\n",
            " [ 0.  0.  6. 13. 10.  0.  0.  0.]]\n"
          ]
        },
        {
          "data": {
            "image/png": "[encoded data removed]",
            "text/plain": [
              "<Figure size 288x288 with 1 Axes>"
            ]
          },
          "metadata": {
            "tags": []
          },
          "output_type": "display_data"
        },
        {
          "name": "stdout",
          "output_type": "stream",
          "text": [
            "[0]\n"
          ]
        }
      ],
      "source": [
        "import matplotlib.pyplot as plt\n",
        "from sklearn.datasets import load_digits\n",
        "\n",
        "X, y = load_digits(n_class=2, return_X_y=True)\n",
        "X_train, X_test, y_train, y_test = train_test_split(X, y, random_state=2)\n",
        "mlp = MLPClassifier()\n",
        "mlp.fit(X_train, y_train)\n",
        "\n",
        "print(X.shape, y.shape)\n",
        "print(X[0])\n",
        "print(y[0])\n",
        "print(X[0].reshape(8, 8))\n",
        "\n",
        "plt.matshow(X[0].reshape(8, 8), cmap=plt.cm.gray)\n",
        "plt.xticks(())  # remove x tick marks\n",
        "plt.yticks(())  # remove y tick marks\n",
        "plt.show()\n",
        "\n",
        "x = X_test[0]\n",
        "print(mlp.predict([x]))"
      ]
    },
    {
      "cell_type": "code",
      "execution_count": 76,
      "metadata": {
        "colab": {
          "base_uri": "https://localhost:8080/",
          "height": 270
        },
        "id": "uipuGJW1_olK",
        "outputId": "f71fb8b2-04f6-4f96-8453-8af43ed7aa2d"
      },
      "outputs": [
        {
          "data": {
            "image/png": "[encoded data removed]",
            "text/plain": [
              "<Figure size 288x288 with 1 Axes>"
            ]
          },
          "metadata": {
            "tags": []
          },
          "output_type": "display_data"
        },
        {
          "name": "stdout",
          "output_type": "stream",
          "text": [
            "[1]\n"
          ]
        }
      ],
      "source": [
        "x = X_test[1]\n",
        "plt.matshow(x.reshape(8, 8), cmap=plt.cm.gray)\n",
        "plt.xticks(())\n",
        "plt.yticks(())\n",
        "plt.show()\n",
        "print(mlp.predict([x]))"
      ]
    },
    {
      "cell_type": "code",
      "execution_count": 77,
      "metadata": {
        "colab": {
          "base_uri": "https://localhost:8080/",
          "height": 270
        },
        "id": "f1QJlrHB_s3a",
        "outputId": "17d747e7-e777-496c-d2ea-bc0fb390af21"
      },
      "outputs": [
        {
          "data": {
            "image/png": "[encoded data removed]",
            "text/plain": [
              "<Figure size 288x288 with 1 Axes>"
            ]
          },
          "metadata": {
            "tags": []
          },
          "output_type": "display_data"
        },
        {
          "name": "stdout",
          "output_type": "stream",
          "text": [
            "[1]\n"
          ]
        }
      ],
      "source": [
        "x = X_test[3]\n",
        "plt.matshow(x.reshape(8, 8), cmap=plt.cm.gray)\n",
        "plt.xticks(())\n",
        "plt.yticks(())\n",
        "plt.show()\n",
        "print(mlp.predict([x]))"
      ]
    },
    {
      "cell_type": "markdown",
      "metadata": {
        "id": "_OwT7UMgAQ2E"
      },
      "source": [
        "### __Classifying all 10 Digits__"
      ]
    },
    {
      "cell_type": "code",
      "execution_count": 78,
      "metadata": {
        "colab": {
          "base_uri": "https://localhost:8080/",
          "height": 432
        },
        "id": "EZueEHrm_uCH",
        "outputId": "fda816de-9eec-4a18-bf12-6d25bd654205"
      },
      "outputs": [
        {
          "name": "stdout",
          "output_type": "stream",
          "text": [
            "0.96\n",
            "[[ 0  0 11  7  0  0  0  0]\n",
            " [ 0  5 16  3  2 14  3  0]\n",
            " [ 0  9 15  0 12 15  0  0]\n",
            " [ 0  6 16 15 16  5  0  0]\n",
            " [ 0  0  6 15 11  0  0  0]\n",
            " [ 0  0  1 16  4  0  0  0]\n",
            " [ 0  0  9 12  0  0  0  0]\n",
            " [ 0  0 13 10  0  0  0  0]]\n"
          ]
        },
        {
          "data": {
            "image/png": "[encoded data removed]",
            "text/plain": [
              "<Figure size 288x288 with 1 Axes>"
            ]
          },
          "metadata": {
            "tags": []
          },
          "output_type": "display_data"
        },
        {
          "name": "stdout",
          "output_type": "stream",
          "text": [
            "true value: 4\n",
            "predicted value: 9\n"
          ]
        }
      ],
      "source": [
        "from sklearn.datasets import load_digits\n",
        "from sklearn.model_selection import train_test_split\n",
        "from sklearn.neural_network import MLPClassifier\n",
        "\n",
        "X, y = load_digits(return_X_y=True)\n",
        "X_train, X_test, y_train, y_test = train_test_split(X, y, random_state=2)\n",
        "mlp = MLPClassifier(random_state=2)\n",
        "mlp.fit(X_train, y_train)\n",
        "\n",
        "print(mlp.score(X_test, y_test))\n",
        "\n",
        "y_pred = mlp.predict(X_test)\n",
        "incorrect = X_test[y_pred != y_test]\n",
        "incorrect_true = y_test[y_pred != y_test]\n",
        "incorrect_pred = y_pred[y_pred != y_test]\n",
        "\n",
        "j = 0\n",
        "print(incorrect[j].reshape(8, 8).astype(int))\n",
        "\n",
        "plt.matshow(incorrect[j].reshape(8, 8), cmap=plt.cm.gray)\n",
        "plt.xticks(())\n",
        "plt.yticks(())\n",
        "plt.show()\n",
        "\n",
        "print(\"true value:\", incorrect_true[j])\n",
        "print(\"predicted value:\", incorrect_pred[j])"
      ]
    },
    {
      "cell_type": "markdown",
      "metadata": {
        "id": "7fTnt8t_ArkX"
      },
      "source": [
        "> __You can modify the code to see all of the datapoints the model predicted incorrectly.__"
      ]
    },
    {
      "cell_type": "markdown",
      "metadata": {
        "id": "lsA95aneBnoR"
      },
      "source": [
        "### __Visualizing MLP Weights__\n",
        "\n",
        "\n",
        "For this lesson, we will use a more granular version of the MNIST dataset. Instead of using the version in `scikit-learn` which has `64 pixel` images, we will use a version from Open ML that has `784 pixels` (__28 x 28__).\n",
        "\n",
        "[Open ML](www.openml.org) has a database of large datasets that can be used for a variety of machine learning problems. Scikit-learn has a function fetch_openml for directly downloading datasets from the Open ML database.\n",
        "\n",
        "\n"
      ]
    },
    {
      "cell_type": "code",
      "execution_count": 79,
      "metadata": {
        "colab": {
          "base_uri": "https://localhost:8080/"
        },
        "id": "mt2O8bVZCS5A",
        "outputId": "378c8dc3-c17c-49cf-e948-a53a7becd756"
      },
      "outputs": [
        {
          "name": "stdout",
          "output_type": "stream",
          "text": [
            "(70000, 784) (70000,)\n",
            "0.0 255.0\n",
            "['5' '0' '4' '1' '9']\n"
          ]
        },
        {
          "data": {
            "text/plain": [
              "MLPClassifier(activation='relu', alpha=0.0001, batch_size='auto', beta_1=0.9,\n",
              "              beta_2=0.999, early_stopping=False, epsilon=1e-08,\n",
              "              hidden_layer_sizes=(6,), learning_rate='constant',\n",
              "              learning_rate_init=0.001, max_fun=15000, max_iter=200,\n",
              "              momentum=0.9, n_iter_no_change=10, nesterovs_momentum=True,\n",
              "              power_t=0.5, random_state=2, shuffle=True, solver='sgd',\n",
              "              tol=0.0001, validation_fraction=0.1, verbose=False,\n",
              "              warm_start=False)"
            ]
          },
          "execution_count": 79,
          "metadata": {
            "tags": []
          },
          "output_type": "execute_result"
        }
      ],
      "source": [
        "import numpy as np\n",
        "from sklearn.datasets import fetch_openml\n",
        "X, y = fetch_openml('mnist_784', version=1, return_X_y=True)\n",
        "\n",
        "print(X.shape, y.shape)\n",
        "print(np.min(X), np.max(X))\n",
        "print(y[0:5])\n",
        "\n",
        "X5 = X[y <= '3']\n",
        "y5 = y[y <= '3']\n",
        "\n",
        "mlp=MLPClassifier(\n",
        "    hidden_layer_sizes=(6,),\n",
        "    max_iter=200, alpha=1e-4,\n",
        "    solver='sgd', random_state=2)\n",
        "\n",
        "mlp.fit(X5, y5)"
      ]
    },
    {
      "cell_type": "code",
      "execution_count": 80,
      "metadata": {
        "colab": {
          "base_uri": "https://localhost:8080/"
        },
        "id": "gwZILhv5KsUG",
        "outputId": "06d6f45c-0bae-462f-e3c6-922e3db3b5b6"
      },
      "outputs": [
        {
          "data": {
            "text/plain": [
              "[array([[-0.01115534, -0.08262553,  0.00865559, -0.01127255, -0.01387896,\n",
              "         -0.02957066],\n",
              "        [-0.0514763 ,  0.02078754, -0.03491786, -0.04063929,  0.02111222,\n",
              "          0.00507913],\n",
              "        [-0.06368846,  0.00236651, -0.05499845,  0.04973059,  0.06169377,\n",
              "         -0.00100445],\n",
              "        ...,\n",
              "        [ 0.03318702,  0.03072515,  0.04947607, -0.07695762, -0.02204075,\n",
              "         -0.00295464],\n",
              "        [ 0.03754411,  0.02460094,  0.0322499 ,  0.0428519 , -0.07510388,\n",
              "         -0.05427218],\n",
              "        [-0.06503535, -0.07023427, -0.0286314 , -0.01949424,  0.07608702,\n",
              "         -0.05706838]]),\n",
              " array([[ 0.16384145, -2.14547836,  0.13976137,  0.98946609],\n",
              "        [-0.03473906, -0.21457699, -0.31141588,  0.89645098],\n",
              "        [-2.56152278, -0.46388355,  1.55135315,  1.35594028],\n",
              "        [ 1.322879  , -2.67009494,  0.18579227, -0.01939224],\n",
              "        [ 0.08891257, -0.70612655, -0.53426081, -0.08850544],\n",
              "        [ 0.1304732 ,  0.09861881, -0.7800308 , -0.21692404]])]"
            ]
          },
          "execution_count": 80,
          "metadata": {
            "tags": []
          },
          "output_type": "execute_result"
        }
      ],
      "source": [
        "mlp.coefs_"
      ]
    },
    {
      "cell_type": "code",
      "execution_count": 81,
      "metadata": {
        "colab": {
          "base_uri": "https://localhost:8080/"
        },
        "id": "Tpz85MUWPHeo",
        "outputId": "ff9df406-6d22-47af-fac3-99a0334804b7"
      },
      "outputs": [
        {
          "data": {
            "text/plain": [
              "2"
            ]
          },
          "execution_count": 81,
          "metadata": {
            "tags": []
          },
          "output_type": "execute_result"
        }
      ],
      "source": [
        "len(mlp.coefs_)"
      ]
    },
    {
      "cell_type": "markdown",
      "metadata": {
        "id": "o1_SpwL1PYJ3"
      },
      "source": [
        "The **two** elements in the list correspond to the two layers: the **hidden layer** and the **output layer**."
      ]
    },
    {
      "cell_type": "code",
      "execution_count": 82,
      "metadata": {
        "colab": {
          "base_uri": "https://localhost:8080/"
        },
        "id": "Mm5XkSb7PHoS",
        "outputId": "c86719eb-5386-4e91-884a-49c30fc8773e"
      },
      "outputs": [
        {
          "data": {
            "text/plain": [
              "(784, 6)"
            ]
          },
          "execution_count": 82,
          "metadata": {
            "tags": []
          },
          "output_type": "execute_result"
        }
      ],
      "source": [
        "mlp.coefs_[0].shape"
      ]
    },
    {
      "cell_type": "markdown",
      "metadata": {
        "id": "y_yh445qWpqg"
      },
      "source": [
        "### __Visualizing the Hidden Layer__"
      ]
    },
    {
      "cell_type": "code",
      "execution_count": 83,
      "metadata": {
        "colab": {
          "base_uri": "https://localhost:8080/",
          "height": 468
        },
        "id": "XlNhgEw9WmET",
        "outputId": "657aa6e2-3c82-410f-dc14-1f56d3b37c3f"
      },
      "outputs": [
        {
          "data": {
            "image/png": "[encoded data removed]",
            "text/plain": [
              "<Figure size 864x504 with 6 Axes>"
            ]
          },
          "metadata": {
            "tags": []
          },
          "output_type": "display_data"
        }
      ],
      "source": [
        "fig, axes = plt.subplots(2, 3, figsize=(12, 7))\n",
        "for i, ax in enumerate(axes.ravel()):\n",
        "    coef = mlp.coefs_[0][:, i]\n",
        "    ax.matshow(coef.reshape(28, 28), cmap=plt.cm.gray)\n",
        "    ax.set_xticks(())\n",
        "    ax.set_yticks(())\n",
        "    ax.set_title(i + 1)\n",
        "plt.show()"
      ]
    },
    {
      "cell_type": "markdown",
      "metadata": {
        "id": "dM7IMkOHXH3w"
      },
      "source": [
        "You can see that nodes 4 and 6 are determining if the digit is a 3. Node 1 is determining if the digit is a 0 or a 2 since you can see both of those values in the image. Not every hidden node will have an obvious use.\n"
      ]
    },
    {
      "cell_type": "markdown",
      "metadata": {
        "id": "xTu4ZSpWX6F4"
      },
      "source": [
        "### __Machine Learning - The Sigmoid Function__\n",
        "```python\n",
        "w1, w2, b, x1, x2 = [float(x) for x in input().split()]\n",
        "\n",
        "import numpy as np\n",
        "import math\n",
        "x = w1*x1+w2*x2+b\n",
        "z = 1/(1 + np.exp(-x)) \n",
        "print(round(z, 4))\n",
        "```"
      ]
    },
    {
      "cell_type": "markdown",
      "metadata": {
        "id": "KH-rnhQDsO2O"
      },
      "source": [
        "#### $\\color{skyblue}{\\textbf{Connect with me:}}$\n",
        "\n",
        "\n",
        "[<img align=\"left\" src=\"https://cdn4.iconfinder.com/data/icons/social-media-icons-the-circle-set/48/twitter_circle-512.png\" width=\"32px\"/>][twitter]\n",
        "[<img align=\"left\" src=\"https://cdn-icons-png.flaticon.com/512/145/145807.png\" width=\"32px\"/>][linkedin]\n",
        "[<img align=\"left\" src=\"https://d31pjuirwqbaad.cloudfront.net/wp-content/uploads/2019/08/kissclipart-website-icon-png-clipart-computer-icons-ac62ecb3b8ae4d41.png?x61175\" width=\"32px\"/>][Portfolio]\n",
        "\n",
        "[twitter]: https://twitter.com/F4izy\n",
        "[linkedin]: https://www.linkedin.com/in/mohd-faizy/\n",
        "[Portfolio]: https://mohdfaizy.com/\n"
      ]
    }
  ],
  "metadata": {
    "colab": {
      "authorship_tag": "ABX9TyNsGNqWM+Hkt6OCu1xH7rCa",
      "collapsed_sections": [],
      "include_colab_link": true,
      "name": "OneNote_Machine_Learning.ipynb",
      "provenance": [],
      "toc_visible": true
    },
    "kernelspec": {
      "display_name": "Python 3",
      "name": "python3"
    },
    "language_info": {
      "name": "python"
    }
  },
  "nbformat": 4,
  "nbformat_minor": 0
}
